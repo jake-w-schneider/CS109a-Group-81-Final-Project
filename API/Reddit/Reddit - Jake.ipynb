{
 "cells": [
  {
   "cell_type": "markdown",
   "metadata": {},
   "source": [
    "**Jake's Reddit API**<br>\n",
    "*Data Science cs109a Group Project*<br>\n",
    "November 17, 2019"
   ]
  },
  {
   "cell_type": "markdown",
   "metadata": {},
   "source": [
    "Link: https://praw.readthedocs.io/en/latest/getting_started/authentication.html<br>\n",
    "Location: https://www.reddit.com/dev/api/#GET_about_{location}<br>\n",
    "Towards Data Science: https://towardsdatascience.com/scraping-reddit-data-1c0af3040768"
   ]
  },
  {
   "cell_type": "markdown",
   "metadata": {},
   "source": [
    "----"
   ]
  },
  {
   "cell_type": "code",
   "execution_count": 1,
   "metadata": {},
   "outputs": [],
   "source": [
    "import sys"
   ]
  },
  {
   "cell_type": "code",
   "execution_count": 5,
   "metadata": {},
   "outputs": [],
   "source": [
    "import config_reddit\n",
    "\n",
    "client_id = config_reddit.client_id\n",
    "client_secret = config_reddit.client_secret\n",
    "user_agent = \"jake_schneider1\""
   ]
  },
  {
   "cell_type": "code",
   "execution_count": 6,
   "metadata": {},
   "outputs": [],
   "source": [
    "import praw\n",
    "import pandas as pd\n",
    "import datetime as dt\n",
    "\n",
    "\n",
    "reddit = praw.Reddit(client_id=client_id,\n",
    "                     client_secret=client_secret,\n",
    "                     user_agent=user_agent)\n",
    "\n"
   ]
  },
  {
   "cell_type": "code",
   "execution_count": 7,
   "metadata": {},
   "outputs": [
    {
     "name": "stdout",
     "output_type": "stream",
     "text": [
      "True\n"
     ]
    }
   ],
   "source": [
    "print(reddit.read_only)  # Output: True"
   ]
  },
  {
   "cell_type": "code",
   "execution_count": 8,
   "metadata": {},
   "outputs": [],
   "source": [
    "subreddit = reddit.subreddit('politics')"
   ]
  },
  {
   "cell_type": "code",
   "execution_count": 9,
   "metadata": {},
   "outputs": [
    {
     "name": "stdout",
     "output_type": "stream",
     "text": [
      "Megathread: Democrat John Bel Edwards re-elected governor of Louisiana\n",
      "Discussion Thread: Democratic Presidential Primary Polling - November 2019\n",
      "Democrats Not Headed Too Far Left, Says Ocasio-Cortez, 'We Are Bringing the Party Home': \"I want to be the party of the New Deal again,\" says the progressive congresswoman from New York. \"The party of the Civil Rights Act, the one that electrified this nation and fights for all people.\"\n",
      "Trump Replies ‘See You Soon’ After Kim Jong-un Calls for Biden to Be ‘Beaten to Death With a Stick’\n",
      "Democrats seize on report of FedEx's $0 tax bill to slam Trump's tax plan\n",
      "Schumer says Trump should testify -- not tweet -- in impeachment investigation\n",
      "Pelosi: 'I find it a waste of my time' to 'just be talking about what Republicans say'\n",
      "Chris Wallace Accuses Top Republican of ‘Very Badly’ Mischaracterizing Impeachment Testimony\n",
      "Chuck Todd Confronts GOP Senator: You Blame ‘Everybody’ but Trump on Ukraine Scandal\n",
      "Democrats invite Trump to testify in impeachment inquiry\n"
     ]
    }
   ],
   "source": [
    "for submission in subreddit.hot(limit=10):\n",
    "    print(submission.title)"
   ]
  },
  {
   "cell_type": "code",
   "execution_count": 10,
   "metadata": {},
   "outputs": [],
   "source": [
    "top_subreddit = subreddit.top(limit=5000)"
   ]
  },
  {
   "cell_type": "code",
   "execution_count": 11,
   "metadata": {},
   "outputs": [],
   "source": [
    "topics_dict = { \"title\":[], \n",
    "                \"score\":[], \n",
    "                \"id\":[], \"url\":[],  \n",
    "                \"comms_num\": [], \n",
    "                \"created\": [], \n",
    "                \"body\":[]}"
   ]
  },
  {
   "cell_type": "code",
   "execution_count": 12,
   "metadata": {},
   "outputs": [],
   "source": [
    "for submission in top_subreddit:\n",
    "    topics_dict[\"title\"].append(submission.title)\n",
    "    topics_dict[\"score\"].append(submission.score)\n",
    "    topics_dict[\"id\"].append(submission.id)\n",
    "    topics_dict[\"url\"].append(submission.url)\n",
    "    topics_dict[\"comms_num\"].append(submission.num_comments)\n",
    "    topics_dict[\"created\"].append(submission.created)\n",
    "    topics_dict[\"body\"].append(submission.selftext)"
   ]
  },
  {
   "cell_type": "code",
   "execution_count": 14,
   "metadata": {},
   "outputs": [],
   "source": [
    "topics_data = pd.DataFrame(topics_dict)"
   ]
  },
  {
   "cell_type": "code",
   "execution_count": 15,
   "metadata": {},
   "outputs": [],
   "source": [
    "def get_date(created):\n",
    "    return dt.datetime.fromtimestamp(created)"
   ]
  },
  {
   "cell_type": "code",
   "execution_count": 16,
   "metadata": {},
   "outputs": [],
   "source": [
    "_timestamp = topics_data[\"created\"].apply(get_date)"
   ]
  },
  {
   "cell_type": "code",
   "execution_count": 17,
   "metadata": {},
   "outputs": [],
   "source": [
    "topics_data = topics_data.assign(timestamp = _timestamp)"
   ]
  },
  {
   "cell_type": "code",
   "execution_count": 18,
   "metadata": {},
   "outputs": [
    {
     "data": {
      "text/html": [
       "<div>\n",
       "<style scoped>\n",
       "    .dataframe tbody tr th:only-of-type {\n",
       "        vertical-align: middle;\n",
       "    }\n",
       "\n",
       "    .dataframe tbody tr th {\n",
       "        vertical-align: top;\n",
       "    }\n",
       "\n",
       "    .dataframe thead th {\n",
       "        text-align: right;\n",
       "    }\n",
       "</style>\n",
       "<table border=\"1\" class=\"dataframe\">\n",
       "  <thead>\n",
       "    <tr style=\"text-align: right;\">\n",
       "      <th></th>\n",
       "      <th>title</th>\n",
       "      <th>score</th>\n",
       "      <th>id</th>\n",
       "      <th>url</th>\n",
       "      <th>comms_num</th>\n",
       "      <th>created</th>\n",
       "      <th>body</th>\n",
       "      <th>timestamp</th>\n",
       "    </tr>\n",
       "  </thead>\n",
       "  <tbody>\n",
       "    <tr>\n",
       "      <td>0</td>\n",
       "      <td>Kim Davis, clerk who refused to sign marriage ...</td>\n",
       "      <td>101999</td>\n",
       "      <td>9uuhl3</td>\n",
       "      <td>https://www.kentucky.com/news/politics-governm...</td>\n",
       "      <td>2763</td>\n",
       "      <td>1.541581e+09</td>\n",
       "      <td></td>\n",
       "      <td>2018-11-07 04:02:55</td>\n",
       "    </tr>\n",
       "    <tr>\n",
       "      <td>1</td>\n",
       "      <td>Trump revealed highly classified information t...</td>\n",
       "      <td>99352</td>\n",
       "      <td>6bd42j</td>\n",
       "      <td>https://www.washingtonpost.com/world/national-...</td>\n",
       "      <td>20827</td>\n",
       "      <td>1.494911e+09</td>\n",
       "      <td></td>\n",
       "      <td>2017-05-16 01:03:22</td>\n",
       "    </tr>\n",
       "    <tr>\n",
       "      <td>2</td>\n",
       "      <td>Trump Ordered Mueller Fired, but Backed Off Wh...</td>\n",
       "      <td>95191</td>\n",
       "      <td>7t12e6</td>\n",
       "      <td>https://www.nytimes.com/2018/01/25/us/politics...</td>\n",
       "      <td>14523</td>\n",
       "      <td>1.516958e+09</td>\n",
       "      <td></td>\n",
       "      <td>2018-01-26 04:16:11</td>\n",
       "    </tr>\n",
       "    <tr>\n",
       "      <td>3</td>\n",
       "      <td>Jon Stewart Goes Off On Congress During 9/11 H...</td>\n",
       "      <td>93392</td>\n",
       "      <td>bzenag</td>\n",
       "      <td>https://www.youtube.com/watch?v=iQkMJgaHAkY</td>\n",
       "      <td>6528</td>\n",
       "      <td>1.560299e+09</td>\n",
       "      <td></td>\n",
       "      <td>2019-06-11 20:30:15</td>\n",
       "    </tr>\n",
       "    <tr>\n",
       "      <td>4</td>\n",
       "      <td>California bans private prisons – including Ic...</td>\n",
       "      <td>91052</td>\n",
       "      <td>d3bwrf</td>\n",
       "      <td>https://www.theguardian.com/us-news/2019/sep/1...</td>\n",
       "      <td>3257</td>\n",
       "      <td>1.568341e+09</td>\n",
       "      <td></td>\n",
       "      <td>2019-09-12 22:12:21</td>\n",
       "    </tr>\n",
       "  </tbody>\n",
       "</table>\n",
       "</div>"
      ],
      "text/plain": [
       "                                               title   score      id  \\\n",
       "0  Kim Davis, clerk who refused to sign marriage ...  101999  9uuhl3   \n",
       "1  Trump revealed highly classified information t...   99352  6bd42j   \n",
       "2  Trump Ordered Mueller Fired, but Backed Off Wh...   95191  7t12e6   \n",
       "3  Jon Stewart Goes Off On Congress During 9/11 H...   93392  bzenag   \n",
       "4  California bans private prisons – including Ic...   91052  d3bwrf   \n",
       "\n",
       "                                                 url  comms_num       created  \\\n",
       "0  https://www.kentucky.com/news/politics-governm...       2763  1.541581e+09   \n",
       "1  https://www.washingtonpost.com/world/national-...      20827  1.494911e+09   \n",
       "2  https://www.nytimes.com/2018/01/25/us/politics...      14523  1.516958e+09   \n",
       "3        https://www.youtube.com/watch?v=iQkMJgaHAkY       6528  1.560299e+09   \n",
       "4  https://www.theguardian.com/us-news/2019/sep/1...       3257  1.568341e+09   \n",
       "\n",
       "  body           timestamp  \n",
       "0      2018-11-07 04:02:55  \n",
       "1      2017-05-16 01:03:22  \n",
       "2      2018-01-26 04:16:11  \n",
       "3      2019-06-11 20:30:15  \n",
       "4      2019-09-12 22:12:21  "
      ]
     },
     "execution_count": 18,
     "metadata": {},
     "output_type": "execute_result"
    }
   ],
   "source": [
    "topics_data.head()"
   ]
  },
  {
   "cell_type": "markdown",
   "metadata": {},
   "source": [
    "---"
   ]
  },
  {
   "cell_type": "markdown",
   "metadata": {},
   "source": [
    "**Jake's Code: Attempting to Get Location Data**"
   ]
  },
  {
   "cell_type": "code",
   "execution_count": 22,
   "metadata": {},
   "outputs": [
    {
     "name": "stdout",
     "output_type": "stream",
     "text": [
      "dict_keys(['message', 'error'])\n"
     ]
    }
   ],
   "source": [
    "import requests\n",
    "\n",
    "r = requests.get('http://www.reddit.com/user/spilcm/comments/.json')\n",
    "\n",
    "data = r.json()\n",
    "\n",
    "print(data.keys())"
   ]
  },
  {
   "cell_type": "markdown",
   "metadata": {},
   "source": [
    "----"
   ]
  },
  {
   "cell_type": "code",
   "execution_count": null,
   "metadata": {},
   "outputs": [],
   "source": []
  }
 ],
 "metadata": {
  "kernelspec": {
   "display_name": "Python 3",
   "language": "python",
   "name": "python3"
  },
  "language_info": {
   "codemirror_mode": {
    "name": "ipython",
    "version": 3
   },
   "file_extension": ".py",
   "mimetype": "text/x-python",
   "name": "python",
   "nbconvert_exporter": "python",
   "pygments_lexer": "ipython3",
   "version": "3.7.4"
  }
 },
 "nbformat": 4,
 "nbformat_minor": 2
}
