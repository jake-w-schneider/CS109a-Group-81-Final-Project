{
 "cells": [
  {
   "cell_type": "code",
   "execution_count": 1,
   "metadata": {},
   "outputs": [],
   "source": [
    "import praw\n",
    "import pandas as pd\n",
    "import datetime as dt\n",
    "import math\n",
    "import json\n",
    "import requests\n",
    "import itertools\n",
    "import numpy as np\n",
    "import time\n",
    "from datetime import datetime, timedelta\n",
    "\n",
    "reddit = praw.Reddit(client_id='',\n",
    "                     client_secret='',\n",
    "                     user_agent='')\n"
   ]
  },
  {
   "cell_type": "code",
   "execution_count": 2,
   "metadata": {},
   "outputs": [
    {
     "name": "stdout",
     "output_type": "stream",
     "text": [
      "True\n"
     ]
    }
   ],
   "source": [
    "print(reddit.read_only)  # Output: True"
   ]
  },
  {
   "cell_type": "code",
   "execution_count": 92,
   "metadata": {},
   "outputs": [],
   "source": [
    "subreddit = reddit.subreddit('Conservative')"
   ]
  },
  {
   "cell_type": "code",
   "execution_count": 106,
   "metadata": {},
   "outputs": [
    {
     "name": "stdout",
     "output_type": "stream",
     "text": [
      "President Benjamin Harrison explains why the Left hates the traditional family\n",
      "Al Sharpton taking more than a million dollars from his “charity’ as salary.\n",
      "Only a Muslim Democrat can get away with this s***: Ilhan Omar funneled another $150K to alleged lover’s consulting group\n",
      "Obama Granted Clemency to Terrorists and Traitors, But We’re Supposed to be Angry at Trump's Pardons\n",
      "Department of Justice Threatens to Arrest Oregon Judges Who Try to Keep Immigration Agents From Enforcing the Law\n",
      "Ilhan Omar funneled another $150K to alleged lover’s consulting group\n",
      "Poll: 53% of Black Voters, 60% of Other Minority Voters Say Media Are Trying to Help Impeach Trump\n",
      "Democratic Representative Says He Will Vote NO on Impeachment, Reveals Other Dem Lawmakers “Quietly, Privately” Concerned About Schiff Show Trials\n",
      "Portland - Deranged Anti-ICE Protester Sentenced To 3 Years In Prison After Attacking Disabled Man. Last Week another antifa terrorist received a six year prison sentence after wacking a guy in the head with a baton multiple times.\n",
      "'There is something going on here': Ron Johnson points to whistleblower lawyer's anti-Trump history\n"
     ]
    }
   ],
   "source": [
    "for submission in subreddit.hot(limit=10):\n",
    "    print(submission.title)\n"
   ]
  },
  {
   "cell_type": "code",
   "execution_count": 94,
   "metadata": {},
   "outputs": [],
   "source": [
    "top_subreddit = subreddit.top(limit=5000)\n"
   ]
  },
  {
   "cell_type": "code",
   "execution_count": 95,
   "metadata": {},
   "outputs": [],
   "source": [
    "topics_dict = { \"title\":[], \n",
    "                \"score\":[], \n",
    "                \"id\":[], \"url\":[],  \n",
    "                \"comms_num\": [], \n",
    "                \"created\": [], \n",
    "                \"body\":[]}\n"
   ]
  },
  {
   "cell_type": "code",
   "execution_count": 96,
   "metadata": {},
   "outputs": [],
   "source": [
    "for submission in top_subreddit:\n",
    "    topics_dict[\"title\"].append(submission.title)\n",
    "    topics_dict[\"score\"].append(submission.score)\n",
    "    topics_dict[\"id\"].append(submission.id)\n",
    "    topics_dict[\"url\"].append(submission.url)\n",
    "    topics_dict[\"comms_num\"].append(submission.num_comments)\n",
    "    topics_dict[\"created\"].append(submission.created)\n",
    "    topics_dict[\"body\"].append(submission.selftext)\n",
    "\n"
   ]
  },
  {
   "cell_type": "code",
   "execution_count": 97,
   "metadata": {},
   "outputs": [],
   "source": [
    "topics_data = pd.DataFrame({ \"title\":[], \n",
    "                \"score\":[], \n",
    "                \"id\":[], \"url\":[],  \n",
    "                \"comms_num\": [], \n",
    "                \"created\": [], \n",
    "                \"body\":[]})\n"
   ]
  },
  {
   "cell_type": "code",
   "execution_count": 98,
   "metadata": {},
   "outputs": [],
   "source": [
    "def get_date(created):\n",
    "    return dt.datetime.fromtimestamp(created)\n"
   ]
  },
  {
   "cell_type": "code",
   "execution_count": 99,
   "metadata": {},
   "outputs": [],
   "source": [
    "_timestamp = topics_data[\"created\"].apply(get_date)\n"
   ]
  },
  {
   "cell_type": "code",
   "execution_count": 100,
   "metadata": {},
   "outputs": [],
   "source": [
    "topics_data = topics_data.assign(timestamp = _timestamp)\n"
   ]
  },
  {
   "cell_type": "code",
   "execution_count": 101,
   "metadata": {},
   "outputs": [
    {
     "data": {
      "text/html": [
       "<div>\n",
       "<style scoped>\n",
       "    .dataframe tbody tr th:only-of-type {\n",
       "        vertical-align: middle;\n",
       "    }\n",
       "\n",
       "    .dataframe tbody tr th {\n",
       "        vertical-align: top;\n",
       "    }\n",
       "\n",
       "    .dataframe thead th {\n",
       "        text-align: right;\n",
       "    }\n",
       "</style>\n",
       "<table border=\"1\" class=\"dataframe\">\n",
       "  <thead>\n",
       "    <tr style=\"text-align: right;\">\n",
       "      <th></th>\n",
       "      <th>title</th>\n",
       "      <th>score</th>\n",
       "      <th>id</th>\n",
       "      <th>url</th>\n",
       "      <th>comms_num</th>\n",
       "      <th>created</th>\n",
       "      <th>body</th>\n",
       "      <th>timestamp</th>\n",
       "    </tr>\n",
       "  </thead>\n",
       "  <tbody>\n",
       "    <tr>\n",
       "      <th>0</th>\n",
       "      <td>So let me get this straight...</td>\n",
       "      <td>19572</td>\n",
       "      <td>5iugd6</td>\n",
       "      <td>http://i.imgur.com/L0p4pQA.jpg</td>\n",
       "      <td>3200</td>\n",
       "      <td>1.482010e+09</td>\n",
       "      <td></td>\n",
       "      <td>2016-12-17 16:27:38</td>\n",
       "    </tr>\n",
       "    <tr>\n",
       "      <th>1</th>\n",
       "      <td>Why we won</td>\n",
       "      <td>15250</td>\n",
       "      <td>5c3xah</td>\n",
       "      <td>https://pbs.twimg.com/media/Cw1oX9aUQAA-rBU.jpg</td>\n",
       "      <td>1645</td>\n",
       "      <td>1.478756e+09</td>\n",
       "      <td></td>\n",
       "      <td>2016-11-10 00:41:04</td>\n",
       "    </tr>\n",
       "    <tr>\n",
       "      <th>2</th>\n",
       "      <td>Ben Shapiro on the 4th of July...</td>\n",
       "      <td>14017</td>\n",
       "      <td>6la6tn</td>\n",
       "      <td>https://i.redd.it/ri98l0fdjn7z.jpg</td>\n",
       "      <td>1257</td>\n",
       "      <td>1.499236e+09</td>\n",
       "      <td></td>\n",
       "      <td>2017-07-05 02:28:00</td>\n",
       "    </tr>\n",
       "    <tr>\n",
       "      <th>3</th>\n",
       "      <td>Well, she's a guy, so...</td>\n",
       "      <td>12066</td>\n",
       "      <td>60k0bb</td>\n",
       "      <td>https://i.redd.it/kvriz780bnmy.jpg</td>\n",
       "      <td>1431</td>\n",
       "      <td>1.490080e+09</td>\n",
       "      <td></td>\n",
       "      <td>2017-03-21 03:13:52</td>\n",
       "    </tr>\n",
       "    <tr>\n",
       "      <th>4</th>\n",
       "      <td>Reddit Admin u/spez Admits of Editing Users Co...</td>\n",
       "      <td>11301</td>\n",
       "      <td>5el3n6</td>\n",
       "      <td>https://i.redd.it/jt4fsjpargzx.png</td>\n",
       "      <td>610</td>\n",
       "      <td>1.479980e+09</td>\n",
       "      <td></td>\n",
       "      <td>2016-11-24 04:29:49</td>\n",
       "    </tr>\n",
       "  </tbody>\n",
       "</table>\n",
       "</div>"
      ],
      "text/plain": [
       "                                               title  score      id  \\\n",
       "0                     So let me get this straight...  19572  5iugd6   \n",
       "1                                         Why we won  15250  5c3xah   \n",
       "2                  Ben Shapiro on the 4th of July...  14017  6la6tn   \n",
       "3                           Well, she's a guy, so...  12066  60k0bb   \n",
       "4  Reddit Admin u/spez Admits of Editing Users Co...  11301  5el3n6   \n",
       "\n",
       "                                               url  comms_num       created  \\\n",
       "0                   http://i.imgur.com/L0p4pQA.jpg       3200  1.482010e+09   \n",
       "1  https://pbs.twimg.com/media/Cw1oX9aUQAA-rBU.jpg       1645  1.478756e+09   \n",
       "2               https://i.redd.it/ri98l0fdjn7z.jpg       1257  1.499236e+09   \n",
       "3               https://i.redd.it/kvriz780bnmy.jpg       1431  1.490080e+09   \n",
       "4               https://i.redd.it/jt4fsjpargzx.png        610  1.479980e+09   \n",
       "\n",
       "  body           timestamp  \n",
       "0      2016-12-17 16:27:38  \n",
       "1      2016-11-10 00:41:04  \n",
       "2      2017-07-05 02:28:00  \n",
       "3      2017-03-21 03:13:52  \n",
       "4      2016-11-24 04:29:49  "
      ]
     },
     "execution_count": 101,
     "metadata": {},
     "output_type": "execute_result"
    }
   ],
   "source": [
    "topics_data.head()"
   ]
  },
  {
   "cell_type": "code",
   "execution_count": 102,
   "metadata": {},
   "outputs": [
    {
     "data": {
      "text/plain": [
       "998"
      ]
     },
     "execution_count": 102,
     "metadata": {},
     "output_type": "execute_result"
    }
   ],
   "source": [
    "len(topics_data)"
   ]
  },
  {
   "cell_type": "code",
   "execution_count": 103,
   "metadata": {},
   "outputs": [
    {
     "data": {
      "text/html": [
       "<div>\n",
       "<style scoped>\n",
       "    .dataframe tbody tr th:only-of-type {\n",
       "        vertical-align: middle;\n",
       "    }\n",
       "\n",
       "    .dataframe tbody tr th {\n",
       "        vertical-align: top;\n",
       "    }\n",
       "\n",
       "    .dataframe thead th {\n",
       "        text-align: right;\n",
       "    }\n",
       "</style>\n",
       "<table border=\"1\" class=\"dataframe\">\n",
       "  <thead>\n",
       "    <tr style=\"text-align: right;\">\n",
       "      <th></th>\n",
       "      <th>score</th>\n",
       "      <th>comms_num</th>\n",
       "      <th>created</th>\n",
       "    </tr>\n",
       "  </thead>\n",
       "  <tbody>\n",
       "    <tr>\n",
       "      <th>count</th>\n",
       "      <td>998.000000</td>\n",
       "      <td>998.000000</td>\n",
       "      <td>9.980000e+02</td>\n",
       "    </tr>\n",
       "    <tr>\n",
       "      <th>mean</th>\n",
       "      <td>2928.532064</td>\n",
       "      <td>299.720441</td>\n",
       "      <td>1.547567e+09</td>\n",
       "    </tr>\n",
       "    <tr>\n",
       "      <th>std</th>\n",
       "      <td>1384.685923</td>\n",
       "      <td>253.788856</td>\n",
       "      <td>2.531359e+07</td>\n",
       "    </tr>\n",
       "    <tr>\n",
       "      <th>min</th>\n",
       "      <td>1859.000000</td>\n",
       "      <td>26.000000</td>\n",
       "      <td>1.434479e+09</td>\n",
       "    </tr>\n",
       "    <tr>\n",
       "      <th>25%</th>\n",
       "      <td>2167.000000</td>\n",
       "      <td>153.250000</td>\n",
       "      <td>1.541131e+09</td>\n",
       "    </tr>\n",
       "    <tr>\n",
       "      <th>50%</th>\n",
       "      <td>2545.000000</td>\n",
       "      <td>234.000000</td>\n",
       "      <td>1.554972e+09</td>\n",
       "    </tr>\n",
       "    <tr>\n",
       "      <th>75%</th>\n",
       "      <td>3185.250000</td>\n",
       "      <td>352.000000</td>\n",
       "      <td>1.564978e+09</td>\n",
       "    </tr>\n",
       "    <tr>\n",
       "      <th>max</th>\n",
       "      <td>19572.000000</td>\n",
       "      <td>3200.000000</td>\n",
       "      <td>1.574026e+09</td>\n",
       "    </tr>\n",
       "  </tbody>\n",
       "</table>\n",
       "</div>"
      ],
      "text/plain": [
       "              score    comms_num       created\n",
       "count    998.000000   998.000000  9.980000e+02\n",
       "mean    2928.532064   299.720441  1.547567e+09\n",
       "std     1384.685923   253.788856  2.531359e+07\n",
       "min     1859.000000    26.000000  1.434479e+09\n",
       "25%     2167.000000   153.250000  1.541131e+09\n",
       "50%     2545.000000   234.000000  1.554972e+09\n",
       "75%     3185.250000   352.000000  1.564978e+09\n",
       "max    19572.000000  3200.000000  1.574026e+09"
      ]
     },
     "execution_count": 103,
     "metadata": {},
     "output_type": "execute_result"
    }
   ],
   "source": [
    "topics_data.describe()"
   ]
  },
  {
   "cell_type": "code",
   "execution_count": 104,
   "metadata": {},
   "outputs": [
    {
     "data": {
      "text/plain": [
       "Timestamp('2019-11-17 16:22:21')"
      ]
     },
     "execution_count": 104,
     "metadata": {},
     "output_type": "execute_result"
    }
   ],
   "source": [
    "max(topics_data.timestamp)"
   ]
  },
  {
   "cell_type": "code",
   "execution_count": 105,
   "metadata": {},
   "outputs": [
    {
     "data": {
      "text/plain": [
       "Timestamp('2015-06-16 14:31:13')"
      ]
     },
     "execution_count": 105,
     "metadata": {},
     "output_type": "execute_result"
    }
   ],
   "source": [
    "min(topics_data.timestamp)"
   ]
  },
  {
   "cell_type": "code",
   "execution_count": 29,
   "metadata": {},
   "outputs": [],
   "source": [
    "\n",
    "def make_request(uri, max_retries = 5):\n",
    "    def fire_away(uri):\n",
    "        response = requests.get(uri)\n",
    "        assert response.status_code == 200\n",
    "        return json.loads(response.content)\n",
    "    current_tries = 1\n",
    "    while current_tries < max_retries:\n",
    "        try:\n",
    "            time.sleep(1)\n",
    "            response = fire_away(uri)\n",
    "            return response\n",
    "        except:\n",
    "            time.sleep(1)\n",
    "            current_tries += 1\n",
    "    return fire_away(uri)\n"
   ]
  },
  {
   "cell_type": "code",
   "execution_count": 33,
   "metadata": {},
   "outputs": [],
   "source": [
    "def pull_posts_for(subreddit, start_at, end_at):\n",
    "    \n",
    "    def map_posts(posts):\n",
    "        return list(map(lambda post: {\n",
    "            'id': post['id'],\n",
    "            'created_utc': post['created_utc'],\n",
    "            'prefix': 't4_'\n",
    "        }, posts))\n",
    "    \n",
    "    SIZE = 500\n",
    "    URI_TEMPLATE = r'https://api.pushshift.io/reddit/search/submission?subreddit={}&after={}&before={}&size={}'\n",
    "    \n",
    "    post_collections = map_posts( \\\n",
    "        make_request( \\\n",
    "            URI_TEMPLATE.format( \\\n",
    "                subreddit, start_at, end_at, SIZE))['data'])\n",
    "    n = len(post_collections)\n",
    "    while n == SIZE:\n",
    "        last = post_collections[-1]\n",
    "        new_start_at = last['created_utc'] - (10)\n",
    "        \n",
    "        more_posts = map_posts( \\\n",
    "            make_request( \\\n",
    "                URI_TEMPLATE.format( \\\n",
    "                    subreddit, new_start_at, end_at, SIZE))['data'])\n",
    "        \n",
    "        n = len(more_posts)\n",
    "        post_collections.extend(more_posts)\n",
    "    return post_collections"
   ]
  },
  {
   "cell_type": "code",
   "execution_count": 87,
   "metadata": {},
   "outputs": [
    {
     "data": {
      "text/plain": [
       "[(1542528806, 1542788006)]"
      ]
     },
     "execution_count": 87,
     "metadata": {},
     "output_type": "execute_result"
    }
   ],
   "source": [
    "def give_me_intervals(start_at, end_at, number_of_days_per_interval = 3):\n",
    "            \n",
    "    ## 1 day = 86400,\n",
    "    period = (86400 * number_of_days_per_interval)\n",
    "    end = start_at + period\n",
    "    yield (int(start_at), int(end))\n",
    "    padding = 1\n",
    "    while end <= end_at:\n",
    "        start_at = end + padding\n",
    "        end = (start_at - padding) + period\n",
    "        yield int(start_at), int(end)\n",
    "## test out the solution,\n",
    "start_at = math.floor(\\\n",
    "     (datetime.utcnow() - timedelta(days=365)).timestamp())\n",
    "list(give_me_intervals(start_at, 7))\n"
   ]
  },
  {
   "cell_type": "code",
   "execution_count": 89,
   "metadata": {},
   "outputs": [
    {
     "name": "stdout",
     "output_type": "stream",
     "text": [
      "9219\n",
      "9202\n"
     ]
    }
   ],
   "source": [
    "subreddit = 'Conservative'\n",
    "from datetime import date\n",
    "end_at=date.fromisoformat('2018-11-06')\n",
    "start_at=(end_at) - timedelta(days=30)\n",
    "end_at_unix = time.mktime(end_at.timetuple())\n",
    "start_at_unix = time.mktime(start_at.timetuple())\n",
    "\n",
    "posts = []\n",
    "for interval in give_me_intervals(start_at_unix, end_at_unix, 7):\n",
    "    pulled_posts = pull_posts_for(\n",
    "        subreddit, interval[0], interval[1])\n",
    "    \n",
    "    posts.extend(pulled_posts)\n",
    "    time.sleep(.500)\n",
    "## ~ 4306\n",
    "print(len(posts))\n",
    "## ~ 4306\n",
    "print(len(np.unique([ post['id'] for post in posts ])))"
   ]
  },
  {
   "cell_type": "code",
   "execution_count": 108,
   "metadata": {},
   "outputs": [],
   "source": [
    "election_dates = ['2018-11-06','2016-11-08',\n",
    "                 '2014-11-04','2012-11-06']"
   ]
  },
  {
   "cell_type": "code",
   "execution_count": 110,
   "metadata": {},
   "outputs": [],
   "source": [
    "subreddits = ['Liberal','Conservative','moderatepolitics']"
   ]
  },
  {
   "cell_type": "code",
   "execution_count": 142,
   "metadata": {},
   "outputs": [
    {
     "name": "stdout",
     "output_type": "stream",
     "text": [
      "2018-11-06  :  Liberal\n",
      "2018-11-06  :  Conservative\n",
      "2018-11-06  :  moderatepolitics\n",
      "2016-11-08  :  Liberal\n",
      "2016-11-08  :  Conservative\n",
      "2016-11-08  :  moderatepolitics\n",
      "2014-11-04  :  Liberal\n",
      "2014-11-04  :  Conservative\n",
      "2014-11-04  :  moderatepolitics\n",
      "2012-11-06  :  Liberal\n",
      "2012-11-06  :  Conservative\n",
      "2012-11-06  :  moderatepolitics\n"
     ]
    }
   ],
   "source": [
    "posts = []\n",
    "z=0\n",
    "for x in election_dates:\n",
    "\n",
    "    for y in subreddits:\n",
    "        print(x, \" : \", y)\n",
    "        subreddit = y\n",
    "        end_at=date.fromisoformat(x)\n",
    "        start_at=(end_at) - timedelta(days=30)\n",
    "        end_at_unix = time.mktime(end_at.timetuple())\n",
    "        start_at_unix = time.mktime(start_at.timetuple())\n",
    "\n",
    "        temp_posts = []\n",
    "        for interval in give_me_intervals(start_at_unix, end_at_unix, 7):\n",
    "            pulled_posts = pull_posts_for(\n",
    "                subreddit, interval[0], interval[1])\n",
    "\n",
    "            temp_posts.extend(pulled_posts)\n",
    "            time.sleep(.500)\n",
    "        \n",
    "        if z==0:\n",
    "            df = pd.DataFrame({'year':x,\n",
    "                              'subreddit':y,\n",
    "                              'posts':temp_posts})\n",
    "            \n",
    "            z=1\n",
    "        else:\n",
    "            df2 = pd.DataFrame({'year':x,\n",
    "                              'subreddit':y,\n",
    "                              'posts':temp_posts})\n",
    "            \n",
    "            df=df.append(df2,ignore_index=True)\n",
    "\n",
    "            \n",
    "   \n"
   ]
  },
  {
   "cell_type": "code",
   "execution_count": 143,
   "metadata": {},
   "outputs": [
    {
     "data": {
      "text/html": [
       "<div>\n",
       "<style scoped>\n",
       "    .dataframe tbody tr th:only-of-type {\n",
       "        vertical-align: middle;\n",
       "    }\n",
       "\n",
       "    .dataframe tbody tr th {\n",
       "        vertical-align: top;\n",
       "    }\n",
       "\n",
       "    .dataframe thead th {\n",
       "        text-align: right;\n",
       "    }\n",
       "</style>\n",
       "<table border=\"1\" class=\"dataframe\">\n",
       "  <thead>\n",
       "    <tr style=\"text-align: right;\">\n",
       "      <th></th>\n",
       "      <th>year</th>\n",
       "      <th>subreddit</th>\n",
       "      <th>posts</th>\n",
       "    </tr>\n",
       "  </thead>\n",
       "  <tbody>\n",
       "    <tr>\n",
       "      <th>0</th>\n",
       "      <td>2018-11-06</td>\n",
       "      <td>Liberal</td>\n",
       "      <td>{'id': '9m2dtt', 'created_utc': 1538884997, 'p...</td>\n",
       "    </tr>\n",
       "    <tr>\n",
       "      <th>1</th>\n",
       "      <td>2018-11-06</td>\n",
       "      <td>Liberal</td>\n",
       "      <td>{'id': '9m2f5d', 'created_utc': 1538885384, 'p...</td>\n",
       "    </tr>\n",
       "    <tr>\n",
       "      <th>2</th>\n",
       "      <td>2018-11-06</td>\n",
       "      <td>Liberal</td>\n",
       "      <td>{'id': '9m2ixb', 'created_utc': 1538886524, 'p...</td>\n",
       "    </tr>\n",
       "    <tr>\n",
       "      <th>3</th>\n",
       "      <td>2018-11-06</td>\n",
       "      <td>Liberal</td>\n",
       "      <td>{'id': '9m2kyh', 'created_utc': 1538887168, 'p...</td>\n",
       "    </tr>\n",
       "    <tr>\n",
       "      <th>4</th>\n",
       "      <td>2018-11-06</td>\n",
       "      <td>Liberal</td>\n",
       "      <td>{'id': '9m3ygv', 'created_utc': 1538905752, 'p...</td>\n",
       "    </tr>\n",
       "  </tbody>\n",
       "</table>\n",
       "</div>"
      ],
      "text/plain": [
       "         year subreddit                                              posts\n",
       "0  2018-11-06   Liberal  {'id': '9m2dtt', 'created_utc': 1538884997, 'p...\n",
       "1  2018-11-06   Liberal  {'id': '9m2f5d', 'created_utc': 1538885384, 'p...\n",
       "2  2018-11-06   Liberal  {'id': '9m2ixb', 'created_utc': 1538886524, 'p...\n",
       "3  2018-11-06   Liberal  {'id': '9m2kyh', 'created_utc': 1538887168, 'p...\n",
       "4  2018-11-06   Liberal  {'id': '9m3ygv', 'created_utc': 1538905752, 'p..."
      ]
     },
     "execution_count": 143,
     "metadata": {},
     "output_type": "execute_result"
    }
   ],
   "source": [
    "df.head()"
   ]
  },
  {
   "cell_type": "code",
   "execution_count": 144,
   "metadata": {},
   "outputs": [
    {
     "name": "stdout",
     "output_type": "stream",
     "text": [
      "27830\n"
     ]
    }
   ],
   "source": [
    "print(len(df))"
   ]
  },
  {
   "cell_type": "code",
   "execution_count": 145,
   "metadata": {},
   "outputs": [
    {
     "data": {
      "text/plain": [
       "Conservative        24175\n",
       "Liberal              2916\n",
       "moderatepolitics      739\n",
       "Name: subreddit, dtype: int64"
      ]
     },
     "execution_count": 145,
     "metadata": {},
     "output_type": "execute_result"
    }
   ],
   "source": [
    "df['subreddit'].value_counts()"
   ]
  },
  {
   "cell_type": "code",
   "execution_count": 146,
   "metadata": {},
   "outputs": [
    {
     "data": {
      "text/plain": [
       "2018-11-06    10308\n",
       "2012-11-06     7319\n",
       "2016-11-08     5603\n",
       "2014-11-04     4600\n",
       "Name: year, dtype: int64"
      ]
     },
     "execution_count": 146,
     "metadata": {},
     "output_type": "execute_result"
    }
   ],
   "source": [
    "df['year'].value_counts()"
   ]
  },
  {
   "cell_type": "code",
   "execution_count": null,
   "metadata": {},
   "outputs": [],
   "source": [
    "## WARNING: REDDIT WILL THROTTLE YOU IF YOU ARE ANNOYING! BE KIND!\n",
    "\n",
    "z=0\n",
    "TIMEOUT_AFTER_COMMENT_IN_SECS = 1\n",
    "posts_from_reddit = []\n",
    "\n",
    "final_df = { \"subreddit\":[],\n",
    "            \"year\":[],\n",
    "            \"title\":[], \n",
    "            \"score\":[], \n",
    "            \"id\":[], \"url\":[],  \n",
    "            \"comms_num\": [], \n",
    "            \"created\": [], \n",
    "            \"body\":[]}\n",
    "\n",
    "\n",
    "for x in range(len(df)):\n",
    "    submission = reddit.submission(id=df['posts'][x]['id'])\n",
    "    posts_from_reddit.append(submission)\n",
    "#    submission.comments.replace_more(limit=None)\n",
    "#    for comment in submission.comments.list():\n",
    "#        comments_from_reddit.append(comment)\n",
    "\n",
    "    final_df[\"title\"].append(submission.title)\n",
    "    final_df[\"score\"].append(submission.score)\n",
    "    final_df[\"id\"].append(submission.id)\n",
    "    final_df[\"url\"].append(submission.url)\n",
    "    final_df[\"comms_num\"].append(submission.num_comments)\n",
    "    final_df[\"created\"].append(submission.created)\n",
    "    final_df[\"body\"].append(submission.selftext)\n",
    "    final_df['subreddit'].append(df['subreddit'][x])\n",
    "    final_df['year'].append(df['year'][x])\n",
    "\n",
    "    time.sleep(0.5)\n",
    "\n",
    "## ~ 4306\n",
    "print(len(final_df))\n",
    "## ~ 35216\n",
    "print(len(final_df))\n"
   ]
  }
 ],
 "metadata": {
  "kernelspec": {
   "display_name": "Python 3",
   "language": "python",
   "name": "python3"
  },
  "language_info": {
   "codemirror_mode": {
    "name": "ipython",
    "version": 3
   },
   "file_extension": ".py",
   "mimetype": "text/x-python",
   "name": "python",
   "nbconvert_exporter": "python",
   "pygments_lexer": "ipython3",
   "version": "3.7.4"
  }
 },
 "nbformat": 4,
 "nbformat_minor": 2
}
