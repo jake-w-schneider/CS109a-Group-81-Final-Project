{
 "cells": [
  {
   "cell_type": "code",
   "execution_count": 17,
   "metadata": {},
   "outputs": [],
   "source": [
    "import praw\n",
    "import pandas as pd\n",
    "import datetime as dt\n",
    "import math\n",
    "import json\n",
    "import requests\n",
    "import itertools\n",
    "import numpy as np\n",
    "import time\n",
    "from datetime import datetime, timedelta\n",
    "\n",
    "keys = pd.read_csv(\"./../Keys/Reddit Keys.csv\")\n",
    "reddit = praw.Reddit(client_id=keys.client_id[0],\n",
    "                     client_secret=keys.client_secret[0],\n",
    "                     user_agent=keys.user_agent[0])\n"
   ]
  },
  {
   "cell_type": "code",
   "execution_count": 18,
   "metadata": {},
   "outputs": [
    {
     "name": "stdout",
     "output_type": "stream",
     "text": [
      "True\n"
     ]
    }
   ],
   "source": [
    "print(reddit.read_only)  # Output: True"
   ]
  },
  {
   "cell_type": "code",
   "execution_count": 92,
   "metadata": {},
   "outputs": [],
   "source": [
    "subreddit = reddit.subreddit('Conservative')"
   ]
  },
  {
   "cell_type": "code",
   "execution_count": 106,
   "metadata": {},
   "outputs": [
    {
     "name": "stdout",
     "output_type": "stream",
     "text": [
      "President Benjamin Harrison explains why the Left hates the traditional family\n",
      "Al Sharpton taking more than a million dollars from his “charity’ as salary.\n",
      "Only a Muslim Democrat can get away with this s***: Ilhan Omar funneled another $150K to alleged lover’s consulting group\n",
      "Obama Granted Clemency to Terrorists and Traitors, But We’re Supposed to be Angry at Trump's Pardons\n",
      "Department of Justice Threatens to Arrest Oregon Judges Who Try to Keep Immigration Agents From Enforcing the Law\n",
      "Ilhan Omar funneled another $150K to alleged lover’s consulting group\n",
      "Poll: 53% of Black Voters, 60% of Other Minority Voters Say Media Are Trying to Help Impeach Trump\n",
      "Democratic Representative Says He Will Vote NO on Impeachment, Reveals Other Dem Lawmakers “Quietly, Privately” Concerned About Schiff Show Trials\n",
      "Portland - Deranged Anti-ICE Protester Sentenced To 3 Years In Prison After Attacking Disabled Man. Last Week another antifa terrorist received a six year prison sentence after wacking a guy in the head with a baton multiple times.\n",
      "'There is something going on here': Ron Johnson points to whistleblower lawyer's anti-Trump history\n"
     ]
    }
   ],
   "source": [
    "for submission in subreddit.hot(limit=10):\n",
    "    print(submission.title)\n"
   ]
  },
  {
   "cell_type": "code",
   "execution_count": 94,
   "metadata": {},
   "outputs": [],
   "source": [
    "top_subreddit = subreddit.top(limit=5000)\n"
   ]
  },
  {
   "cell_type": "code",
   "execution_count": 95,
   "metadata": {},
   "outputs": [],
   "source": [
    "topics_dict = { \"title\":[], \n",
    "                \"score\":[], \n",
    "                \"id\":[], \"url\":[],  \n",
    "                \"comms_num\": [], \n",
    "                \"created\": [], \n",
    "                \"body\":[]}\n"
   ]
  },
  {
   "cell_type": "code",
   "execution_count": 96,
   "metadata": {},
   "outputs": [],
   "source": [
    "for submission in top_subreddit:\n",
    "    topics_dict[\"title\"].append(submission.title)\n",
    "    topics_dict[\"score\"].append(submission.score)\n",
    "    topics_dict[\"id\"].append(submission.id)\n",
    "    topics_dict[\"url\"].append(submission.url)\n",
    "    topics_dict[\"comms_num\"].append(submission.num_comments)\n",
    "    topics_dict[\"created\"].append(submission.created)\n",
    "    topics_dict[\"body\"].append(submission.selftext)\n",
    "\n"
   ]
  },
  {
   "cell_type": "code",
   "execution_count": 97,
   "metadata": {},
   "outputs": [],
   "source": [
    "topics_data = pd.DataFrame({ \"title\":[], \n",
    "                \"score\":[], \n",
    "                \"id\":[], \"url\":[],  \n",
    "                \"comms_num\": [], \n",
    "                \"created\": [], \n",
    "                \"body\":[]})\n"
   ]
  },
  {
   "cell_type": "code",
   "execution_count": 3,
   "metadata": {},
   "outputs": [],
   "source": [
    "def get_date(created):\n",
    "    return dt.datetime.fromtimestamp(created)\n"
   ]
  },
  {
   "cell_type": "code",
   "execution_count": 99,
   "metadata": {},
   "outputs": [],
   "source": [
    "_timestamp = topics_data[\"created\"].apply(get_date)\n"
   ]
  },
  {
   "cell_type": "code",
   "execution_count": 100,
   "metadata": {},
   "outputs": [],
   "source": [
    "_timestamp = topics_data[\"created\"].apply(get_date)\n",
    "\n",
    "topics_data = topics_data.assign(timestamp = _timestamp)\n"
   ]
  },
  {
   "cell_type": "code",
   "execution_count": 101,
   "metadata": {},
   "outputs": [
    {
     "data": {
      "text/html": [
       "<div>\n",
       "<style scoped>\n",
       "    .dataframe tbody tr th:only-of-type {\n",
       "        vertical-align: middle;\n",
       "    }\n",
       "\n",
       "    .dataframe tbody tr th {\n",
       "        vertical-align: top;\n",
       "    }\n",
       "\n",
       "    .dataframe thead th {\n",
       "        text-align: right;\n",
       "    }\n",
       "</style>\n",
       "<table border=\"1\" class=\"dataframe\">\n",
       "  <thead>\n",
       "    <tr style=\"text-align: right;\">\n",
       "      <th></th>\n",
       "      <th>title</th>\n",
       "      <th>score</th>\n",
       "      <th>id</th>\n",
       "      <th>url</th>\n",
       "      <th>comms_num</th>\n",
       "      <th>created</th>\n",
       "      <th>body</th>\n",
       "      <th>timestamp</th>\n",
       "    </tr>\n",
       "  </thead>\n",
       "  <tbody>\n",
       "    <tr>\n",
       "      <th>0</th>\n",
       "      <td>So let me get this straight...</td>\n",
       "      <td>19572</td>\n",
       "      <td>5iugd6</td>\n",
       "      <td>http://i.imgur.com/L0p4pQA.jpg</td>\n",
       "      <td>3200</td>\n",
       "      <td>1.482010e+09</td>\n",
       "      <td></td>\n",
       "      <td>2016-12-17 16:27:38</td>\n",
       "    </tr>\n",
       "    <tr>\n",
       "      <th>1</th>\n",
       "      <td>Why we won</td>\n",
       "      <td>15250</td>\n",
       "      <td>5c3xah</td>\n",
       "      <td>https://pbs.twimg.com/media/Cw1oX9aUQAA-rBU.jpg</td>\n",
       "      <td>1645</td>\n",
       "      <td>1.478756e+09</td>\n",
       "      <td></td>\n",
       "      <td>2016-11-10 00:41:04</td>\n",
       "    </tr>\n",
       "    <tr>\n",
       "      <th>2</th>\n",
       "      <td>Ben Shapiro on the 4th of July...</td>\n",
       "      <td>14017</td>\n",
       "      <td>6la6tn</td>\n",
       "      <td>https://i.redd.it/ri98l0fdjn7z.jpg</td>\n",
       "      <td>1257</td>\n",
       "      <td>1.499236e+09</td>\n",
       "      <td></td>\n",
       "      <td>2017-07-05 02:28:00</td>\n",
       "    </tr>\n",
       "    <tr>\n",
       "      <th>3</th>\n",
       "      <td>Well, she's a guy, so...</td>\n",
       "      <td>12066</td>\n",
       "      <td>60k0bb</td>\n",
       "      <td>https://i.redd.it/kvriz780bnmy.jpg</td>\n",
       "      <td>1431</td>\n",
       "      <td>1.490080e+09</td>\n",
       "      <td></td>\n",
       "      <td>2017-03-21 03:13:52</td>\n",
       "    </tr>\n",
       "    <tr>\n",
       "      <th>4</th>\n",
       "      <td>Reddit Admin u/spez Admits of Editing Users Co...</td>\n",
       "      <td>11301</td>\n",
       "      <td>5el3n6</td>\n",
       "      <td>https://i.redd.it/jt4fsjpargzx.png</td>\n",
       "      <td>610</td>\n",
       "      <td>1.479980e+09</td>\n",
       "      <td></td>\n",
       "      <td>2016-11-24 04:29:49</td>\n",
       "    </tr>\n",
       "  </tbody>\n",
       "</table>\n",
       "</div>"
      ],
      "text/plain": [
       "                                               title  score      id  \\\n",
       "0                     So let me get this straight...  19572  5iugd6   \n",
       "1                                         Why we won  15250  5c3xah   \n",
       "2                  Ben Shapiro on the 4th of July...  14017  6la6tn   \n",
       "3                           Well, she's a guy, so...  12066  60k0bb   \n",
       "4  Reddit Admin u/spez Admits of Editing Users Co...  11301  5el3n6   \n",
       "\n",
       "                                               url  comms_num       created  \\\n",
       "0                   http://i.imgur.com/L0p4pQA.jpg       3200  1.482010e+09   \n",
       "1  https://pbs.twimg.com/media/Cw1oX9aUQAA-rBU.jpg       1645  1.478756e+09   \n",
       "2               https://i.redd.it/ri98l0fdjn7z.jpg       1257  1.499236e+09   \n",
       "3               https://i.redd.it/kvriz780bnmy.jpg       1431  1.490080e+09   \n",
       "4               https://i.redd.it/jt4fsjpargzx.png        610  1.479980e+09   \n",
       "\n",
       "  body           timestamp  \n",
       "0      2016-12-17 16:27:38  \n",
       "1      2016-11-10 00:41:04  \n",
       "2      2017-07-05 02:28:00  \n",
       "3      2017-03-21 03:13:52  \n",
       "4      2016-11-24 04:29:49  "
      ]
     },
     "execution_count": 101,
     "metadata": {},
     "output_type": "execute_result"
    }
   ],
   "source": [
    "topics_data.head()"
   ]
  },
  {
   "cell_type": "code",
   "execution_count": 102,
   "metadata": {},
   "outputs": [
    {
     "data": {
      "text/plain": [
       "998"
      ]
     },
     "execution_count": 102,
     "metadata": {},
     "output_type": "execute_result"
    }
   ],
   "source": [
    "len(topics_data)"
   ]
  },
  {
   "cell_type": "code",
   "execution_count": 103,
   "metadata": {},
   "outputs": [
    {
     "data": {
      "text/html": [
       "<div>\n",
       "<style scoped>\n",
       "    .dataframe tbody tr th:only-of-type {\n",
       "        vertical-align: middle;\n",
       "    }\n",
       "\n",
       "    .dataframe tbody tr th {\n",
       "        vertical-align: top;\n",
       "    }\n",
       "\n",
       "    .dataframe thead th {\n",
       "        text-align: right;\n",
       "    }\n",
       "</style>\n",
       "<table border=\"1\" class=\"dataframe\">\n",
       "  <thead>\n",
       "    <tr style=\"text-align: right;\">\n",
       "      <th></th>\n",
       "      <th>score</th>\n",
       "      <th>comms_num</th>\n",
       "      <th>created</th>\n",
       "    </tr>\n",
       "  </thead>\n",
       "  <tbody>\n",
       "    <tr>\n",
       "      <th>count</th>\n",
       "      <td>998.000000</td>\n",
       "      <td>998.000000</td>\n",
       "      <td>9.980000e+02</td>\n",
       "    </tr>\n",
       "    <tr>\n",
       "      <th>mean</th>\n",
       "      <td>2928.532064</td>\n",
       "      <td>299.720441</td>\n",
       "      <td>1.547567e+09</td>\n",
       "    </tr>\n",
       "    <tr>\n",
       "      <th>std</th>\n",
       "      <td>1384.685923</td>\n",
       "      <td>253.788856</td>\n",
       "      <td>2.531359e+07</td>\n",
       "    </tr>\n",
       "    <tr>\n",
       "      <th>min</th>\n",
       "      <td>1859.000000</td>\n",
       "      <td>26.000000</td>\n",
       "      <td>1.434479e+09</td>\n",
       "    </tr>\n",
       "    <tr>\n",
       "      <th>25%</th>\n",
       "      <td>2167.000000</td>\n",
       "      <td>153.250000</td>\n",
       "      <td>1.541131e+09</td>\n",
       "    </tr>\n",
       "    <tr>\n",
       "      <th>50%</th>\n",
       "      <td>2545.000000</td>\n",
       "      <td>234.000000</td>\n",
       "      <td>1.554972e+09</td>\n",
       "    </tr>\n",
       "    <tr>\n",
       "      <th>75%</th>\n",
       "      <td>3185.250000</td>\n",
       "      <td>352.000000</td>\n",
       "      <td>1.564978e+09</td>\n",
       "    </tr>\n",
       "    <tr>\n",
       "      <th>max</th>\n",
       "      <td>19572.000000</td>\n",
       "      <td>3200.000000</td>\n",
       "      <td>1.574026e+09</td>\n",
       "    </tr>\n",
       "  </tbody>\n",
       "</table>\n",
       "</div>"
      ],
      "text/plain": [
       "              score    comms_num       created\n",
       "count    998.000000   998.000000  9.980000e+02\n",
       "mean    2928.532064   299.720441  1.547567e+09\n",
       "std     1384.685923   253.788856  2.531359e+07\n",
       "min     1859.000000    26.000000  1.434479e+09\n",
       "25%     2167.000000   153.250000  1.541131e+09\n",
       "50%     2545.000000   234.000000  1.554972e+09\n",
       "75%     3185.250000   352.000000  1.564978e+09\n",
       "max    19572.000000  3200.000000  1.574026e+09"
      ]
     },
     "execution_count": 103,
     "metadata": {},
     "output_type": "execute_result"
    }
   ],
   "source": [
    "topics_data.describe()"
   ]
  },
  {
   "cell_type": "code",
   "execution_count": 104,
   "metadata": {},
   "outputs": [
    {
     "data": {
      "text/plain": [
       "Timestamp('2019-11-17 16:22:21')"
      ]
     },
     "execution_count": 104,
     "metadata": {},
     "output_type": "execute_result"
    }
   ],
   "source": [
    "max(topics_data.timestamp)"
   ]
  },
  {
   "cell_type": "code",
   "execution_count": 105,
   "metadata": {},
   "outputs": [
    {
     "data": {
      "text/plain": [
       "Timestamp('2015-06-16 14:31:13')"
      ]
     },
     "execution_count": 105,
     "metadata": {},
     "output_type": "execute_result"
    }
   ],
   "source": [
    "min(topics_data.timestamp)"
   ]
  },
  {
   "cell_type": "code",
   "execution_count": 6,
   "metadata": {},
   "outputs": [],
   "source": [
    "\n",
    "def make_request(uri, max_retries = 5):\n",
    "    def fire_away(uri):\n",
    "        response = requests.get(uri)\n",
    "        assert response.status_code == 200\n",
    "        return json.loads(response.content)\n",
    "    current_tries = 1\n",
    "    while current_tries < max_retries:\n",
    "        try:\n",
    "            time.sleep(1)\n",
    "            response = fire_away(uri)\n",
    "            return response\n",
    "        except:\n",
    "            time.sleep(1)\n",
    "            current_tries += 1\n",
    "    return fire_away(uri)\n"
   ]
  },
  {
   "cell_type": "code",
   "execution_count": 4,
   "metadata": {},
   "outputs": [],
   "source": [
    "def pull_posts_for(subreddit, start_at, end_at):\n",
    "    \n",
    "    def map_posts(posts):\n",
    "        return list(map(lambda post: {\n",
    "            'id': post['id'],\n",
    "            'created_utc': post['created_utc'],\n",
    "            'prefix': 't4_'\n",
    "        }, posts))\n",
    "    \n",
    "    SIZE = 500\n",
    "    URI_TEMPLATE = r'https://api.pushshift.io/reddit/search/submission?subreddit={}&after={}&before={}&size={}'\n",
    "    \n",
    "    post_collections = map_posts( \\\n",
    "        make_request( \\\n",
    "            URI_TEMPLATE.format( \\\n",
    "                subreddit, start_at, end_at, SIZE))['data'])\n",
    "    n = len(post_collections)\n",
    "    while n == SIZE:\n",
    "        last = post_collections[-1]\n",
    "        new_start_at = last['created_utc'] - (10)\n",
    "        \n",
    "        more_posts = map_posts( \\\n",
    "            make_request( \\\n",
    "                URI_TEMPLATE.format( \\\n",
    "                    subreddit, new_start_at, end_at, SIZE))['data'])\n",
    "        \n",
    "        n = len(more_posts)\n",
    "        post_collections.extend(more_posts)\n",
    "    return post_collections"
   ]
  },
  {
   "cell_type": "code",
   "execution_count": 5,
   "metadata": {},
   "outputs": [
    {
     "data": {
      "text/plain": [
       "[(1544416684, 1544675884)]"
      ]
     },
     "execution_count": 5,
     "metadata": {},
     "output_type": "execute_result"
    }
   ],
   "source": [
    "def give_me_intervals(start_at, end_at, number_of_days_per_interval = 3):\n",
    "            \n",
    "    ## 1 day = 86400,\n",
    "    period = (86400 * number_of_days_per_interval)\n",
    "    end = start_at + period\n",
    "    yield (int(start_at), int(end))\n",
    "    padding = 1\n",
    "    while end <= end_at:\n",
    "        start_at = end + padding\n",
    "        end = (start_at - padding) + period\n",
    "        yield int(start_at), int(end)\n",
    "## test out the solution,\n",
    "start_at = math.floor(\\\n",
    "     (datetime.utcnow() - timedelta(days=365)).timestamp())\n",
    "list(give_me_intervals(start_at, 7))\n"
   ]
  },
  {
   "cell_type": "code",
   "execution_count": 89,
   "metadata": {},
   "outputs": [
    {
     "name": "stdout",
     "output_type": "stream",
     "text": [
      "9219\n",
      "9202\n"
     ]
    }
   ],
   "source": [
    "subreddit = 'Conservative'\n",
    "from datetime import date\n",
    "end_at=date.fromisoformat('2018-11-06')\n",
    "start_at=(end_at) - timedelta(days=30)\n",
    "end_at_unix = time.mktime(end_at.timetuple())\n",
    "start_at_unix = time.mktime(start_at.timetuple())\n",
    "\n",
    "posts = []\n",
    "for interval in give_me_intervals(start_at_unix, end_at_unix, 7):\n",
    "    pulled_posts = pull_posts_for(\n",
    "        subreddit, interval[0], interval[1])\n",
    "    \n",
    "    posts.extend(pulled_posts)\n",
    "    time.sleep(.500)\n",
    "## ~ 4306\n",
    "print(len(posts))\n",
    "## ~ 4306\n",
    "print(len(np.unique([ post['id'] for post in posts ])))"
   ]
  },
  {
   "cell_type": "code",
   "execution_count": 8,
   "metadata": {},
   "outputs": [],
   "source": [
    "election_dates = ['2018-11-06','2016-11-08',\n",
    "                 '2014-11-04','2012-11-06']"
   ]
  },
  {
   "cell_type": "code",
   "execution_count": 110,
   "metadata": {},
   "outputs": [],
   "source": [
    "subreddits = ['Liberal','Conservative','moderatepolitics']"
   ]
  },
  {
   "cell_type": "code",
   "execution_count": 142,
   "metadata": {},
   "outputs": [
    {
     "name": "stdout",
     "output_type": "stream",
     "text": [
      "2018-11-06  :  Liberal\n",
      "2018-11-06  :  Conservative\n",
      "2018-11-06  :  moderatepolitics\n",
      "2016-11-08  :  Liberal\n",
      "2016-11-08  :  Conservative\n",
      "2016-11-08  :  moderatepolitics\n",
      "2014-11-04  :  Liberal\n",
      "2014-11-04  :  Conservative\n",
      "2014-11-04  :  moderatepolitics\n",
      "2012-11-06  :  Liberal\n",
      "2012-11-06  :  Conservative\n",
      "2012-11-06  :  moderatepolitics\n"
     ]
    }
   ],
   "source": [
    "posts = []\n",
    "z=0\n",
    "for x in election_dates:\n",
    "\n",
    "    for y in subreddits:\n",
    "        print(x, \" : \", y)\n",
    "        subreddit = y\n",
    "        end_at=date.fromisoformat(x)\n",
    "        start_at=(end_at) - timedelta(days=30)\n",
    "        end_at_unix = time.mktime(end_at.timetuple())\n",
    "        start_at_unix = time.mktime(start_at.timetuple())\n",
    "\n",
    "        temp_posts = []\n",
    "        for interval in give_me_intervals(start_at_unix, end_at_unix, 7):\n",
    "            pulled_posts = pull_posts_for(\n",
    "                subreddit, interval[0], interval[1])\n",
    "\n",
    "            temp_posts.extend(pulled_posts)\n",
    "            time.sleep(.500)\n",
    "        \n",
    "        if z==0:\n",
    "            df = pd.DataFrame({'year':x,\n",
    "                              'subreddit':y,\n",
    "                              'posts':temp_posts})\n",
    "            \n",
    "            z=1\n",
    "        else:\n",
    "            df2 = pd.DataFrame({'year':x,\n",
    "                              'subreddit':y,\n",
    "                              'posts':temp_posts})\n",
    "            \n",
    "            df=df.append(df2,ignore_index=True)\n",
    "\n",
    "            \n",
    "   \n"
   ]
  },
  {
   "cell_type": "code",
   "execution_count": 143,
   "metadata": {},
   "outputs": [
    {
     "data": {
      "text/html": [
       "<div>\n",
       "<style scoped>\n",
       "    .dataframe tbody tr th:only-of-type {\n",
       "        vertical-align: middle;\n",
       "    }\n",
       "\n",
       "    .dataframe tbody tr th {\n",
       "        vertical-align: top;\n",
       "    }\n",
       "\n",
       "    .dataframe thead th {\n",
       "        text-align: right;\n",
       "    }\n",
       "</style>\n",
       "<table border=\"1\" class=\"dataframe\">\n",
       "  <thead>\n",
       "    <tr style=\"text-align: right;\">\n",
       "      <th></th>\n",
       "      <th>year</th>\n",
       "      <th>subreddit</th>\n",
       "      <th>posts</th>\n",
       "    </tr>\n",
       "  </thead>\n",
       "  <tbody>\n",
       "    <tr>\n",
       "      <th>0</th>\n",
       "      <td>2018-11-06</td>\n",
       "      <td>Liberal</td>\n",
       "      <td>{'id': '9m2dtt', 'created_utc': 1538884997, 'p...</td>\n",
       "    </tr>\n",
       "    <tr>\n",
       "      <th>1</th>\n",
       "      <td>2018-11-06</td>\n",
       "      <td>Liberal</td>\n",
       "      <td>{'id': '9m2f5d', 'created_utc': 1538885384, 'p...</td>\n",
       "    </tr>\n",
       "    <tr>\n",
       "      <th>2</th>\n",
       "      <td>2018-11-06</td>\n",
       "      <td>Liberal</td>\n",
       "      <td>{'id': '9m2ixb', 'created_utc': 1538886524, 'p...</td>\n",
       "    </tr>\n",
       "    <tr>\n",
       "      <th>3</th>\n",
       "      <td>2018-11-06</td>\n",
       "      <td>Liberal</td>\n",
       "      <td>{'id': '9m2kyh', 'created_utc': 1538887168, 'p...</td>\n",
       "    </tr>\n",
       "    <tr>\n",
       "      <th>4</th>\n",
       "      <td>2018-11-06</td>\n",
       "      <td>Liberal</td>\n",
       "      <td>{'id': '9m3ygv', 'created_utc': 1538905752, 'p...</td>\n",
       "    </tr>\n",
       "  </tbody>\n",
       "</table>\n",
       "</div>"
      ],
      "text/plain": [
       "         year subreddit                                              posts\n",
       "0  2018-11-06   Liberal  {'id': '9m2dtt', 'created_utc': 1538884997, 'p...\n",
       "1  2018-11-06   Liberal  {'id': '9m2f5d', 'created_utc': 1538885384, 'p...\n",
       "2  2018-11-06   Liberal  {'id': '9m2ixb', 'created_utc': 1538886524, 'p...\n",
       "3  2018-11-06   Liberal  {'id': '9m2kyh', 'created_utc': 1538887168, 'p...\n",
       "4  2018-11-06   Liberal  {'id': '9m3ygv', 'created_utc': 1538905752, 'p..."
      ]
     },
     "execution_count": 143,
     "metadata": {},
     "output_type": "execute_result"
    }
   ],
   "source": [
    "df.head()"
   ]
  },
  {
   "cell_type": "code",
   "execution_count": 144,
   "metadata": {},
   "outputs": [
    {
     "name": "stdout",
     "output_type": "stream",
     "text": [
      "27830\n"
     ]
    }
   ],
   "source": [
    "print(len(df))"
   ]
  },
  {
   "cell_type": "code",
   "execution_count": 145,
   "metadata": {},
   "outputs": [
    {
     "data": {
      "text/plain": [
       "Conservative        24175\n",
       "Liberal              2916\n",
       "moderatepolitics      739\n",
       "Name: subreddit, dtype: int64"
      ]
     },
     "execution_count": 145,
     "metadata": {},
     "output_type": "execute_result"
    }
   ],
   "source": [
    "df['subreddit'].value_counts()"
   ]
  },
  {
   "cell_type": "code",
   "execution_count": 191,
   "metadata": {},
   "outputs": [
    {
     "data": {
      "text/plain": [
       "2018-11-06    10308\n",
       "2012-11-06     7319\n",
       "2016-11-08     5603\n",
       "2014-11-04     4600\n",
       "Name: year, dtype: int64"
      ]
     },
     "execution_count": 191,
     "metadata": {},
     "output_type": "execute_result"
    }
   ],
   "source": [
    "df['year'].value_counts()"
   ]
  },
  {
   "cell_type": "code",
   "execution_count": null,
   "metadata": {},
   "outputs": [],
   "source": [
    "final_dict = { \"subreddit\":[],\n",
    "            \"year\":[],\n",
    "            \"title\":[], \n",
    "            \"score\":[], \n",
    "            \"id\":[], \"url\":[],  \n",
    "            \"comms_num\": [], \n",
    "            \"created\": [], \n",
    "            \"body\":[]}\n",
    "\n",
    "posts_from_reddit = []\n",
    "\n",
    "\n"
   ]
  },
  {
   "cell_type": "code",
   "execution_count": 210,
   "metadata": {},
   "outputs": [],
   "source": [
    "## WARNING: REDDIT WILL THROTTLE YOU IF YOU ARE ANNOYING! BE KIND!\n",
    "\n",
    "for x in range(int(len(final_dict['year'])),int(len(df))):\n",
    "    submission = reddit.submission(id=df['posts'][x]['id'])\n",
    "    posts_from_reddit.append(submission)\n",
    "#    submission.comments.replace_more(limit=None)\n",
    "#    for comment in submission.comments.list():\n",
    "#        comments_from_reddit.append(comment)\n",
    "\n",
    "    final_dict[\"title\"].append(submission.title)\n",
    "    final_dict[\"score\"].append(submission.score)\n",
    "    final_dict[\"id\"].append(submission.id)\n",
    "    final_dict[\"url\"].append(submission.url)\n",
    "    final_dict[\"comms_num\"].append(submission.num_comments)\n",
    "    final_dict[\"created\"].append(submission.created)\n",
    "    final_dict[\"body\"].append(submission.selftext)\n",
    "    final_dict['subreddit'].append(df['subreddit'][x])\n",
    "    final_dict['year'].append(df['year'][x])\n",
    "\n",
    "    time.sleep(0.5)\n",
    "    \n",
    "#    if x%400==0:\n",
    "#        print(x, \" posts completed\")\n"
   ]
  },
  {
   "cell_type": "code",
   "execution_count": 204,
   "metadata": {},
   "outputs": [],
   "source": [
    "sub_df = pd.DataFrame(final_dict)    \n",
    "\n",
    "#make temp df\n",
    "sub_df_v2 = sub_df\n",
    "\n",
    "#get posted date, add to df\n",
    "_timestamp = sub_df_v2[\"created\"].apply(get_date)\n",
    "sub_df_v2 = sub_df_v2.assign(timestamp = _timestamp)\n",
    "\n",
    "sub_df_v2['election year']=sub_df_v2['year'].astype(str).str[0:4]\n"
   ]
  },
  {
   "cell_type": "code",
   "execution_count": 205,
   "metadata": {
    "scrolled": false
   },
   "outputs": [
    {
     "data": {
      "text/html": [
       "<div>\n",
       "<style scoped>\n",
       "    .dataframe tbody tr th:only-of-type {\n",
       "        vertical-align: middle;\n",
       "    }\n",
       "\n",
       "    .dataframe tbody tr th {\n",
       "        vertical-align: top;\n",
       "    }\n",
       "\n",
       "    .dataframe thead th {\n",
       "        text-align: right;\n",
       "    }\n",
       "</style>\n",
       "<table border=\"1\" class=\"dataframe\">\n",
       "  <thead>\n",
       "    <tr style=\"text-align: right;\">\n",
       "      <th></th>\n",
       "      <th>subreddit</th>\n",
       "      <th>year</th>\n",
       "      <th>title</th>\n",
       "      <th>score</th>\n",
       "      <th>id</th>\n",
       "      <th>url</th>\n",
       "      <th>comms_num</th>\n",
       "      <th>created</th>\n",
       "      <th>body</th>\n",
       "      <th>timestamp</th>\n",
       "      <th>election year</th>\n",
       "    </tr>\n",
       "  </thead>\n",
       "  <tbody>\n",
       "    <tr>\n",
       "      <th>0</th>\n",
       "      <td>Liberal</td>\n",
       "      <td>2018-11-06</td>\n",
       "      <td>Changing party affiliation in response to Kave...</td>\n",
       "      <td>13</td>\n",
       "      <td>9m2dtt</td>\n",
       "      <td>https://www.reddit.com/r/Liberal/comments/9m2d...</td>\n",
       "      <td>49</td>\n",
       "      <td>1.538914e+09</td>\n",
       "      <td>Hey everyone,\\n\\nSo, I've long tried to be the...</td>\n",
       "      <td>2018-10-07 08:03:17</td>\n",
       "      <td>2018</td>\n",
       "    </tr>\n",
       "    <tr>\n",
       "      <th>1</th>\n",
       "      <td>Liberal</td>\n",
       "      <td>2018-11-06</td>\n",
       "      <td>My mother and I have decided to cut off commun...</td>\n",
       "      <td>1</td>\n",
       "      <td>9m2f5d</td>\n",
       "      <td>https://www.reddit.com/r/Liberal/comments/9m2f...</td>\n",
       "      <td>0</td>\n",
       "      <td>1.538914e+09</td>\n",
       "      <td>[removed]</td>\n",
       "      <td>2018-10-07 08:09:44</td>\n",
       "      <td>2018</td>\n",
       "    </tr>\n",
       "    <tr>\n",
       "      <th>2</th>\n",
       "      <td>Liberal</td>\n",
       "      <td>2018-11-06</td>\n",
       "      <td>What can I do to help?</td>\n",
       "      <td>0</td>\n",
       "      <td>9m2ixb</td>\n",
       "      <td>https://www.reddit.com/r/Liberal/comments/9m2i...</td>\n",
       "      <td>10</td>\n",
       "      <td>1.538915e+09</td>\n",
       "      <td>[deleted]</td>\n",
       "      <td>2018-10-07 08:28:44</td>\n",
       "      <td>2018</td>\n",
       "    </tr>\n",
       "    <tr>\n",
       "      <th>3</th>\n",
       "      <td>Liberal</td>\n",
       "      <td>2018-11-06</td>\n",
       "      <td>The current World Population is estimated to b...</td>\n",
       "      <td>4</td>\n",
       "      <td>9m2kyh</td>\n",
       "      <td>https://www.reddit.com/r/Liberal/comments/9m2k...</td>\n",
       "      <td>8</td>\n",
       "      <td>1.538916e+09</td>\n",
       "      <td>[deleted]</td>\n",
       "      <td>2018-10-07 08:39:28</td>\n",
       "      <td>2018</td>\n",
       "    </tr>\n",
       "    <tr>\n",
       "      <th>4</th>\n",
       "      <td>Liberal</td>\n",
       "      <td>2018-11-06</td>\n",
       "      <td>С кем поведешься, от того и наберешься</td>\n",
       "      <td>1</td>\n",
       "      <td>9m3ygv</td>\n",
       "      <td>https://www.reddit.com/r/Liberal/comments/9m3y...</td>\n",
       "      <td>0</td>\n",
       "      <td>1.538935e+09</td>\n",
       "      <td>[removed]</td>\n",
       "      <td>2018-10-07 13:49:12</td>\n",
       "      <td>2018</td>\n",
       "    </tr>\n",
       "    <tr>\n",
       "      <th>...</th>\n",
       "      <td>...</td>\n",
       "      <td>...</td>\n",
       "      <td>...</td>\n",
       "      <td>...</td>\n",
       "      <td>...</td>\n",
       "      <td>...</td>\n",
       "      <td>...</td>\n",
       "      <td>...</td>\n",
       "      <td>...</td>\n",
       "      <td>...</td>\n",
       "      <td>...</td>\n",
       "    </tr>\n",
       "    <tr>\n",
       "      <th>27825</th>\n",
       "      <td>moderatepolitics</td>\n",
       "      <td>2012-11-06</td>\n",
       "      <td>Quotas Limiting Male Science Enrollment Could ...</td>\n",
       "      <td>1</td>\n",
       "      <td>12ydp9</td>\n",
       "      <td>http://www.openmarket.org/2012/07/10/quotas-li...</td>\n",
       "      <td>0</td>\n",
       "      <td>1.352559e+09</td>\n",
       "      <td>[deleted]</td>\n",
       "      <td>2012-11-10 09:45:32</td>\n",
       "      <td>2012</td>\n",
       "    </tr>\n",
       "    <tr>\n",
       "      <th>27826</th>\n",
       "      <td>moderatepolitics</td>\n",
       "      <td>2012-11-06</td>\n",
       "      <td>Veterans, facing an unforgiving and bureaucrat...</td>\n",
       "      <td>6</td>\n",
       "      <td>12yxvd</td>\n",
       "      <td>http://www.marketplace.org/topics/wealth-pover...</td>\n",
       "      <td>0</td>\n",
       "      <td>1.352598e+09</td>\n",
       "      <td></td>\n",
       "      <td>2012-11-10 20:42:43</td>\n",
       "      <td>2012</td>\n",
       "    </tr>\n",
       "    <tr>\n",
       "      <th>27827</th>\n",
       "      <td>moderatepolitics</td>\n",
       "      <td>2012-11-06</td>\n",
       "      <td>13 things that would have passed the Senate if...</td>\n",
       "      <td>62</td>\n",
       "      <td>12z3p6</td>\n",
       "      <td>http://www.denverpost.com/politics-national/20...</td>\n",
       "      <td>11</td>\n",
       "      <td>1.352604e+09</td>\n",
       "      <td></td>\n",
       "      <td>2012-11-10 22:25:30</td>\n",
       "      <td>2012</td>\n",
       "    </tr>\n",
       "    <tr>\n",
       "      <th>27828</th>\n",
       "      <td>moderatepolitics</td>\n",
       "      <td>2012-11-06</td>\n",
       "      <td>Why Americans Need Hate Like Air</td>\n",
       "      <td>10</td>\n",
       "      <td>12z5af</td>\n",
       "      <td>http://thoughtcatalog.com/2012/american-discor...</td>\n",
       "      <td>4</td>\n",
       "      <td>1.352606e+09</td>\n",
       "      <td></td>\n",
       "      <td>2012-11-10 22:54:24</td>\n",
       "      <td>2012</td>\n",
       "    </tr>\n",
       "    <tr>\n",
       "      <th>27829</th>\n",
       "      <td>moderatepolitics</td>\n",
       "      <td>2012-11-06</td>\n",
       "      <td>/r/TruePolitics is reviving, in a way I believ...</td>\n",
       "      <td>1</td>\n",
       "      <td>12zeju</td>\n",
       "      <td>https://www.reddit.com/r/moderatepolitics/comm...</td>\n",
       "      <td>0</td>\n",
       "      <td>1.352616e+09</td>\n",
       "      <td>[removed]</td>\n",
       "      <td>2012-11-11 01:47:11</td>\n",
       "      <td>2012</td>\n",
       "    </tr>\n",
       "  </tbody>\n",
       "</table>\n",
       "<p>27830 rows × 11 columns</p>\n",
       "</div>"
      ],
      "text/plain": [
       "              subreddit        year  \\\n",
       "0               Liberal  2018-11-06   \n",
       "1               Liberal  2018-11-06   \n",
       "2               Liberal  2018-11-06   \n",
       "3               Liberal  2018-11-06   \n",
       "4               Liberal  2018-11-06   \n",
       "...                 ...         ...   \n",
       "27825  moderatepolitics  2012-11-06   \n",
       "27826  moderatepolitics  2012-11-06   \n",
       "27827  moderatepolitics  2012-11-06   \n",
       "27828  moderatepolitics  2012-11-06   \n",
       "27829  moderatepolitics  2012-11-06   \n",
       "\n",
       "                                                   title  score      id  \\\n",
       "0      Changing party affiliation in response to Kave...     13  9m2dtt   \n",
       "1      My mother and I have decided to cut off commun...      1  9m2f5d   \n",
       "2                                 What can I do to help?      0  9m2ixb   \n",
       "3      The current World Population is estimated to b...      4  9m2kyh   \n",
       "4                 С кем поведешься, от того и наберешься      1  9m3ygv   \n",
       "...                                                  ...    ...     ...   \n",
       "27825  Quotas Limiting Male Science Enrollment Could ...      1  12ydp9   \n",
       "27826  Veterans, facing an unforgiving and bureaucrat...      6  12yxvd   \n",
       "27827  13 things that would have passed the Senate if...     62  12z3p6   \n",
       "27828                   Why Americans Need Hate Like Air     10  12z5af   \n",
       "27829  /r/TruePolitics is reviving, in a way I believ...      1  12zeju   \n",
       "\n",
       "                                                     url  comms_num  \\\n",
       "0      https://www.reddit.com/r/Liberal/comments/9m2d...         49   \n",
       "1      https://www.reddit.com/r/Liberal/comments/9m2f...          0   \n",
       "2      https://www.reddit.com/r/Liberal/comments/9m2i...         10   \n",
       "3      https://www.reddit.com/r/Liberal/comments/9m2k...          8   \n",
       "4      https://www.reddit.com/r/Liberal/comments/9m3y...          0   \n",
       "...                                                  ...        ...   \n",
       "27825  http://www.openmarket.org/2012/07/10/quotas-li...          0   \n",
       "27826  http://www.marketplace.org/topics/wealth-pover...          0   \n",
       "27827  http://www.denverpost.com/politics-national/20...         11   \n",
       "27828  http://thoughtcatalog.com/2012/american-discor...          4   \n",
       "27829  https://www.reddit.com/r/moderatepolitics/comm...          0   \n",
       "\n",
       "            created                                               body  \\\n",
       "0      1.538914e+09  Hey everyone,\\n\\nSo, I've long tried to be the...   \n",
       "1      1.538914e+09                                          [removed]   \n",
       "2      1.538915e+09                                          [deleted]   \n",
       "3      1.538916e+09                                          [deleted]   \n",
       "4      1.538935e+09                                          [removed]   \n",
       "...             ...                                                ...   \n",
       "27825  1.352559e+09                                          [deleted]   \n",
       "27826  1.352598e+09                                                      \n",
       "27827  1.352604e+09                                                      \n",
       "27828  1.352606e+09                                                      \n",
       "27829  1.352616e+09                                          [removed]   \n",
       "\n",
       "                timestamp election year  \n",
       "0     2018-10-07 08:03:17          2018  \n",
       "1     2018-10-07 08:09:44          2018  \n",
       "2     2018-10-07 08:28:44          2018  \n",
       "3     2018-10-07 08:39:28          2018  \n",
       "4     2018-10-07 13:49:12          2018  \n",
       "...                   ...           ...  \n",
       "27825 2012-11-10 09:45:32          2012  \n",
       "27826 2012-11-10 20:42:43          2012  \n",
       "27827 2012-11-10 22:25:30          2012  \n",
       "27828 2012-11-10 22:54:24          2012  \n",
       "27829 2012-11-11 01:47:11          2012  \n",
       "\n",
       "[27830 rows x 11 columns]"
      ]
     },
     "execution_count": 205,
     "metadata": {},
     "output_type": "execute_result"
    }
   ],
   "source": [
    "sub_df_v2"
   ]
  },
  {
   "cell_type": "code",
   "execution_count": 206,
   "metadata": {},
   "outputs": [
    {
     "data": {
      "text/plain": [
       "27830"
      ]
     },
     "execution_count": 206,
     "metadata": {},
     "output_type": "execute_result"
    }
   ],
   "source": [
    "len(sub_df)"
   ]
  },
  {
   "cell_type": "code",
   "execution_count": 207,
   "metadata": {},
   "outputs": [
    {
     "data": {
      "text/plain": [
       "2018-11-06    10308\n",
       "2012-11-06     7319\n",
       "2016-11-08     5603\n",
       "2014-11-04     4600\n",
       "Name: year, dtype: int64"
      ]
     },
     "execution_count": 207,
     "metadata": {},
     "output_type": "execute_result"
    }
   ],
   "source": [
    "sub_df['year'].value_counts()"
   ]
  },
  {
   "cell_type": "code",
   "execution_count": 208,
   "metadata": {},
   "outputs": [
    {
     "data": {
      "text/plain": [
       "Conservative        24175\n",
       "Liberal              2916\n",
       "moderatepolitics      739\n",
       "Name: subreddit, dtype: int64"
      ]
     },
     "execution_count": 208,
     "metadata": {},
     "output_type": "execute_result"
    }
   ],
   "source": [
    "sub_df['subreddit'].value_counts()"
   ]
  },
  {
   "cell_type": "code",
   "execution_count": 169,
   "metadata": {},
   "outputs": [],
   "source": [
    "sub_df_2018 = sub_df.loc[sub_df['year']=='2018-11-06']"
   ]
  },
  {
   "cell_type": "code",
   "execution_count": 209,
   "metadata": {},
   "outputs": [],
   "source": [
    "sub_df.to_csv(\"Reddit_Election_Posts.csv\",index=False)"
   ]
  },
  {
   "cell_type": "code",
   "execution_count": 10,
   "metadata": {},
   "outputs": [],
   "source": [
    "test_subreddits = ['Economics','arizonapolitics','wisconsinpolitics','politics']"
   ]
  },
  {
   "cell_type": "code",
   "execution_count": 9,
   "metadata": {},
   "outputs": [],
   "source": [
    "election_dates = ['2018-11-06','2016-11-08',\n",
    "                 '2014-11-04','2012-11-06']"
   ]
  },
  {
   "cell_type": "code",
   "execution_count": 19,
   "metadata": {},
   "outputs": [
    {
     "name": "stdout",
     "output_type": "stream",
     "text": [
      "2018-11-06  :  Economics\n",
      "2018-11-06  :  arizonapolitics\n",
      "2018-11-06  :  wisconsinpolitics\n",
      "2018-11-06  :  politics\n",
      "2016-11-08  :  Economics\n",
      "2016-11-08  :  arizonapolitics\n",
      "2016-11-08  :  wisconsinpolitics\n",
      "2016-11-08  :  politics\n",
      "2014-11-04  :  Economics\n",
      "2014-11-04  :  arizonapolitics\n",
      "2014-11-04  :  wisconsinpolitics\n",
      "2014-11-04  :  politics\n",
      "2012-11-06  :  Economics\n",
      "2012-11-06  :  arizonapolitics\n",
      "2012-11-06  :  wisconsinpolitics\n",
      "2012-11-06  :  politics\n"
     ]
    }
   ],
   "source": [
    "posts = []\n",
    "z=0\n",
    "from datetime import date\n",
    "\n",
    "\n",
    "for x in election_dates:\n",
    "\n",
    "    for y in test_subreddits:\n",
    "        print(x, \" : \", y)\n",
    "        subreddit = y\n",
    "        end_at=date.fromisoformat(x)\n",
    "        start_at=(end_at) - timedelta(days=30)\n",
    "        end_at_unix = time.mktime(end_at.timetuple())\n",
    "        start_at_unix = time.mktime(start_at.timetuple())\n",
    "\n",
    "        temp_posts = []\n",
    "        for interval in give_me_intervals(start_at_unix, end_at_unix, 7):\n",
    "            pulled_posts = pull_posts_for(\n",
    "                subreddit, interval[0], interval[1])\n",
    "\n",
    "            temp_posts.extend(pulled_posts)\n",
    "            time.sleep(.500)\n",
    "        \n",
    "        if z==0:\n",
    "            df = pd.DataFrame({'year':x,\n",
    "                              'subreddit':y,\n",
    "                              'posts':temp_posts})\n",
    "            \n",
    "            z=1\n",
    "        else:\n",
    "            df2 = pd.DataFrame({'year':x,\n",
    "                              'subreddit':y,\n",
    "                              'posts':temp_posts})\n",
    "            \n",
    "            df=df.append(df2,ignore_index=True)\n",
    "\n",
    "            "
   ]
  },
  {
   "cell_type": "code",
   "execution_count": 20,
   "metadata": {},
   "outputs": [
    {
     "data": {
      "text/html": [
       "<div>\n",
       "<style scoped>\n",
       "    .dataframe tbody tr th:only-of-type {\n",
       "        vertical-align: middle;\n",
       "    }\n",
       "\n",
       "    .dataframe tbody tr th {\n",
       "        vertical-align: top;\n",
       "    }\n",
       "\n",
       "    .dataframe thead th {\n",
       "        text-align: right;\n",
       "    }\n",
       "</style>\n",
       "<table border=\"1\" class=\"dataframe\">\n",
       "  <thead>\n",
       "    <tr style=\"text-align: right;\">\n",
       "      <th></th>\n",
       "      <th>year</th>\n",
       "      <th>subreddit</th>\n",
       "      <th>posts</th>\n",
       "    </tr>\n",
       "  </thead>\n",
       "  <tbody>\n",
       "    <tr>\n",
       "      <th>0</th>\n",
       "      <td>2018-11-06</td>\n",
       "      <td>Economics</td>\n",
       "      <td>{'id': '9m2oso', 'created_utc': 1538888471, 'p...</td>\n",
       "    </tr>\n",
       "    <tr>\n",
       "      <th>1</th>\n",
       "      <td>2018-11-06</td>\n",
       "      <td>Economics</td>\n",
       "      <td>{'id': '9m4ize', 'created_utc': 1538913618, 'p...</td>\n",
       "    </tr>\n",
       "    <tr>\n",
       "      <th>2</th>\n",
       "      <td>2018-11-06</td>\n",
       "      <td>Economics</td>\n",
       "      <td>{'id': '9m4pty', 'created_utc': 1538915766, 'p...</td>\n",
       "    </tr>\n",
       "    <tr>\n",
       "      <th>3</th>\n",
       "      <td>2018-11-06</td>\n",
       "      <td>Economics</td>\n",
       "      <td>{'id': '9m54qw', 'created_utc': 1538919823, 'p...</td>\n",
       "    </tr>\n",
       "    <tr>\n",
       "      <th>4</th>\n",
       "      <td>2018-11-06</td>\n",
       "      <td>Economics</td>\n",
       "      <td>{'id': '9m5d3p', 'created_utc': 1538922000, 'p...</td>\n",
       "    </tr>\n",
       "  </tbody>\n",
       "</table>\n",
       "</div>"
      ],
      "text/plain": [
       "         year  subreddit                                              posts\n",
       "0  2018-11-06  Economics  {'id': '9m2oso', 'created_utc': 1538888471, 'p...\n",
       "1  2018-11-06  Economics  {'id': '9m4ize', 'created_utc': 1538913618, 'p...\n",
       "2  2018-11-06  Economics  {'id': '9m4pty', 'created_utc': 1538915766, 'p...\n",
       "3  2018-11-06  Economics  {'id': '9m54qw', 'created_utc': 1538919823, 'p...\n",
       "4  2018-11-06  Economics  {'id': '9m5d3p', 'created_utc': 1538922000, 'p..."
      ]
     },
     "execution_count": 20,
     "metadata": {},
     "output_type": "execute_result"
    }
   ],
   "source": [
    "df.head()"
   ]
  },
  {
   "cell_type": "code",
   "execution_count": 21,
   "metadata": {},
   "outputs": [
    {
     "name": "stdout",
     "output_type": "stream",
     "text": [
      "188499\n"
     ]
    }
   ],
   "source": [
    "print(len(df))"
   ]
  },
  {
   "cell_type": "code",
   "execution_count": 22,
   "metadata": {},
   "outputs": [
    {
     "data": {
      "text/plain": [
       "politics             180608\n",
       "Economics              7611\n",
       "arizonapolitics         170\n",
       "wisconsinpolitics       110\n",
       "Name: subreddit, dtype: int64"
      ]
     },
     "execution_count": 22,
     "metadata": {},
     "output_type": "execute_result"
    }
   ],
   "source": [
    "df['subreddit'].value_counts()"
   ]
  },
  {
   "cell_type": "code",
   "execution_count": 23,
   "metadata": {
    "scrolled": true
   },
   "outputs": [
    {
     "data": {
      "text/plain": [
       "2012-11-06    65270\n",
       "2016-11-08    65236\n",
       "2018-11-06    44471\n",
       "2014-11-04    13522\n",
       "Name: year, dtype: int64"
      ]
     },
     "execution_count": 23,
     "metadata": {},
     "output_type": "execute_result"
    }
   ],
   "source": [
    "df['year'].value_counts()"
   ]
  },
  {
   "cell_type": "code",
   "execution_count": null,
   "metadata": {},
   "outputs": [],
   "source": [
    "final_test_dict = { \"subreddit\":[],\n",
    "            \"year\":[],\n",
    "            \"title\":[], \n",
    "            \"score\":[], \n",
    "            \"id\":[], \"url\":[],  \n",
    "            \"comms_num\": [], \n",
    "            \"created\": [], \n",
    "            \"body\":[]}\n",
    "\n",
    "posts_from_reddit = []"
   ]
  },
  {
   "cell_type": "code",
   "execution_count": 71,
   "metadata": {},
   "outputs": [
    {
     "name": "stdout",
     "output_type": "stream",
     "text": [
      "140000  posts completed\n",
      "150000  posts completed\n",
      "160000  posts completed\n",
      "170000  posts completed\n",
      "180000  posts completed\n"
     ]
    }
   ],
   "source": [
    "\n",
    "for x in range(int(len(final_test_dict['year'])),int(len(df))):\n",
    "    submission = reddit.submission(id=df['posts'][x]['id'])\n",
    "    posts_from_reddit.append(submission)\n",
    "\n",
    "    final_test_dict[\"title\"].append(submission.title)\n",
    "    final_test_dict[\"score\"].append(submission.score)\n",
    "    final_test_dict[\"id\"].append(submission.id)\n",
    "    final_test_dict[\"url\"].append(submission.url)\n",
    "    final_test_dict[\"comms_num\"].append(submission.num_comments)\n",
    "    final_test_dict[\"created\"].append(submission.created)\n",
    "    final_test_dict[\"body\"].append(submission.selftext)\n",
    "    final_test_dict['subreddit'].append(df['subreddit'][x])\n",
    "    final_test_dict['year'].append(df['year'][x])\n",
    "\n",
    "    if x%1800==0:\n",
    "        time.sleep(0.5)\n",
    "\n",
    "    if x%10000==0:\n",
    "        print(x, \" posts completed\")\n",
    "\n"
   ]
  },
  {
   "cell_type": "code",
   "execution_count": 72,
   "metadata": {},
   "outputs": [
    {
     "data": {
      "text/plain": [
       "188499"
      ]
     },
     "execution_count": 72,
     "metadata": {},
     "output_type": "execute_result"
    }
   ],
   "source": [
    "len(final_test_dict['score'])"
   ]
  },
  {
   "cell_type": "code",
   "execution_count": 73,
   "metadata": {},
   "outputs": [],
   "source": [
    "sub_df_test = pd.DataFrame(final_test_dict)    \n",
    "\n",
    "#make temp df\n",
    "sub_df_test_v2 = sub_df_test\n",
    "\n",
    "#get posted date, add to df\n",
    "_timestamp = sub_df_test_v2[\"created\"].apply(get_date)\n",
    "sub_df_test_v2 = sub_df_test_v2.assign(timestamp = _timestamp)\n",
    "\n",
    "sub_df_test_v2['election year']=sub_df_test_v2['year'].astype(str).str[0:4]\n",
    "\n"
   ]
  },
  {
   "cell_type": "code",
   "execution_count": 74,
   "metadata": {
    "scrolled": true
   },
   "outputs": [
    {
     "data": {
      "text/plain": [
       "politics             180608\n",
       "Economics              7611\n",
       "arizonapolitics         170\n",
       "wisconsinpolitics       110\n",
       "Name: subreddit, dtype: int64"
      ]
     },
     "execution_count": 74,
     "metadata": {},
     "output_type": "execute_result"
    }
   ],
   "source": [
    "sub_df_test_v2['subreddit'].value_counts()"
   ]
  },
  {
   "cell_type": "code",
   "execution_count": 75,
   "metadata": {},
   "outputs": [
    {
     "data": {
      "text/plain": [
       "2012-11-06    65270\n",
       "2016-11-08    65236\n",
       "2018-11-06    44471\n",
       "2014-11-04    13522\n",
       "Name: year, dtype: int64"
      ]
     },
     "execution_count": 75,
     "metadata": {},
     "output_type": "execute_result"
    }
   ],
   "source": [
    "sub_df_test_v2['year'].value_counts()"
   ]
  },
  {
   "cell_type": "code",
   "execution_count": 76,
   "metadata": {
    "scrolled": false
   },
   "outputs": [
    {
     "data": {
      "text/html": [
       "<div>\n",
       "<style scoped>\n",
       "    .dataframe tbody tr th:only-of-type {\n",
       "        vertical-align: middle;\n",
       "    }\n",
       "\n",
       "    .dataframe tbody tr th {\n",
       "        vertical-align: top;\n",
       "    }\n",
       "\n",
       "    .dataframe thead th {\n",
       "        text-align: right;\n",
       "    }\n",
       "</style>\n",
       "<table border=\"1\" class=\"dataframe\">\n",
       "  <thead>\n",
       "    <tr style=\"text-align: right;\">\n",
       "      <th></th>\n",
       "      <th>subreddit</th>\n",
       "      <th>year</th>\n",
       "      <th>title</th>\n",
       "      <th>score</th>\n",
       "      <th>id</th>\n",
       "      <th>url</th>\n",
       "      <th>comms_num</th>\n",
       "      <th>created</th>\n",
       "      <th>body</th>\n",
       "      <th>timestamp</th>\n",
       "      <th>election year</th>\n",
       "    </tr>\n",
       "  </thead>\n",
       "  <tbody>\n",
       "    <tr>\n",
       "      <th>188494</th>\n",
       "      <td>politics</td>\n",
       "      <td>2012-11-06</td>\n",
       "      <td>Karl Rove and the election disaster</td>\n",
       "      <td>1</td>\n",
       "      <td>12zu0h</td>\n",
       "      <td>http://assertivetalk.com/?p=276</td>\n",
       "      <td>0</td>\n",
       "      <td>1.352635e+09</td>\n",
       "      <td></td>\n",
       "      <td>2012-11-11 06:52:15</td>\n",
       "      <td>2012</td>\n",
       "    </tr>\n",
       "    <tr>\n",
       "      <th>188495</th>\n",
       "      <td>politics</td>\n",
       "      <td>2012-11-06</td>\n",
       "      <td>Yup</td>\n",
       "      <td>2</td>\n",
       "      <td>12zu51</td>\n",
       "      <td>http://i.imgur.com/lei5X.jpg</td>\n",
       "      <td>3</td>\n",
       "      <td>1.352635e+09</td>\n",
       "      <td>[deleted]</td>\n",
       "      <td>2012-11-11 06:54:33</td>\n",
       "      <td>2012</td>\n",
       "    </tr>\n",
       "    <tr>\n",
       "      <th>188496</th>\n",
       "      <td>politics</td>\n",
       "      <td>2012-11-06</td>\n",
       "      <td>The Supreme Court Will Hear a Challenge to the...</td>\n",
       "      <td>40</td>\n",
       "      <td>12zu8d</td>\n",
       "      <td>http://www.theatlantic.com/national/archive/20...</td>\n",
       "      <td>0</td>\n",
       "      <td>1.352635e+09</td>\n",
       "      <td></td>\n",
       "      <td>2012-11-11 06:56:10</td>\n",
       "      <td>2012</td>\n",
       "    </tr>\n",
       "    <tr>\n",
       "      <th>188497</th>\n",
       "      <td>politics</td>\n",
       "      <td>2012-11-06</td>\n",
       "      <td>Inside Team Romney’s whale of an IT meltdown |...</td>\n",
       "      <td>52</td>\n",
       "      <td>12zu94</td>\n",
       "      <td>http://arstechnica.com/information-technology/...</td>\n",
       "      <td>17</td>\n",
       "      <td>1.352635e+09</td>\n",
       "      <td></td>\n",
       "      <td>2012-11-11 06:56:33</td>\n",
       "      <td>2012</td>\n",
       "    </tr>\n",
       "    <tr>\n",
       "      <th>188498</th>\n",
       "      <td>politics</td>\n",
       "      <td>2012-11-06</td>\n",
       "      <td>Fox News: Dana Perino said she \"would stab a d...</td>\n",
       "      <td>1</td>\n",
       "      <td>12zubp</td>\n",
       "      <td>http://video.foxnews.com/v/1959436530001/elect...</td>\n",
       "      <td>0</td>\n",
       "      <td>1.352635e+09</td>\n",
       "      <td></td>\n",
       "      <td>2012-11-11 06:58:05</td>\n",
       "      <td>2012</td>\n",
       "    </tr>\n",
       "  </tbody>\n",
       "</table>\n",
       "</div>"
      ],
      "text/plain": [
       "       subreddit        year  \\\n",
       "188494  politics  2012-11-06   \n",
       "188495  politics  2012-11-06   \n",
       "188496  politics  2012-11-06   \n",
       "188497  politics  2012-11-06   \n",
       "188498  politics  2012-11-06   \n",
       "\n",
       "                                                    title  score      id  \\\n",
       "188494                Karl Rove and the election disaster      1  12zu0h   \n",
       "188495                                                Yup      2  12zu51   \n",
       "188496  The Supreme Court Will Hear a Challenge to the...     40  12zu8d   \n",
       "188497  Inside Team Romney’s whale of an IT meltdown |...     52  12zu94   \n",
       "188498  Fox News: Dana Perino said she \"would stab a d...      1  12zubp   \n",
       "\n",
       "                                                      url  comms_num  \\\n",
       "188494                    http://assertivetalk.com/?p=276          0   \n",
       "188495                       http://i.imgur.com/lei5X.jpg          3   \n",
       "188496  http://www.theatlantic.com/national/archive/20...          0   \n",
       "188497  http://arstechnica.com/information-technology/...         17   \n",
       "188498  http://video.foxnews.com/v/1959436530001/elect...          0   \n",
       "\n",
       "             created       body           timestamp election year  \n",
       "188494  1.352635e+09            2012-11-11 06:52:15          2012  \n",
       "188495  1.352635e+09  [deleted] 2012-11-11 06:54:33          2012  \n",
       "188496  1.352635e+09            2012-11-11 06:56:10          2012  \n",
       "188497  1.352635e+09            2012-11-11 06:56:33          2012  \n",
       "188498  1.352635e+09            2012-11-11 06:58:05          2012  "
      ]
     },
     "execution_count": 76,
     "metadata": {},
     "output_type": "execute_result"
    }
   ],
   "source": [
    "sub_df_test_v2.tail()"
   ]
  },
  {
   "cell_type": "code",
   "execution_count": 77,
   "metadata": {},
   "outputs": [],
   "source": [
    "sub_df_test_v2.to_csv(\"reddit_test_posts.csv\")"
   ]
  }
 ],
 "metadata": {
  "kernelspec": {
   "display_name": "Python 3",
   "language": "python",
   "name": "python3"
  },
  "language_info": {
   "codemirror_mode": {
    "name": "ipython",
    "version": 3
   },
   "file_extension": ".py",
   "mimetype": "text/x-python",
   "name": "python",
   "nbconvert_exporter": "python",
   "pygments_lexer": "ipython3",
   "version": "3.7.5"
  }
 },
 "nbformat": 4,
 "nbformat_minor": 2
}
