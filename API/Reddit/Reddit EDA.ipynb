{
 "cells": [
  {
   "cell_type": "code",
   "execution_count": 7,
   "metadata": {},
   "outputs": [],
   "source": [
    "import pandas as pd\n",
    "import datetime as dt"
   ]
  },
  {
   "cell_type": "code",
   "execution_count": 2,
   "metadata": {},
   "outputs": [],
   "source": [
    "df = pd.read_csv(\"Reddit_Election_Posts.csv\")"
   ]
  },
  {
   "cell_type": "code",
   "execution_count": 5,
   "metadata": {},
   "outputs": [],
   "source": [
    "def get_date(created):\n",
    "    return dt.datetime.fromtimestamp(created)\n",
    "\n"
   ]
  },
  {
   "cell_type": "code",
   "execution_count": 8,
   "metadata": {},
   "outputs": [],
   "source": [
    "#get posted date, add to df\n",
    "_timestamp = df[\"created\"].apply(get_date)\n",
    "df = df.assign(timestamp = _timestamp)\n",
    "\n",
    "df['election year']=df['year'].astype(str).str[0:4]\n",
    "\n"
   ]
  },
  {
   "cell_type": "code",
   "execution_count": 9,
   "metadata": {},
   "outputs": [
    {
     "data": {
      "text/html": [
       "<div>\n",
       "<style scoped>\n",
       "    .dataframe tbody tr th:only-of-type {\n",
       "        vertical-align: middle;\n",
       "    }\n",
       "\n",
       "    .dataframe tbody tr th {\n",
       "        vertical-align: top;\n",
       "    }\n",
       "\n",
       "    .dataframe thead th {\n",
       "        text-align: right;\n",
       "    }\n",
       "</style>\n",
       "<table border=\"1\" class=\"dataframe\">\n",
       "  <thead>\n",
       "    <tr style=\"text-align: right;\">\n",
       "      <th></th>\n",
       "      <th>subreddit</th>\n",
       "      <th>year</th>\n",
       "      <th>title</th>\n",
       "      <th>score</th>\n",
       "      <th>id</th>\n",
       "      <th>url</th>\n",
       "      <th>comms_num</th>\n",
       "      <th>created</th>\n",
       "      <th>body</th>\n",
       "      <th>timestamp</th>\n",
       "      <th>election year</th>\n",
       "    </tr>\n",
       "  </thead>\n",
       "  <tbody>\n",
       "    <tr>\n",
       "      <th>0</th>\n",
       "      <td>Liberal</td>\n",
       "      <td>2018-11-06</td>\n",
       "      <td>Changing party affiliation in response to Kave...</td>\n",
       "      <td>13</td>\n",
       "      <td>9m2dtt</td>\n",
       "      <td>https://www.reddit.com/r/Liberal/comments/9m2d...</td>\n",
       "      <td>49</td>\n",
       "      <td>1.538914e+09</td>\n",
       "      <td>Hey everyone,\\n\\nSo, I've long tried to be the...</td>\n",
       "      <td>2018-10-07 08:03:17</td>\n",
       "      <td>2018</td>\n",
       "    </tr>\n",
       "    <tr>\n",
       "      <th>1</th>\n",
       "      <td>Liberal</td>\n",
       "      <td>2018-11-06</td>\n",
       "      <td>My mother and I have decided to cut off commun...</td>\n",
       "      <td>1</td>\n",
       "      <td>9m2f5d</td>\n",
       "      <td>https://www.reddit.com/r/Liberal/comments/9m2f...</td>\n",
       "      <td>0</td>\n",
       "      <td>1.538914e+09</td>\n",
       "      <td>[removed]</td>\n",
       "      <td>2018-10-07 08:09:44</td>\n",
       "      <td>2018</td>\n",
       "    </tr>\n",
       "    <tr>\n",
       "      <th>2</th>\n",
       "      <td>Liberal</td>\n",
       "      <td>2018-11-06</td>\n",
       "      <td>What can I do to help?</td>\n",
       "      <td>0</td>\n",
       "      <td>9m2ixb</td>\n",
       "      <td>https://www.reddit.com/r/Liberal/comments/9m2i...</td>\n",
       "      <td>10</td>\n",
       "      <td>1.538915e+09</td>\n",
       "      <td>[deleted]</td>\n",
       "      <td>2018-10-07 08:28:44</td>\n",
       "      <td>2018</td>\n",
       "    </tr>\n",
       "    <tr>\n",
       "      <th>3</th>\n",
       "      <td>Liberal</td>\n",
       "      <td>2018-11-06</td>\n",
       "      <td>The current World Population is estimated to b...</td>\n",
       "      <td>4</td>\n",
       "      <td>9m2kyh</td>\n",
       "      <td>https://www.reddit.com/r/Liberal/comments/9m2k...</td>\n",
       "      <td>8</td>\n",
       "      <td>1.538916e+09</td>\n",
       "      <td>[deleted]</td>\n",
       "      <td>2018-10-07 08:39:28</td>\n",
       "      <td>2018</td>\n",
       "    </tr>\n",
       "    <tr>\n",
       "      <th>4</th>\n",
       "      <td>Liberal</td>\n",
       "      <td>2018-11-06</td>\n",
       "      <td>С кем поведешься, от того и наберешься</td>\n",
       "      <td>1</td>\n",
       "      <td>9m3ygv</td>\n",
       "      <td>https://www.reddit.com/r/Liberal/comments/9m3y...</td>\n",
       "      <td>0</td>\n",
       "      <td>1.538935e+09</td>\n",
       "      <td>[removed]</td>\n",
       "      <td>2018-10-07 13:49:12</td>\n",
       "      <td>2018</td>\n",
       "    </tr>\n",
       "  </tbody>\n",
       "</table>\n",
       "</div>"
      ],
      "text/plain": [
       "  subreddit        year                                              title  \\\n",
       "0   Liberal  2018-11-06  Changing party affiliation in response to Kave...   \n",
       "1   Liberal  2018-11-06  My mother and I have decided to cut off commun...   \n",
       "2   Liberal  2018-11-06                             What can I do to help?   \n",
       "3   Liberal  2018-11-06  The current World Population is estimated to b...   \n",
       "4   Liberal  2018-11-06             С кем поведешься, от того и наберешься   \n",
       "\n",
       "   score      id                                                url  \\\n",
       "0     13  9m2dtt  https://www.reddit.com/r/Liberal/comments/9m2d...   \n",
       "1      1  9m2f5d  https://www.reddit.com/r/Liberal/comments/9m2f...   \n",
       "2      0  9m2ixb  https://www.reddit.com/r/Liberal/comments/9m2i...   \n",
       "3      4  9m2kyh  https://www.reddit.com/r/Liberal/comments/9m2k...   \n",
       "4      1  9m3ygv  https://www.reddit.com/r/Liberal/comments/9m3y...   \n",
       "\n",
       "   comms_num       created                                               body  \\\n",
       "0         49  1.538914e+09  Hey everyone,\\n\\nSo, I've long tried to be the...   \n",
       "1          0  1.538914e+09                                          [removed]   \n",
       "2         10  1.538915e+09                                          [deleted]   \n",
       "3          8  1.538916e+09                                          [deleted]   \n",
       "4          0  1.538935e+09                                          [removed]   \n",
       "\n",
       "            timestamp election year  \n",
       "0 2018-10-07 08:03:17          2018  \n",
       "1 2018-10-07 08:09:44          2018  \n",
       "2 2018-10-07 08:28:44          2018  \n",
       "3 2018-10-07 08:39:28          2018  \n",
       "4 2018-10-07 13:49:12          2018  "
      ]
     },
     "execution_count": 9,
     "metadata": {},
     "output_type": "execute_result"
    }
   ],
   "source": [
    "df.head()"
   ]
  },
  {
   "cell_type": "code",
   "execution_count": 10,
   "metadata": {},
   "outputs": [
    {
     "data": {
      "text/plain": [
       "Conservative        24175\n",
       "Liberal              2916\n",
       "moderatepolitics      739\n",
       "Name: subreddit, dtype: int64"
      ]
     },
     "execution_count": 10,
     "metadata": {},
     "output_type": "execute_result"
    }
   ],
   "source": [
    "df['subreddit'].value_counts()"
   ]
  },
  {
   "cell_type": "code",
   "execution_count": 11,
   "metadata": {},
   "outputs": [
    {
     "data": {
      "text/plain": [
       "2018    10308\n",
       "2012     7319\n",
       "2016     5603\n",
       "2014     4600\n",
       "Name: election year, dtype: int64"
      ]
     },
     "execution_count": 11,
     "metadata": {},
     "output_type": "execute_result"
    }
   ],
   "source": [
    "df['election year'].value_counts()"
   ]
  },
  {
   "cell_type": "code",
   "execution_count": null,
   "metadata": {},
   "outputs": [],
   "source": []
  }
 ],
 "metadata": {
  "kernelspec": {
   "display_name": "Python 3",
   "language": "python",
   "name": "python3"
  },
  "language_info": {
   "codemirror_mode": {
    "name": "ipython",
    "version": 3
   },
   "file_extension": ".py",
   "mimetype": "text/x-python",
   "name": "python",
   "nbconvert_exporter": "python",
   "pygments_lexer": "ipython3",
   "version": "3.7.5"
  }
 },
 "nbformat": 4,
 "nbformat_minor": 2
}
