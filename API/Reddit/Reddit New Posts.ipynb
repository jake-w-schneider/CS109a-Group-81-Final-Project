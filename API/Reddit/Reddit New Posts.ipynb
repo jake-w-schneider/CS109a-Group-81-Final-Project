{
 "cells": [
  {
   "cell_type": "code",
   "execution_count": 1,
   "metadata": {},
   "outputs": [],
   "source": [
    "import pandas as pd\n",
    "import datetime as dt\n",
    "import matplotlib.pyplot as plt \n",
    "import seaborn as sns\n",
    "from wordcloud import WordCloud, STOPWORDS \n",
    "import nltk\n",
    "from nltk.corpus import stopwords \n",
    "from nltk.tokenize import word_tokenize \n",
    "import numpy as np\n",
    "import scipy as sp\n",
    "import heapq\n",
    "from tqdm import tqdm_notebook as tqdm\n",
    "\n",
    "from sklearn.linear_model import LinearRegression\n",
    "from sklearn.linear_model import LogisticRegression\n",
    "from sklearn.linear_model import LassoCV\n",
    "\n",
    "from sklearn.model_selection import train_test_split\n",
    "from sklearn.model_selection import cross_val_score\n",
    "from sklearn.utils import resample\n",
    "from sklearn.tree import DecisionTreeClassifier\n",
    "from sklearn.ensemble import RandomForestClassifier\n",
    "from sklearn.ensemble import AdaBoostClassifier\n",
    "from sklearn.metrics import accuracy_score\n",
    "from sklearn.linear_model import LogisticRegressionCV\n",
    "from sklearn.metrics import confusion_matrix\n",
    "from sklearn.preprocessing import scale\n",
    "from sklearn.metrics import roc_auc_score,accuracy_score\n",
    "from sklearn.model_selection import GridSearchCV\n",
    "from random import randint \n",
    "from sklearn.decomposition import PCA\n",
    "from sklearn import metrics\n",
    "\n",
    "from sklearn import tree\n",
    "from sklearn.utils import shuffle"
   ]
  },
  {
   "cell_type": "code",
   "execution_count": 2,
   "metadata": {},
   "outputs": [],
   "source": [
    "df = pd.read_csv(\"reddit_test_posts.csv\")"
   ]
  },
  {
   "cell_type": "code",
   "execution_count": 18,
   "metadata": {},
   "outputs": [],
   "source": [
    "#filter for 2018 posts only\n",
    "df_18 = df.loc[df['election year']==2018]"
   ]
  },
  {
   "cell_type": "code",
   "execution_count": 33,
   "metadata": {},
   "outputs": [
    {
     "data": {
      "text/plain": [
       "politics             42954\n",
       "Economics             1295\n",
       "arizonapolitics        148\n",
       "wisconsinpolitics       74\n",
       "Name: subreddit, dtype: int64"
      ]
     },
     "execution_count": 33,
     "metadata": {},
     "output_type": "execute_result"
    }
   ],
   "source": [
    "df_18['subreddit'].value_counts()"
   ]
  },
  {
   "cell_type": "code",
   "execution_count": 3,
   "metadata": {},
   "outputs": [
    {
     "data": {
      "image/png": "[encoded data removed]",
      "text/plain": [
       "<Figure size 864x360 with 4 Axes>"
      ]
     },
     "metadata": {
      "needs_background": "light"
     },
     "output_type": "display_data"
    }
   ],
   "source": [
    "sns.catplot(x=\"election year\", y=\"score\", hue=\"subreddit\",\n",
    "            col=\"subreddit\", aspect=.6,\n",
    "             data=df);\n"
   ]
  },
  {
   "cell_type": "code",
   "execution_count": 5,
   "metadata": {},
   "outputs": [
    {
     "name": "stderr",
     "output_type": "stream",
     "text": [
      "[nltk_data] Downloading package punkt to\n",
      "[nltk_data]     /Users/ericenglin/nltk_data...\n",
      "[nltk_data]   Package punkt is already up-to-date!\n"
     ]
    },
    {
     "data": {
      "text/plain": [
       "True"
      ]
     },
     "execution_count": 5,
     "metadata": {},
     "output_type": "execute_result"
    }
   ],
   "source": [
    "nltk.download('punkt')"
   ]
  },
  {
   "cell_type": "code",
   "execution_count": 6,
   "metadata": {},
   "outputs": [],
   "source": [
    "def stringinize(df):\n",
    "    comment_words = ' '\n",
    "    token_list = []\n",
    "    \n",
    "    for x in df['title']:\n",
    "\n",
    "        # typecaste each val to string      \n",
    "        val = str(x.strip()) \n",
    "\n",
    "        # split the value \n",
    "        #tokens = val.split() \n",
    "        \n",
    "        #tokenize\n",
    "        tokens = word_tokenize(x)\n",
    "        \n",
    "        # Converts each token into lowercase \n",
    "        for i in range(len(tokens)): \n",
    "            tokens[i] = tokens[i].lower() \n",
    "\n",
    "        for words in tokens: \n",
    "            comment_words = comment_words + words + \" \"\n",
    "            token_list.append(words)\n",
    "    \n",
    "    return comment_words, token_list"
   ]
  },
  {
   "cell_type": "code",
   "execution_count": 7,
   "metadata": {},
   "outputs": [],
   "source": [
    "stopwords = set(STOPWORDS)\n",
    "\n",
    "for x in ['-','|','--', '$', '%', '.', ',','?',':',';',\"'\", '\"', \"'s\", 's', '&', '[',']',\"'m\",\n",
    "            '...', '(',')','!', '``','‘',\"n't\",\"’\", \"'\",\" ``\",\"''\", \"”\", '“','t', \"'ve'\"]:\n",
    "    stopwords.add(x)"
   ]
  },
  {
   "cell_type": "code",
   "execution_count": 8,
   "metadata": {},
   "outputs": [],
   "source": [
    "subreddits = ['Economics','wisconsinpolitics',\n",
    "             'arizonapolitics','politics']"
   ]
  },
  {
   "cell_type": "code",
   "execution_count": 19,
   "metadata": {},
   "outputs": [],
   "source": [
    "# make NLTK dataset for dictionaries with words for each subreddit\n",
    "\n",
    "word_dict = { \"subreddit\":[], \n",
    "                \"comment_words\":[], \n",
    "                \"token_list\":[]}\n",
    "\n",
    "for x in subreddits:\n",
    "    df_temp = df_18.loc[df_18['subreddit']==x]\n",
    "    \n",
    "    \n",
    "    word_dict[\"subreddit\"].append(str(x))\n",
    "    \n",
    "    comment_words, token_list = stringinize(df_temp)\n",
    "    word_dict[\"comment_words\"].append(comment_words)\n",
    "    word_dict[\"token_list\"].append(token_list)"
   ]
  },
  {
   "cell_type": "code",
   "execution_count": 20,
   "metadata": {},
   "outputs": [
    {
     "data": {
      "image/png": "[encoded data removed]",
      "text/plain": [
       "<Figure size 432x288 with 1 Axes>"
      ]
     },
     "metadata": {
      "needs_background": "light"
     },
     "output_type": "display_data"
    },
    {
     "data": {
      "image/png": "[encoded data removed]",
      "text/plain": [
       "<Figure size 432x288 with 1 Axes>"
      ]
     },
     "metadata": {
      "needs_background": "light"
     },
     "output_type": "display_data"
    },
    {
     "data": {
      "image/png": "[encoded data removed]",
      "text/plain": [
       "<Figure size 432x288 with 1 Axes>"
      ]
     },
     "metadata": {
      "needs_background": "light"
     },
     "output_type": "display_data"
    },
    {
     "data": {
      "image/png": "[encoded data removed]",
      "text/plain": [
       "<Figure size 432x288 with 1 Axes>"
      ]
     },
     "metadata": {
      "needs_background": "light"
     },
     "output_type": "display_data"
    }
   ],
   "source": [
    "class_list = []\n",
    "freq_list = []\n",
    "word_list = []\n",
    "z=0\n",
    "\n",
    "for x, y in zip(word_dict['token_list'], subreddits):    \n",
    "    filtered_sentence = [] \n",
    "\n",
    "    for w in x: \n",
    "        if w not in stopwords: \n",
    "            filtered_sentence.append(w) \n",
    "\n",
    "\n",
    "    fd = nltk.FreqDist(filtered_sentence)\n",
    "    total = fd.N()\n",
    "    for word in fd:\n",
    "        fd[word] /= float(total)\n",
    "    \n",
    "    fd.plot(20,cumulative=False,title = str(y)+\" Normalized Word Frequency\")\n",
    "    \n",
    "    for word in fd:\n",
    "        word_list.append(word)\n",
    "        freq_list.append(fd[word])\n",
    "        class_list.append(y)"
   ]
  },
  {
   "cell_type": "markdown",
   "metadata": {},
   "source": [
    "# Function to generate frame of posts as rows and words as columns"
   ]
  },
  {
   "cell_type": "code",
   "execution_count": 106,
   "metadata": {},
   "outputs": [],
   "source": [
    "df_new = pd.DataFrame(df_18['title'])"
   ]
  },
  {
   "cell_type": "code",
   "execution_count": 107,
   "metadata": {},
   "outputs": [
    {
     "data": {
      "text/html": [
       "<div>\n",
       "<style scoped>\n",
       "    .dataframe tbody tr th:only-of-type {\n",
       "        vertical-align: middle;\n",
       "    }\n",
       "\n",
       "    .dataframe tbody tr th {\n",
       "        vertical-align: top;\n",
       "    }\n",
       "\n",
       "    .dataframe thead th {\n",
       "        text-align: right;\n",
       "    }\n",
       "</style>\n",
       "<table border=\"1\" class=\"dataframe\">\n",
       "  <thead>\n",
       "    <tr style=\"text-align: right;\">\n",
       "      <th></th>\n",
       "      <th>title</th>\n",
       "    </tr>\n",
       "  </thead>\n",
       "  <tbody>\n",
       "    <tr>\n",
       "      <th>0</th>\n",
       "      <td>Saudi Arabia Tells US President Donald Trump N...</td>\n",
       "    </tr>\n",
       "    <tr>\n",
       "      <th>1</th>\n",
       "      <td>The 10-year average 10 years out</td>\n",
       "    </tr>\n",
       "    <tr>\n",
       "      <th>2</th>\n",
       "      <td>Ronaldinho and the Right-Winger. Brazilian foo...</td>\n",
       "    </tr>\n",
       "    <tr>\n",
       "      <th>3</th>\n",
       "      <td>BIS’s latest hunt for Zombie (firms)</td>\n",
       "    </tr>\n",
       "    <tr>\n",
       "      <th>4</th>\n",
       "      <td>From convergence to divergence: Portuguese eco...</td>\n",
       "    </tr>\n",
       "  </tbody>\n",
       "</table>\n",
       "</div>"
      ],
      "text/plain": [
       "                                               title\n",
       "0  Saudi Arabia Tells US President Donald Trump N...\n",
       "1                   The 10-year average 10 years out\n",
       "2  Ronaldinho and the Right-Winger. Brazilian foo...\n",
       "3               BIS’s latest hunt for Zombie (firms)\n",
       "4  From convergence to divergence: Portuguese eco..."
      ]
     },
     "execution_count": 107,
     "metadata": {},
     "output_type": "execute_result"
    }
   ],
   "source": [
    "df_new.head()"
   ]
  },
  {
   "cell_type": "code",
   "execution_count": 108,
   "metadata": {},
   "outputs": [],
   "source": [
    "def get_tokens(df):\n",
    "    tokens_clean = []\n",
    "    for post in tqdm(range(len(df))):\n",
    "        x = df['title'][post]\n",
    "        # typecaste each val to string and strip     \n",
    "        val = str(x.strip())       \n",
    "        #tokenize\n",
    "        tokens = word_tokenize(val)\n",
    "        for word in tokens:\n",
    "            word = word.lower()\n",
    "            if word not in stopwords:\n",
    "                tokens_clean.append(word)\n",
    "        \n",
    "    fd = nltk.FreqDist(tokens_clean)\n",
    "    return fd\n"
   ]
  },
  {
   "cell_type": "code",
   "execution_count": 109,
   "metadata": {
    "scrolled": true
   },
   "outputs": [
    {
     "data": {
      "application/vnd.jupyter.widget-view+json": {
       "model_id": "9d7f93d2cae34f1cb427306d4c2d76c0",
       "version_major": 2,
       "version_minor": 0
      },
      "text/plain": [
       "HBox(children=(IntProgress(value=0, max=44471), HTML(value='')))"
      ]
     },
     "metadata": {},
     "output_type": "display_data"
    },
    {
     "name": "stdout",
     "output_type": "stream",
     "text": [
      "\n"
     ]
    }
   ],
   "source": [
    "wordfreq = get_tokens(df_new)\n",
    "most_freq = heapq.nlargest(200, wordfreq, key=wordfreq.get)"
   ]
  },
  {
   "cell_type": "code",
   "execution_count": 120,
   "metadata": {},
   "outputs": [],
   "source": [
    "import heapq\n",
    "most_freq = heapq.nlargest(50000, wordfreq, key=wordfreq.get)"
   ]
  },
  {
   "cell_type": "code",
   "execution_count": 121,
   "metadata": {},
   "outputs": [],
   "source": [
    "def get_matrix(df,most_freq):    #some code from https://stackabuse.com/python-for-nlp-creating-bag-of-words-model-from-scratch/\n",
    "    post_vectors = []\n",
    "    for post in tqdm(range(len(df))):\n",
    "        x = df['title'][post]\n",
    "        val = str(x.strip())  \n",
    "        post_tokens = nltk.word_tokenize(val)\n",
    "        post_vec = []\n",
    "        for token in most_freq:\n",
    "            if token in post_tokens:\n",
    "                post_vec.append(1)\n",
    "            else:\n",
    "                post_vec.append(0)\n",
    "        post_vectors.append(post_vec)\n",
    "        \n",
    "    return post_vectors"
   ]
  },
  {
   "cell_type": "code",
   "execution_count": 122,
   "metadata": {},
   "outputs": [
    {
     "data": {
      "application/vnd.jupyter.widget-view+json": {
       "model_id": "3d13b1b040da45c2a2178998202f6c7f",
       "version_major": 2,
       "version_minor": 0
      },
      "text/plain": [
       "HBox(children=(IntProgress(value=0, max=44471), HTML(value='')))"
      ]
     },
     "metadata": {},
     "output_type": "display_data"
    },
    {
     "name": "stdout",
     "output_type": "stream",
     "text": [
      "\n"
     ]
    }
   ],
   "source": [
    "post_matrix = get_matrix(df_new,most_freq)"
   ]
  },
  {
   "cell_type": "code",
   "execution_count": 123,
   "metadata": {},
   "outputs": [],
   "source": [
    "post_matrix = np.asarray(post_matrix)\n",
    "df_post = pd.DataFrame(post_matrix, columns = most_freq)\n",
    "df_post['subreddit_class']=df_18['subreddit']\n",
    "#df_post.to_csv(\"post_matrix.csv\", index=False)\n"
   ]
  },
  {
   "cell_type": "code",
   "execution_count": 124,
   "metadata": {},
   "outputs": [],
   "source": [
    "preds = pd.read_csv(\"X_test_smaller.csv\")"
   ]
  },
  {
   "cell_type": "code",
   "execution_count": 125,
   "metadata": {},
   "outputs": [],
   "source": [
    "col_names = preds.columns"
   ]
  },
  {
   "cell_type": "code",
   "execution_count": 129,
   "metadata": {
    "scrolled": false
   },
   "outputs": [
    {
     "name": "stderr",
     "output_type": "stream",
     "text": [
      "/anaconda3/lib/python3.7/site-packages/ipykernel_launcher.py:13: SettingWithCopyWarning: \n",
      "A value is trying to be set on a copy of a slice from a DataFrame.\n",
      "Try using .loc[row_indexer,col_indexer] = value instead\n",
      "\n",
      "See the caveats in the documentation: http://pandas.pydata.org/pandas-docs/stable/user_guide/indexing.html#returning-a-view-versus-a-copy\n",
      "  del sys.path[0]\n"
     ]
    }
   ],
   "source": [
    "n=0\n",
    "col_nums = []\n",
    "bad_col_names = []\n",
    "for x in col_names:\n",
    "    if x in df_post.columns:\n",
    "        n+=1\n",
    "        y = str(x)\n",
    "        col_nums.append(df_post.columns.get_loc(x))\n",
    "    else:\n",
    "        bad_col_names.append(x)\n",
    "\n",
    "df_final = df_post.iloc[:,col_nums]\n",
    "df_final['subreddit_class'] = df_post['subreddit_class']"
   ]
  },
  {
   "cell_type": "code",
   "execution_count": 131,
   "metadata": {},
   "outputs": [
    {
     "name": "stdout",
     "output_type": "stream",
     "text": [
      "1265\n",
      "1308\n",
      "43\n"
     ]
    }
   ],
   "source": [
    "print(len(col_nums))\n",
    "print(len(col_names))\n",
    "print(len(bad_col_names))"
   ]
  },
  {
   "cell_type": "code",
   "execution_count": 134,
   "metadata": {},
   "outputs": [
    {
     "name": "stderr",
     "output_type": "stream",
     "text": [
      "/anaconda3/lib/python3.7/site-packages/ipykernel_launcher.py:2: SettingWithCopyWarning: \n",
      "A value is trying to be set on a copy of a slice from a DataFrame.\n",
      "Try using .loc[row_indexer,col_indexer] = value instead\n",
      "\n",
      "See the caveats in the documentation: http://pandas.pydata.org/pandas-docs/stable/user_guide/indexing.html#returning-a-view-versus-a-copy\n",
      "  \n"
     ]
    }
   ],
   "source": [
    "for x in bad_col_names:\n",
    "    df_final[x]=0"
   ]
  },
  {
   "cell_type": "code",
   "execution_count": 135,
   "metadata": {},
   "outputs": [
    {
     "data": {
      "text/html": [
       "<div>\n",
       "<style scoped>\n",
       "    .dataframe tbody tr th:only-of-type {\n",
       "        vertical-align: middle;\n",
       "    }\n",
       "\n",
       "    .dataframe tbody tr th {\n",
       "        vertical-align: top;\n",
       "    }\n",
       "\n",
       "    .dataframe thead th {\n",
       "        text-align: right;\n",
       "    }\n",
       "</style>\n",
       "<table border=\"1\" class=\"dataframe\">\n",
       "  <thead>\n",
       "    <tr style=\"text-align: right;\">\n",
       "      <th></th>\n",
       "      <th>dead</th>\n",
       "      <th>student</th>\n",
       "      <th>girl</th>\n",
       "      <th>probe</th>\n",
       "      <th>48</th>\n",
       "      <th>ll</th>\n",
       "      <th>thinks</th>\n",
       "      <th>asks</th>\n",
       "      <th>45</th>\n",
       "      <th>allegations</th>\n",
       "      <th>...</th>\n",
       "      <th>optimal</th>\n",
       "      <th>mammograms</th>\n",
       "      <th>85.6</th>\n",
       "      <th>invaded</th>\n",
       "      <th>viewpoints</th>\n",
       "      <th>smug</th>\n",
       "      <th>selection</th>\n",
       "      <th>lib</th>\n",
       "      <th>uterus</th>\n",
       "      <th>viewpoint</th>\n",
       "    </tr>\n",
       "  </thead>\n",
       "  <tbody>\n",
       "    <tr>\n",
       "      <th>0</th>\n",
       "      <td>0</td>\n",
       "      <td>0</td>\n",
       "      <td>0</td>\n",
       "      <td>0</td>\n",
       "      <td>0</td>\n",
       "      <td>0</td>\n",
       "      <td>0</td>\n",
       "      <td>0</td>\n",
       "      <td>0</td>\n",
       "      <td>0</td>\n",
       "      <td>...</td>\n",
       "      <td>0</td>\n",
       "      <td>0</td>\n",
       "      <td>0</td>\n",
       "      <td>0</td>\n",
       "      <td>0</td>\n",
       "      <td>0</td>\n",
       "      <td>0</td>\n",
       "      <td>0</td>\n",
       "      <td>0</td>\n",
       "      <td>0</td>\n",
       "    </tr>\n",
       "    <tr>\n",
       "      <th>1</th>\n",
       "      <td>0</td>\n",
       "      <td>0</td>\n",
       "      <td>0</td>\n",
       "      <td>0</td>\n",
       "      <td>0</td>\n",
       "      <td>0</td>\n",
       "      <td>0</td>\n",
       "      <td>0</td>\n",
       "      <td>0</td>\n",
       "      <td>0</td>\n",
       "      <td>...</td>\n",
       "      <td>0</td>\n",
       "      <td>0</td>\n",
       "      <td>0</td>\n",
       "      <td>0</td>\n",
       "      <td>0</td>\n",
       "      <td>0</td>\n",
       "      <td>0</td>\n",
       "      <td>0</td>\n",
       "      <td>0</td>\n",
       "      <td>0</td>\n",
       "    </tr>\n",
       "    <tr>\n",
       "      <th>2</th>\n",
       "      <td>0</td>\n",
       "      <td>0</td>\n",
       "      <td>0</td>\n",
       "      <td>0</td>\n",
       "      <td>0</td>\n",
       "      <td>0</td>\n",
       "      <td>0</td>\n",
       "      <td>0</td>\n",
       "      <td>0</td>\n",
       "      <td>0</td>\n",
       "      <td>...</td>\n",
       "      <td>0</td>\n",
       "      <td>0</td>\n",
       "      <td>0</td>\n",
       "      <td>0</td>\n",
       "      <td>0</td>\n",
       "      <td>0</td>\n",
       "      <td>0</td>\n",
       "      <td>0</td>\n",
       "      <td>0</td>\n",
       "      <td>0</td>\n",
       "    </tr>\n",
       "    <tr>\n",
       "      <th>3</th>\n",
       "      <td>0</td>\n",
       "      <td>0</td>\n",
       "      <td>0</td>\n",
       "      <td>0</td>\n",
       "      <td>0</td>\n",
       "      <td>0</td>\n",
       "      <td>0</td>\n",
       "      <td>0</td>\n",
       "      <td>0</td>\n",
       "      <td>0</td>\n",
       "      <td>...</td>\n",
       "      <td>0</td>\n",
       "      <td>0</td>\n",
       "      <td>0</td>\n",
       "      <td>0</td>\n",
       "      <td>0</td>\n",
       "      <td>0</td>\n",
       "      <td>0</td>\n",
       "      <td>0</td>\n",
       "      <td>0</td>\n",
       "      <td>0</td>\n",
       "    </tr>\n",
       "    <tr>\n",
       "      <th>4</th>\n",
       "      <td>0</td>\n",
       "      <td>0</td>\n",
       "      <td>0</td>\n",
       "      <td>0</td>\n",
       "      <td>0</td>\n",
       "      <td>0</td>\n",
       "      <td>0</td>\n",
       "      <td>0</td>\n",
       "      <td>0</td>\n",
       "      <td>0</td>\n",
       "      <td>...</td>\n",
       "      <td>0</td>\n",
       "      <td>0</td>\n",
       "      <td>0</td>\n",
       "      <td>0</td>\n",
       "      <td>0</td>\n",
       "      <td>0</td>\n",
       "      <td>0</td>\n",
       "      <td>0</td>\n",
       "      <td>0</td>\n",
       "      <td>0</td>\n",
       "    </tr>\n",
       "  </tbody>\n",
       "</table>\n",
       "<p>5 rows × 1309 columns</p>\n",
       "</div>"
      ],
      "text/plain": [
       "   dead  student  girl  probe  48  ll  thinks  asks  45  allegations  ...  \\\n",
       "0     0        0     0      0   0   0       0     0   0            0  ...   \n",
       "1     0        0     0      0   0   0       0     0   0            0  ...   \n",
       "2     0        0     0      0   0   0       0     0   0            0  ...   \n",
       "3     0        0     0      0   0   0       0     0   0            0  ...   \n",
       "4     0        0     0      0   0   0       0     0   0            0  ...   \n",
       "\n",
       "   optimal  mammograms  85.6  invaded  viewpoints  smug  selection  lib  \\\n",
       "0        0           0     0        0           0     0          0    0   \n",
       "1        0           0     0        0           0     0          0    0   \n",
       "2        0           0     0        0           0     0          0    0   \n",
       "3        0           0     0        0           0     0          0    0   \n",
       "4        0           0     0        0           0     0          0    0   \n",
       "\n",
       "   uterus  viewpoint  \n",
       "0       0          0  \n",
       "1       0          0  \n",
       "2       0          0  \n",
       "3       0          0  \n",
       "4       0          0  \n",
       "\n",
       "[5 rows x 1309 columns]"
      ]
     },
     "execution_count": 135,
     "metadata": {},
     "output_type": "execute_result"
    }
   ],
   "source": [
    "df_final.head()"
   ]
  },
  {
   "cell_type": "code",
   "execution_count": 137,
   "metadata": {},
   "outputs": [
    {
     "data": {
      "text/html": [
       "<div>\n",
       "<style scoped>\n",
       "    .dataframe tbody tr th:only-of-type {\n",
       "        vertical-align: middle;\n",
       "    }\n",
       "\n",
       "    .dataframe tbody tr th {\n",
       "        vertical-align: top;\n",
       "    }\n",
       "\n",
       "    .dataframe thead th {\n",
       "        text-align: right;\n",
       "    }\n",
       "</style>\n",
       "<table border=\"1\" class=\"dataframe\">\n",
       "  <thead>\n",
       "    <tr style=\"text-align: right;\">\n",
       "      <th></th>\n",
       "      <th>dead</th>\n",
       "      <th>student</th>\n",
       "      <th>girl</th>\n",
       "      <th>probe</th>\n",
       "      <th>48</th>\n",
       "      <th>ll</th>\n",
       "      <th>thinks</th>\n",
       "      <th>asks</th>\n",
       "      <th>45</th>\n",
       "      <th>allegations</th>\n",
       "      <th>...</th>\n",
       "      <th>optimal</th>\n",
       "      <th>mammograms</th>\n",
       "      <th>85.6</th>\n",
       "      <th>invaded</th>\n",
       "      <th>viewpoints</th>\n",
       "      <th>smug</th>\n",
       "      <th>selection</th>\n",
       "      <th>lib</th>\n",
       "      <th>uterus</th>\n",
       "      <th>viewpoint</th>\n",
       "    </tr>\n",
       "  </thead>\n",
       "  <tbody>\n",
       "    <tr>\n",
       "      <th>count</th>\n",
       "      <td>44471.000000</td>\n",
       "      <td>44471.000000</td>\n",
       "      <td>44471.000000</td>\n",
       "      <td>44471.000000</td>\n",
       "      <td>44471.000000</td>\n",
       "      <td>44471.000000</td>\n",
       "      <td>44471.000000</td>\n",
       "      <td>44471.000000</td>\n",
       "      <td>44471.000000</td>\n",
       "      <td>44471.000000</td>\n",
       "      <td>...</td>\n",
       "      <td>44471.0</td>\n",
       "      <td>44471.0</td>\n",
       "      <td>44471.0</td>\n",
       "      <td>44471.0</td>\n",
       "      <td>44471.0</td>\n",
       "      <td>44471.0</td>\n",
       "      <td>44471.0</td>\n",
       "      <td>44471.0</td>\n",
       "      <td>44471.0</td>\n",
       "      <td>44471.0</td>\n",
       "    </tr>\n",
       "    <tr>\n",
       "      <th>mean</th>\n",
       "      <td>0.002563</td>\n",
       "      <td>0.001349</td>\n",
       "      <td>0.000315</td>\n",
       "      <td>0.006499</td>\n",
       "      <td>0.000337</td>\n",
       "      <td>0.001754</td>\n",
       "      <td>0.001102</td>\n",
       "      <td>0.001484</td>\n",
       "      <td>0.000315</td>\n",
       "      <td>0.001597</td>\n",
       "      <td>...</td>\n",
       "      <td>0.0</td>\n",
       "      <td>0.0</td>\n",
       "      <td>0.0</td>\n",
       "      <td>0.0</td>\n",
       "      <td>0.0</td>\n",
       "      <td>0.0</td>\n",
       "      <td>0.0</td>\n",
       "      <td>0.0</td>\n",
       "      <td>0.0</td>\n",
       "      <td>0.0</td>\n",
       "    </tr>\n",
       "    <tr>\n",
       "      <th>std</th>\n",
       "      <td>0.050566</td>\n",
       "      <td>0.036707</td>\n",
       "      <td>0.017740</td>\n",
       "      <td>0.080353</td>\n",
       "      <td>0.018363</td>\n",
       "      <td>0.041844</td>\n",
       "      <td>0.033176</td>\n",
       "      <td>0.038496</td>\n",
       "      <td>0.017740</td>\n",
       "      <td>0.039925</td>\n",
       "      <td>...</td>\n",
       "      <td>0.0</td>\n",
       "      <td>0.0</td>\n",
       "      <td>0.0</td>\n",
       "      <td>0.0</td>\n",
       "      <td>0.0</td>\n",
       "      <td>0.0</td>\n",
       "      <td>0.0</td>\n",
       "      <td>0.0</td>\n",
       "      <td>0.0</td>\n",
       "      <td>0.0</td>\n",
       "    </tr>\n",
       "    <tr>\n",
       "      <th>min</th>\n",
       "      <td>0.000000</td>\n",
       "      <td>0.000000</td>\n",
       "      <td>0.000000</td>\n",
       "      <td>0.000000</td>\n",
       "      <td>0.000000</td>\n",
       "      <td>0.000000</td>\n",
       "      <td>0.000000</td>\n",
       "      <td>0.000000</td>\n",
       "      <td>0.000000</td>\n",
       "      <td>0.000000</td>\n",
       "      <td>...</td>\n",
       "      <td>0.0</td>\n",
       "      <td>0.0</td>\n",
       "      <td>0.0</td>\n",
       "      <td>0.0</td>\n",
       "      <td>0.0</td>\n",
       "      <td>0.0</td>\n",
       "      <td>0.0</td>\n",
       "      <td>0.0</td>\n",
       "      <td>0.0</td>\n",
       "      <td>0.0</td>\n",
       "    </tr>\n",
       "    <tr>\n",
       "      <th>25%</th>\n",
       "      <td>0.000000</td>\n",
       "      <td>0.000000</td>\n",
       "      <td>0.000000</td>\n",
       "      <td>0.000000</td>\n",
       "      <td>0.000000</td>\n",
       "      <td>0.000000</td>\n",
       "      <td>0.000000</td>\n",
       "      <td>0.000000</td>\n",
       "      <td>0.000000</td>\n",
       "      <td>0.000000</td>\n",
       "      <td>...</td>\n",
       "      <td>0.0</td>\n",
       "      <td>0.0</td>\n",
       "      <td>0.0</td>\n",
       "      <td>0.0</td>\n",
       "      <td>0.0</td>\n",
       "      <td>0.0</td>\n",
       "      <td>0.0</td>\n",
       "      <td>0.0</td>\n",
       "      <td>0.0</td>\n",
       "      <td>0.0</td>\n",
       "    </tr>\n",
       "    <tr>\n",
       "      <th>50%</th>\n",
       "      <td>0.000000</td>\n",
       "      <td>0.000000</td>\n",
       "      <td>0.000000</td>\n",
       "      <td>0.000000</td>\n",
       "      <td>0.000000</td>\n",
       "      <td>0.000000</td>\n",
       "      <td>0.000000</td>\n",
       "      <td>0.000000</td>\n",
       "      <td>0.000000</td>\n",
       "      <td>0.000000</td>\n",
       "      <td>...</td>\n",
       "      <td>0.0</td>\n",
       "      <td>0.0</td>\n",
       "      <td>0.0</td>\n",
       "      <td>0.0</td>\n",
       "      <td>0.0</td>\n",
       "      <td>0.0</td>\n",
       "      <td>0.0</td>\n",
       "      <td>0.0</td>\n",
       "      <td>0.0</td>\n",
       "      <td>0.0</td>\n",
       "    </tr>\n",
       "    <tr>\n",
       "      <th>75%</th>\n",
       "      <td>0.000000</td>\n",
       "      <td>0.000000</td>\n",
       "      <td>0.000000</td>\n",
       "      <td>0.000000</td>\n",
       "      <td>0.000000</td>\n",
       "      <td>0.000000</td>\n",
       "      <td>0.000000</td>\n",
       "      <td>0.000000</td>\n",
       "      <td>0.000000</td>\n",
       "      <td>0.000000</td>\n",
       "      <td>...</td>\n",
       "      <td>0.0</td>\n",
       "      <td>0.0</td>\n",
       "      <td>0.0</td>\n",
       "      <td>0.0</td>\n",
       "      <td>0.0</td>\n",
       "      <td>0.0</td>\n",
       "      <td>0.0</td>\n",
       "      <td>0.0</td>\n",
       "      <td>0.0</td>\n",
       "      <td>0.0</td>\n",
       "    </tr>\n",
       "    <tr>\n",
       "      <th>max</th>\n",
       "      <td>1.000000</td>\n",
       "      <td>1.000000</td>\n",
       "      <td>1.000000</td>\n",
       "      <td>1.000000</td>\n",
       "      <td>1.000000</td>\n",
       "      <td>1.000000</td>\n",
       "      <td>1.000000</td>\n",
       "      <td>1.000000</td>\n",
       "      <td>1.000000</td>\n",
       "      <td>1.000000</td>\n",
       "      <td>...</td>\n",
       "      <td>0.0</td>\n",
       "      <td>0.0</td>\n",
       "      <td>0.0</td>\n",
       "      <td>0.0</td>\n",
       "      <td>0.0</td>\n",
       "      <td>0.0</td>\n",
       "      <td>0.0</td>\n",
       "      <td>0.0</td>\n",
       "      <td>0.0</td>\n",
       "      <td>0.0</td>\n",
       "    </tr>\n",
       "  </tbody>\n",
       "</table>\n",
       "<p>8 rows × 1308 columns</p>\n",
       "</div>"
      ],
      "text/plain": [
       "               dead       student          girl         probe            48  \\\n",
       "count  44471.000000  44471.000000  44471.000000  44471.000000  44471.000000   \n",
       "mean       0.002563      0.001349      0.000315      0.006499      0.000337   \n",
       "std        0.050566      0.036707      0.017740      0.080353      0.018363   \n",
       "min        0.000000      0.000000      0.000000      0.000000      0.000000   \n",
       "25%        0.000000      0.000000      0.000000      0.000000      0.000000   \n",
       "50%        0.000000      0.000000      0.000000      0.000000      0.000000   \n",
       "75%        0.000000      0.000000      0.000000      0.000000      0.000000   \n",
       "max        1.000000      1.000000      1.000000      1.000000      1.000000   \n",
       "\n",
       "                 ll        thinks          asks            45   allegations  \\\n",
       "count  44471.000000  44471.000000  44471.000000  44471.000000  44471.000000   \n",
       "mean       0.001754      0.001102      0.001484      0.000315      0.001597   \n",
       "std        0.041844      0.033176      0.038496      0.017740      0.039925   \n",
       "min        0.000000      0.000000      0.000000      0.000000      0.000000   \n",
       "25%        0.000000      0.000000      0.000000      0.000000      0.000000   \n",
       "50%        0.000000      0.000000      0.000000      0.000000      0.000000   \n",
       "75%        0.000000      0.000000      0.000000      0.000000      0.000000   \n",
       "max        1.000000      1.000000      1.000000      1.000000      1.000000   \n",
       "\n",
       "       ...  optimal  mammograms     85.6  invaded  viewpoints     smug  \\\n",
       "count  ...  44471.0     44471.0  44471.0  44471.0     44471.0  44471.0   \n",
       "mean   ...      0.0         0.0      0.0      0.0         0.0      0.0   \n",
       "std    ...      0.0         0.0      0.0      0.0         0.0      0.0   \n",
       "min    ...      0.0         0.0      0.0      0.0         0.0      0.0   \n",
       "25%    ...      0.0         0.0      0.0      0.0         0.0      0.0   \n",
       "50%    ...      0.0         0.0      0.0      0.0         0.0      0.0   \n",
       "75%    ...      0.0         0.0      0.0      0.0         0.0      0.0   \n",
       "max    ...      0.0         0.0      0.0      0.0         0.0      0.0   \n",
       "\n",
       "       selection      lib   uterus  viewpoint  \n",
       "count    44471.0  44471.0  44471.0    44471.0  \n",
       "mean         0.0      0.0      0.0        0.0  \n",
       "std          0.0      0.0      0.0        0.0  \n",
       "min          0.0      0.0      0.0        0.0  \n",
       "25%          0.0      0.0      0.0        0.0  \n",
       "50%          0.0      0.0      0.0        0.0  \n",
       "75%          0.0      0.0      0.0        0.0  \n",
       "max          0.0      0.0      0.0        0.0  \n",
       "\n",
       "[8 rows x 1308 columns]"
      ]
     },
     "execution_count": 137,
     "metadata": {},
     "output_type": "execute_result"
    }
   ],
   "source": [
    "df_final.describe()"
   ]
  },
  {
   "cell_type": "code",
   "execution_count": null,
   "metadata": {},
   "outputs": [],
   "source": []
  },
  {
   "cell_type": "code",
   "execution_count": null,
   "metadata": {},
   "outputs": [],
   "source": []
  },
  {
   "cell_type": "code",
   "execution_count": 139,
   "metadata": {},
   "outputs": [
    {
     "data": {
      "text/plain": [
       "politics             42954\n",
       "Economics             1295\n",
       "arizonapolitics        148\n",
       "wisconsinpolitics       74\n",
       "Name: subreddit_class, dtype: int64"
      ]
     },
     "execution_count": 139,
     "metadata": {},
     "output_type": "execute_result"
    }
   ],
   "source": [
    "df_final['subreddit_class'].value_counts()"
   ]
  },
  {
   "cell_type": "code",
   "execution_count": 140,
   "metadata": {},
   "outputs": [],
   "source": [
    "politics = df_final.loc[df_final['subreddit_class']=='politics']\n",
    "Economics = df_final.loc[df_final['subreddit_class']=='Economics']\n",
    "arizonapolitics = df_final.loc[df_final['subreddit_class']=='arizonapolitics']\n",
    "wisconsinpolitics = df_final.loc[df_final['subreddit_class']=='wisconsinpolitics']\n"
   ]
  },
  {
   "cell_type": "code",
   "execution_count": 144,
   "metadata": {},
   "outputs": [],
   "source": [
    "politics_one = politics[:20000]\n",
    "politics_two = politics[20000:]\n"
   ]
  },
  {
   "cell_type": "code",
   "execution_count": 145,
   "metadata": {},
   "outputs": [],
   "source": [
    "politics_one.to_csv(\"politics_one.csv\")\n",
    "politics_two.to_csv(\"politics_two.csv\")\n",
    "Economics.to_csv(\"Economics.csv\")\n",
    "arizonapolitics.to_csv(\"arizonapolitics.csv\")\n",
    "wisconsinpolitics.to_csv(\"wisconsinpolitics.csv\")\n",
    "\n",
    "\n"
   ]
  }
 ],
 "metadata": {
  "kernelspec": {
   "display_name": "Python 3",
   "language": "python",
   "name": "python3"
  },
  "language_info": {
   "codemirror_mode": {
    "name": "ipython",
    "version": 3
   },
   "file_extension": ".py",
   "mimetype": "text/x-python",
   "name": "python",
   "nbconvert_exporter": "python",
   "pygments_lexer": "ipython3",
   "version": "3.6.9"
  }
 },
 "nbformat": 4,
 "nbformat_minor": 2
}
