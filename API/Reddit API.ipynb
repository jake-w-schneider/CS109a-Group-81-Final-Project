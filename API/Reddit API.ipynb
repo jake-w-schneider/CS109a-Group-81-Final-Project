{
 "cells": [
  {
   "cell_type": "code",
   "execution_count": 1,
   "metadata": {},
   "outputs": [],
   "source": [
    "import praw\n",
    "import pandas as pd\n",
    "import datetime as dt\n",
    "\n",
    "\n",
    "reddit = praw.Reddit(client_id='',\n",
    "                     client_secret='',\n",
    "                     user_agent='')\n"
   ]
  },
  {
   "cell_type": "code",
   "execution_count": 2,
   "metadata": {},
   "outputs": [
    {
     "name": "stdout",
     "output_type": "stream",
     "text": [
      "True\n"
     ]
    }
   ],
   "source": [
    "print(reddit.read_only)  # Output: True\n"
   ]
  },
  {
   "cell_type": "code",
   "execution_count": 3,
   "metadata": {},
   "outputs": [],
   "source": [
    "subreddit = reddit.subreddit('politics')"
   ]
  },
  {
   "cell_type": "code",
   "execution_count": 4,
   "metadata": {},
   "outputs": [
    {
     "name": "stdout",
     "output_type": "stream",
     "text": [
      "Megathread: Democrat John Bel Edwards re-elected governor of Louisiana\n",
      "Discussion Thread: Democratic Presidential Primary Polling - November 2019\n",
      "Democrats Not Headed Too Far Left, Says Ocasio-Cortez, 'We Are Bringing the Party Home': \"I want to be the party of the New Deal again,\" says the progressive congresswoman from New York. \"The party of the Civil Rights Act, the one that electrified this nation and fights for all people.\"\n",
      "Trump Replies ‘See You Soon’ After Kim Jong-un Calls for Biden to Be ‘Beaten to Death With a Stick’\n",
      "Democrats seize on report of FedEx's $0 tax bill to slam Trump's tax plan\n",
      "Pelosi: 'I find it a waste of my time' to 'just be talking about what Republicans say'\n",
      "Chris Wallace Accuses Top Republican of ‘Very Badly’ Mischaracterizing Impeachment Testimony\n",
      "Chuck Todd Confronts GOP Senator: You Blame ‘Everybody’ but Trump on Ukraine Scandal\n",
      "Schumer says Trump should testify -- not tweet -- in impeachment investigation\n",
      "The Suburban Backlash Against the GOP Is Growing\n"
     ]
    }
   ],
   "source": [
    "for submission in subreddit.hot(limit=10):\n",
    "    print(submission.title)\n"
   ]
  },
  {
   "cell_type": "code",
   "execution_count": 14,
   "metadata": {},
   "outputs": [],
   "source": [
    "top_subreddit = subreddit.top(limit=5000)\n"
   ]
  },
  {
   "cell_type": "code",
   "execution_count": 15,
   "metadata": {},
   "outputs": [],
   "source": [
    "topics_dict = { \"title\":[], \n",
    "                \"score\":[], \n",
    "                \"id\":[], \"url\":[],  \n",
    "                \"comms_num\": [], \n",
    "                \"created\": [], \n",
    "                \"body\":[]}\n"
   ]
  },
  {
   "cell_type": "code",
   "execution_count": 16,
   "metadata": {},
   "outputs": [],
   "source": [
    "for submission in top_subreddit:\n",
    "    topics_dict[\"title\"].append(submission.title)\n",
    "    topics_dict[\"score\"].append(submission.score)\n",
    "    topics_dict[\"id\"].append(submission.id)\n",
    "    topics_dict[\"url\"].append(submission.url)\n",
    "    topics_dict[\"comms_num\"].append(submission.num_comments)\n",
    "    topics_dict[\"created\"].append(submission.created)\n",
    "    topics_dict[\"body\"].append(submission.selftext)\n",
    "\n"
   ]
  },
  {
   "cell_type": "code",
   "execution_count": 17,
   "metadata": {},
   "outputs": [],
   "source": [
    "topics_data = pd.DataFrame(topics_dict)\n"
   ]
  },
  {
   "cell_type": "code",
   "execution_count": 18,
   "metadata": {},
   "outputs": [],
   "source": [
    "def get_date(created):\n",
    "    return dt.datetime.fromtimestamp(created)\n"
   ]
  },
  {
   "cell_type": "code",
   "execution_count": 19,
   "metadata": {},
   "outputs": [],
   "source": [
    "_timestamp = topics_data[\"created\"].apply(get_date)\n"
   ]
  },
  {
   "cell_type": "code",
   "execution_count": 20,
   "metadata": {},
   "outputs": [],
   "source": [
    "topics_data = topics_data.assign(timestamp = _timestamp)\n"
   ]
  },
  {
   "cell_type": "code",
   "execution_count": 21,
   "metadata": {},
   "outputs": [
    {
     "data": {
      "text/html": [
       "<div>\n",
       "<style scoped>\n",
       "    .dataframe tbody tr th:only-of-type {\n",
       "        vertical-align: middle;\n",
       "    }\n",
       "\n",
       "    .dataframe tbody tr th {\n",
       "        vertical-align: top;\n",
       "    }\n",
       "\n",
       "    .dataframe thead th {\n",
       "        text-align: right;\n",
       "    }\n",
       "</style>\n",
       "<table border=\"1\" class=\"dataframe\">\n",
       "  <thead>\n",
       "    <tr style=\"text-align: right;\">\n",
       "      <th></th>\n",
       "      <th>title</th>\n",
       "      <th>score</th>\n",
       "      <th>id</th>\n",
       "      <th>url</th>\n",
       "      <th>comms_num</th>\n",
       "      <th>created</th>\n",
       "      <th>body</th>\n",
       "      <th>timestamp</th>\n",
       "    </tr>\n",
       "  </thead>\n",
       "  <tbody>\n",
       "    <tr>\n",
       "      <th>0</th>\n",
       "      <td>Kim Davis, clerk who refused to sign marriage ...</td>\n",
       "      <td>101995</td>\n",
       "      <td>9uuhl3</td>\n",
       "      <td>https://www.kentucky.com/news/politics-governm...</td>\n",
       "      <td>2763</td>\n",
       "      <td>1.541581e+09</td>\n",
       "      <td></td>\n",
       "      <td>2018-11-07 04:02:55</td>\n",
       "    </tr>\n",
       "    <tr>\n",
       "      <th>1</th>\n",
       "      <td>Trump revealed highly classified information t...</td>\n",
       "      <td>99354</td>\n",
       "      <td>6bd42j</td>\n",
       "      <td>https://www.washingtonpost.com/world/national-...</td>\n",
       "      <td>20827</td>\n",
       "      <td>1.494911e+09</td>\n",
       "      <td></td>\n",
       "      <td>2017-05-16 01:03:22</td>\n",
       "    </tr>\n",
       "    <tr>\n",
       "      <th>2</th>\n",
       "      <td>Trump Ordered Mueller Fired, but Backed Off Wh...</td>\n",
       "      <td>95195</td>\n",
       "      <td>7t12e6</td>\n",
       "      <td>https://www.nytimes.com/2018/01/25/us/politics...</td>\n",
       "      <td>14523</td>\n",
       "      <td>1.516958e+09</td>\n",
       "      <td></td>\n",
       "      <td>2018-01-26 04:16:11</td>\n",
       "    </tr>\n",
       "    <tr>\n",
       "      <th>3</th>\n",
       "      <td>Jon Stewart Goes Off On Congress During 9/11 H...</td>\n",
       "      <td>93391</td>\n",
       "      <td>bzenag</td>\n",
       "      <td>https://www.youtube.com/watch?v=iQkMJgaHAkY</td>\n",
       "      <td>6528</td>\n",
       "      <td>1.560299e+09</td>\n",
       "      <td></td>\n",
       "      <td>2019-06-11 20:30:15</td>\n",
       "    </tr>\n",
       "    <tr>\n",
       "      <th>4</th>\n",
       "      <td>California bans private prisons – including Ic...</td>\n",
       "      <td>91050</td>\n",
       "      <td>d3bwrf</td>\n",
       "      <td>https://www.theguardian.com/us-news/2019/sep/1...</td>\n",
       "      <td>3257</td>\n",
       "      <td>1.568341e+09</td>\n",
       "      <td></td>\n",
       "      <td>2019-09-12 22:12:21</td>\n",
       "    </tr>\n",
       "  </tbody>\n",
       "</table>\n",
       "</div>"
      ],
      "text/plain": [
       "                                               title   score      id  \\\n",
       "0  Kim Davis, clerk who refused to sign marriage ...  101995  9uuhl3   \n",
       "1  Trump revealed highly classified information t...   99354  6bd42j   \n",
       "2  Trump Ordered Mueller Fired, but Backed Off Wh...   95195  7t12e6   \n",
       "3  Jon Stewart Goes Off On Congress During 9/11 H...   93391  bzenag   \n",
       "4  California bans private prisons – including Ic...   91050  d3bwrf   \n",
       "\n",
       "                                                 url  comms_num       created  \\\n",
       "0  https://www.kentucky.com/news/politics-governm...       2763  1.541581e+09   \n",
       "1  https://www.washingtonpost.com/world/national-...      20827  1.494911e+09   \n",
       "2  https://www.nytimes.com/2018/01/25/us/politics...      14523  1.516958e+09   \n",
       "3        https://www.youtube.com/watch?v=iQkMJgaHAkY       6528  1.560299e+09   \n",
       "4  https://www.theguardian.com/us-news/2019/sep/1...       3257  1.568341e+09   \n",
       "\n",
       "  body           timestamp  \n",
       "0      2018-11-07 04:02:55  \n",
       "1      2017-05-16 01:03:22  \n",
       "2      2018-01-26 04:16:11  \n",
       "3      2019-06-11 20:30:15  \n",
       "4      2019-09-12 22:12:21  "
      ]
     },
     "execution_count": 21,
     "metadata": {},
     "output_type": "execute_result"
    }
   ],
   "source": [
    "topics_data.head()"
   ]
  },
  {
   "cell_type": "code",
   "execution_count": 22,
   "metadata": {},
   "outputs": [
    {
     "data": {
      "text/plain": [
       "998"
      ]
     },
     "execution_count": 22,
     "metadata": {},
     "output_type": "execute_result"
    }
   ],
   "source": [
    "len(topics_data)"
   ]
  },
  {
   "cell_type": "code",
   "execution_count": 23,
   "metadata": {},
   "outputs": [
    {
     "data": {
      "text/html": [
       "<div>\n",
       "<style scoped>\n",
       "    .dataframe tbody tr th:only-of-type {\n",
       "        vertical-align: middle;\n",
       "    }\n",
       "\n",
       "    .dataframe tbody tr th {\n",
       "        vertical-align: top;\n",
       "    }\n",
       "\n",
       "    .dataframe thead th {\n",
       "        text-align: right;\n",
       "    }\n",
       "</style>\n",
       "<table border=\"1\" class=\"dataframe\">\n",
       "  <thead>\n",
       "    <tr style=\"text-align: right;\">\n",
       "      <th></th>\n",
       "      <th>score</th>\n",
       "      <th>comms_num</th>\n",
       "      <th>created</th>\n",
       "    </tr>\n",
       "  </thead>\n",
       "  <tbody>\n",
       "    <tr>\n",
       "      <th>count</th>\n",
       "      <td>998.000000</td>\n",
       "      <td>998.000000</td>\n",
       "      <td>9.980000e+02</td>\n",
       "    </tr>\n",
       "    <tr>\n",
       "      <th>mean</th>\n",
       "      <td>50634.667335</td>\n",
       "      <td>4900.201403</td>\n",
       "      <td>1.538456e+09</td>\n",
       "    </tr>\n",
       "    <tr>\n",
       "      <th>std</th>\n",
       "      <td>8953.899291</td>\n",
       "      <td>4502.677471</td>\n",
       "      <td>2.664470e+07</td>\n",
       "    </tr>\n",
       "    <tr>\n",
       "      <th>min</th>\n",
       "      <td>41252.000000</td>\n",
       "      <td>467.000000</td>\n",
       "      <td>1.435356e+09</td>\n",
       "    </tr>\n",
       "    <tr>\n",
       "      <th>25%</th>\n",
       "      <td>44151.750000</td>\n",
       "      <td>2633.000000</td>\n",
       "      <td>1.517345e+09</td>\n",
       "    </tr>\n",
       "    <tr>\n",
       "      <th>50%</th>\n",
       "      <td>48175.500000</td>\n",
       "      <td>3641.500000</td>\n",
       "      <td>1.544291e+09</td>\n",
       "    </tr>\n",
       "    <tr>\n",
       "      <th>75%</th>\n",
       "      <td>54385.500000</td>\n",
       "      <td>5337.500000</td>\n",
       "      <td>1.562531e+09</td>\n",
       "    </tr>\n",
       "    <tr>\n",
       "      <th>max</th>\n",
       "      <td>101995.000000</td>\n",
       "      <td>44113.000000</td>\n",
       "      <td>1.573950e+09</td>\n",
       "    </tr>\n",
       "  </tbody>\n",
       "</table>\n",
       "</div>"
      ],
      "text/plain": [
       "               score     comms_num       created\n",
       "count     998.000000    998.000000  9.980000e+02\n",
       "mean    50634.667335   4900.201403  1.538456e+09\n",
       "std      8953.899291   4502.677471  2.664470e+07\n",
       "min     41252.000000    467.000000  1.435356e+09\n",
       "25%     44151.750000   2633.000000  1.517345e+09\n",
       "50%     48175.500000   3641.500000  1.544291e+09\n",
       "75%     54385.500000   5337.500000  1.562531e+09\n",
       "max    101995.000000  44113.000000  1.573950e+09"
      ]
     },
     "execution_count": 23,
     "metadata": {},
     "output_type": "execute_result"
    }
   ],
   "source": [
    "topics_data.describe()"
   ]
  },
  {
   "cell_type": "code",
   "execution_count": 24,
   "metadata": {},
   "outputs": [
    {
     "data": {
      "text/plain": [
       "0     2018-11-07 04:02:55\n",
       "1     2017-05-16 01:03:22\n",
       "2     2018-01-26 04:16:11\n",
       "3     2019-06-11 20:30:15\n",
       "4     2019-09-12 22:12:21\n",
       "              ...        \n",
       "993   2017-12-01 04:51:49\n",
       "994   2018-10-17 02:59:54\n",
       "995   2019-03-15 17:38:06\n",
       "996   2019-11-05 01:08:40\n",
       "997   2019-04-18 21:33:46\n",
       "Name: timestamp, Length: 998, dtype: datetime64[ns]"
      ]
     },
     "execution_count": 24,
     "metadata": {},
     "output_type": "execute_result"
    }
   ],
   "source": [
    "topics_data.timestamp"
   ]
  }
 ],
 "metadata": {
  "kernelspec": {
   "display_name": "Python 3",
   "language": "python",
   "name": "python3"
  },
  "language_info": {
   "codemirror_mode": {
    "name": "ipython",
    "version": 3
   },
   "file_extension": ".py",
   "mimetype": "text/x-python",
   "name": "python",
   "nbconvert_exporter": "python",
   "pygments_lexer": "ipython3",
   "version": "3.7.5"
  }
 },
 "nbformat": 4,
 "nbformat_minor": 2
}
