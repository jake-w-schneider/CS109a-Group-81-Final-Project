{
 "cells": [
  {
   "cell_type": "markdown",
   "metadata": {},
   "source": [
    "**Twitter Elections Jake**<br>\n",
    "*Compsci 209 Final Project*"
   ]
  },
  {
   "cell_type": "markdown",
   "metadata": {},
   "source": [
    "Follow the instructions here for pulling tweets:<br>\n",
    "https://developer.twitter.com/en/docs/tweets/search/api-reference/premium-search#DataEndpoint\n",
    "\n",
    "Tutorial for pulling geography of tweets:<br>\n",
    "https://stackabuse.com/accessing-the-twitter-api-with-python/\n",
    "\n",
    "Query Parameter:<br>\n",
    "https://developer.twitter.com/en/docs/tweets/search/api-reference/get-search-tweets"
   ]
  },
  {
   "cell_type": "markdown",
   "metadata": {},
   "source": [
    "----"
   ]
  },
  {
   "cell_type": "code",
   "execution_count": 2,
   "metadata": {},
   "outputs": [],
   "source": [
    "from twython import Twython\n",
    "import pandas as pd\n",
    "import sys"
   ]
  },
  {
   "cell_type": "code",
   "execution_count": 4,
   "metadata": {},
   "outputs": [],
   "source": [
    "import config_twitter\n",
    "\n",
    "app_key = config_twitter.api_key\n",
    "app_secret_key = config_twitter.api_secret_key\n",
    "access_token = config_twitter.access_token\n",
    "access_token_secret = config_twitter.access_token_secret\n",
    "\n",
    "user_agent = \"Jake_Schneider\""
   ]
  },
  {
   "cell_type": "code",
   "execution_count": 5,
   "metadata": {},
   "outputs": [],
   "source": [
    "twitter = Twython(app_key, app_secret_key,\n",
    "                  access_token, access_token_secret)"
   ]
  },
  {
   "cell_type": "code",
   "execution_count": 6,
   "metadata": {},
   "outputs": [
    {
     "data": {
      "text/plain": [
       "{'/search/tweets': {'limit': 180, 'remaining': 180, 'reset': 1574130206}}"
      ]
     },
     "execution_count": 6,
     "metadata": {},
     "output_type": "execute_result"
    }
   ],
   "source": [
    "twitter.get_application_rate_limit_status()['resources']['search']"
   ]
  },
  {
   "cell_type": "code",
   "execution_count": 7,
   "metadata": {
    "scrolled": true
   },
   "outputs": [
    {
     "data": {
      "text/plain": [
       "{'id': 1293308917,\n",
       " 'id_str': '1293308917',\n",
       " 'name': 'Jake Schneider',\n",
       " 'screen_name': '_jwschneider',\n",
       " 'location': 'Cambridge, MA',\n",
       " 'description': 'Economist. Data Scientist. Entrepreneur. \\nFounder @SchneiderEconomics. Founder @PolicyViews. MPA/ID Candidate @Harvard @Kennedy_School.',\n",
       " 'url': 'https://t.co/KiRNKCPigk',\n",
       " 'entities': {'url': {'urls': [{'url': 'https://t.co/KiRNKCPigk',\n",
       "     'expanded_url': 'http://www.policyviews.com',\n",
       "     'display_url': 'policyviews.com',\n",
       "     'indices': [0, 23]}]},\n",
       "  'description': {'urls': []}},\n",
       " 'protected': False,\n",
       " 'followers_count': 56,\n",
       " 'friends_count': 168,\n",
       " 'listed_count': 0,\n",
       " 'created_at': 'Sun Mar 24 02:33:01 +0000 2013',\n",
       " 'favourites_count': 46,\n",
       " 'utc_offset': None,\n",
       " 'time_zone': None,\n",
       " 'geo_enabled': False,\n",
       " 'verified': False,\n",
       " 'statuses_count': 57,\n",
       " 'lang': None,\n",
       " 'status': {'created_at': 'Fri Oct 11 16:06:20 +0000 2019',\n",
       "  'id': 1182688895848214528,\n",
       "  'id_str': '1182688895848214528',\n",
       "  'text': \"Tune in next Friday for the launch of #PolicyViews, the Harvard Kennedy School's student-run video media organizati… https://t.co/q1tO9BRquy\",\n",
       "  'truncated': True,\n",
       "  'entities': {'hashtags': [{'text': 'PolicyViews', 'indices': [38, 50]}],\n",
       "   'symbols': [],\n",
       "   'user_mentions': [],\n",
       "   'urls': [{'url': 'https://t.co/q1tO9BRquy',\n",
       "     'expanded_url': 'https://twitter.com/i/web/status/1182688895848214528',\n",
       "     'display_url': 'twitter.com/i/web/status/1…',\n",
       "     'indices': [117, 140]}]},\n",
       "  'source': '<a href=\"https://mobile.twitter.com\" rel=\"nofollow\">Twitter Web App</a>',\n",
       "  'in_reply_to_status_id': None,\n",
       "  'in_reply_to_status_id_str': None,\n",
       "  'in_reply_to_user_id': None,\n",
       "  'in_reply_to_user_id_str': None,\n",
       "  'in_reply_to_screen_name': None,\n",
       "  'geo': None,\n",
       "  'coordinates': None,\n",
       "  'place': None,\n",
       "  'contributors': None,\n",
       "  'is_quote_status': False,\n",
       "  'retweet_count': 0,\n",
       "  'favorite_count': 0,\n",
       "  'favorited': False,\n",
       "  'retweeted': False,\n",
       "  'possibly_sensitive': False,\n",
       "  'lang': 'en'},\n",
       " 'contributors_enabled': False,\n",
       " 'is_translator': False,\n",
       " 'is_translation_enabled': False,\n",
       " 'profile_background_color': 'C0DEED',\n",
       " 'profile_background_image_url': 'http://abs.twimg.com/images/themes/theme1/bg.png',\n",
       " 'profile_background_image_url_https': 'https://abs.twimg.com/images/themes/theme1/bg.png',\n",
       " 'profile_background_tile': False,\n",
       " 'profile_image_url': 'http://pbs.twimg.com/profile_images/854774412511412224/ivT24Ng5_normal.jpg',\n",
       " 'profile_image_url_https': 'https://pbs.twimg.com/profile_images/854774412511412224/ivT24Ng5_normal.jpg',\n",
       " 'profile_banner_url': 'https://pbs.twimg.com/profile_banners/1293308917/1571192600',\n",
       " 'profile_link_color': '1DA1F2',\n",
       " 'profile_sidebar_border_color': 'C0DEED',\n",
       " 'profile_sidebar_fill_color': 'DDEEF6',\n",
       " 'profile_text_color': '333333',\n",
       " 'profile_use_background_image': True,\n",
       " 'has_extended_profile': False,\n",
       " 'default_profile': True,\n",
       " 'default_profile_image': False,\n",
       " 'can_media_tag': True,\n",
       " 'followed_by': False,\n",
       " 'following': False,\n",
       " 'follow_request_sent': False,\n",
       " 'notifications': False,\n",
       " 'translator_type': 'none',\n",
       " 'suspended': False,\n",
       " 'needs_phone_verification': False}"
      ]
     },
     "execution_count": 7,
     "metadata": {},
     "output_type": "execute_result"
    }
   ],
   "source": [
    "twitter.verify_credentials()"
   ]
  },
  {
   "cell_type": "markdown",
   "metadata": {},
   "source": [
    "----"
   ]
  },
  {
   "cell_type": "markdown",
   "metadata": {},
   "source": [
    "**Search for Conservative Tweets**"
   ]
  },
  {
   "cell_type": "code",
   "execution_count": 88,
   "metadata": {},
   "outputs": [
    {
     "name": "stdout",
     "output_type": "stream",
     "text": [
      "{'q': 'Conservative', 'result_type': 'popular', 'count': 1000, 'lang': 'en', 'until': '2018-11-06'}\n"
     ]
    }
   ],
   "source": [
    "# Create query\n",
    "query = {'q': 'Conservative',\n",
    "        #'geocode': '37.0902, -95.7129, 1500mi',\n",
    "        'result_type': 'popular',\n",
    "        'count': 1000,\n",
    "        'lang': 'en',\n",
    "#        'until': \"2018-11-06\" \n",
    "        }\n",
    "\n",
    "print(query)"
   ]
  },
  {
   "cell_type": "code",
   "execution_count": 89,
   "metadata": {},
   "outputs": [
    {
     "data": {
      "text/plain": [
       "{'/search/tweets': {'limit': 180, 'remaining': 178, 'reset': 1574176276}}"
      ]
     },
     "execution_count": 89,
     "metadata": {},
     "output_type": "execute_result"
    }
   ],
   "source": [
    "twitter.get_application_rate_limit_status()['resources']['search']"
   ]
  },
  {
   "cell_type": "code",
   "execution_count": 90,
   "metadata": {},
   "outputs": [
    {
     "name": "stdout",
     "output_type": "stream",
     "text": [
      "0\n"
     ]
    }
   ],
   "source": [
    "# Search tweets\n",
    "dict_ = {'user': [], 'date': [], 'text': [], 'favorite_count': [], 'user_loc': []}\n",
    "for status in twitter.search(**query)['statuses']:\n",
    "    dict_['user'].append(status['user']['screen_name'])\n",
    "    dict_['date'].append(status['created_at'])\n",
    "    dict_['text'].append(status['text'])\n",
    "    dict_['favorite_count'].append(status['favorite_count'])\n",
    "    dict_['user_loc'].append(status['user']['location'])\n",
    "\n",
    "\n",
    "    \n",
    "print(len(dict_[\"user\"]))"
   ]
  },
  {
   "cell_type": "code",
   "execution_count": 91,
   "metadata": {},
   "outputs": [
    {
     "data": {
      "text/html": [
       "<div>\n",
       "<style scoped>\n",
       "    .dataframe tbody tr th:only-of-type {\n",
       "        vertical-align: middle;\n",
       "    }\n",
       "\n",
       "    .dataframe tbody tr th {\n",
       "        vertical-align: top;\n",
       "    }\n",
       "\n",
       "    .dataframe thead th {\n",
       "        text-align: right;\n",
       "    }\n",
       "</style>\n",
       "<table border=\"1\" class=\"dataframe\">\n",
       "  <thead>\n",
       "    <tr style=\"text-align: right;\">\n",
       "      <th></th>\n",
       "      <th>user</th>\n",
       "      <th>date</th>\n",
       "      <th>text</th>\n",
       "      <th>favorite_count</th>\n",
       "      <th>user_loc</th>\n",
       "    </tr>\n",
       "  </thead>\n",
       "  <tbody>\n",
       "  </tbody>\n",
       "</table>\n",
       "</div>"
      ],
      "text/plain": [
       "Empty DataFrame\n",
       "Columns: [user, date, text, favorite_count, user_loc]\n",
       "Index: []"
      ]
     },
     "execution_count": 91,
     "metadata": {},
     "output_type": "execute_result"
    }
   ],
   "source": [
    "# Structure data in a pandas DataFrame for easier manipulation\n",
    "df = pd.DataFrame(dict_)\n",
    "df.sort_values(by='favorite_count', inplace=True, ascending=False)\n",
    "df.head(100)"
   ]
  },
  {
   "cell_type": "code",
   "execution_count": 83,
   "metadata": {},
   "outputs": [
    {
     "name": "stderr",
     "output_type": "stream",
     "text": [
      "/opt/anaconda3/lib/python3.7/site-packages/ipykernel_launcher.py:6: DeprecationWarning: Using Nominatim with the default \"geopy/1.20.0\" `user_agent` is strongly discouraged, as it violates Nominatim's ToS https://operations.osmfoundation.org/policies/nominatim/ and may possibly cause 403 and 429 HTTP errors. Please specify a custom `user_agent` with `Nominatim(user_agent=\"my-application\")` or by overriding the default `user_agent`: `geopy.geocoders.options.default_user_agent = \"my-application\"`. In geopy 2.0 this will become an exception.\n",
      "  \n"
     ]
    }
   ],
   "source": [
    "# Geographic Heat Map\n",
    "\n",
    "from geopy.geocoders import Nominatim\n",
    "import gmplot\n",
    "\n",
    "geolocator = Nominatim()\n",
    "\n",
    "# Go through all tweets and add locations to 'coordinates' dictionary\n",
    "coordinates = {'latitude': [], 'longitude': []}\n",
    "for count, user_loc in enumerate(df.user_loc):\n",
    "    try:\n",
    "        location = geolocator.geocode(user_loc)\n",
    "        \n",
    "        # If coordinates are found for location\n",
    "        if location:\n",
    "            coordinates['latitude'].append(location.latitude)\n",
    "            coordinates['longitude'].append(location.longitude)\n",
    "            \n",
    "    # If too many connection requests\n",
    "    except:\n",
    "        pass\n",
    "    \n",
    "# Instantiate and center a GoogleMapPlotter object to show our map\n",
    "gmap = gmplot.GoogleMapPlotter(30, 0, 3)\n",
    "\n",
    "# Insert points on the map passing a list of latitudes and longitudes\n",
    "gmap.heatmap(coordinates['latitude'], coordinates['longitude'], radius=20)\n",
    "\n",
    "# Save the map to html file\n",
    "gmap.draw(\"python_heatmap.html\")"
   ]
  },
  {
   "cell_type": "code",
   "execution_count": 84,
   "metadata": {},
   "outputs": [],
   "source": [
    "from twython import TwythonStreamer\n",
    "import csv\n",
    "\n",
    "# Filter out unwanted data\n",
    "def process_tweet(tweet):\n",
    "    d = {}\n",
    "    d['hashtags'] = [hashtag['text'] for hashtag in tweet['entities']['hashtags']]\n",
    "    d['text'] = tweet['text']\n",
    "    d['user'] = tweet['user']['screen_name']\n",
    "    d['user_loc'] = tweet['user']['location']\n",
    "    return d\n",
    "    \n",
    "    \n",
    "# Create a class that inherits TwythonStreamer\n",
    "class MyStreamer(TwythonStreamer):     \n",
    "\n",
    "    # Received data\n",
    "    def on_success(self, data):\n",
    "\n",
    "        # Only collect tweets in English\n",
    "        if data['lang'] == 'en':\n",
    "            tweet_data = process_tweet(data)\n",
    "            print(tweet_data)\n",
    "#            self.save_to_csv(tweet_data)\n",
    "            return tweet_data\n",
    "\n",
    "    # Problem with the API\n",
    "    def on_error(self, status_code, data):\n",
    "        print(status_code, data)\n",
    "        self.disconnect()\n",
    "        \n",
    "    # Save each tweet to csv file\n",
    "#    def save_to_csv(self, tweet):\n",
    "#        with open(r'saved_tweets_conservative.csv', 'a') as file:\n",
    "#            writer = csv.writer(file)\n",
    "#            writer.writerow(list(tweet.values()))"
   ]
  },
  {
   "cell_type": "code",
   "execution_count": 85,
   "metadata": {},
   "outputs": [
    {
     "name": "stdout",
     "output_type": "stream",
     "text": [
      "{'hashtags': [], 'text': 'RT @BorisJohnson: This election is about what we can do for you and your family. A majority Conservative government will end the uncertaint…', 'user': 'Emonkumar6', 'user_loc': 'mymensingh,bangladesh'}\n",
      "{'hashtags': [], 'text': 'RT @ashindestad: @BaffledC The idea of voting Conservative for me is just very very mad LOL and I know people should vote for policies and…', 'user': 'ItsAbeo', 'user_loc': None}\n",
      "{'hashtags': [], 'text': 'Now imagine a prominent conservative had been passing by and let loose:) swalwell wouldve fallen down crying assaul… https://t.co/UfutPwe8W9', 'user': 'Daddykins82', 'user_loc': 'United States'}\n",
      "{'hashtags': [], 'text': '@patricklohlein @nickynoo007 @SteveBakerHW Maybe because Calvin Robinson is an ex-Conservative, and probably still… https://t.co/4OdQFrXVn7', 'user': 'ER_EJR', 'user_loc': 'West Hampstead'}\n",
      "{'hashtags': [], 'text': 'RT @vote_dem: Fiscal conservative, family values, pro life. The @GOP is total bullshit and I thank twittler and his minions for revealing i…', 'user': 'LDirese', 'user_loc': None}\n",
      "{'hashtags': ['Conservative'], 'text': 'RT @mojos55: An antisemitism scandal has struck the #Conservative Party, with two candidates facing accusations of alleged antisemitism. \\nB…', 'user': 'sashasimic', 'user_loc': 'London UK'}\n",
      "{'hashtags': [], 'text': \"If you were any good you would be bragging about your achievements from the last 9 years.\\n\\nBut you can't.\\n\\nBecause… https://t.co/gjpCFFfDYO\", 'user': 'Mr_Kwacky', 'user_loc': 'Birmingham, UK. '}\n",
      "{'hashtags': [], 'text': '@iheartmindy @NickJFuentes &gt;conservative\\n&gt;pornstar\\nFemoids these days..', 'user': 'HonklerDr', 'user_loc': None}\n",
      "{'hashtags': [], 'text': 'RT @drdave1999: Conservative commentator George Will, who left the GOP when Trump took over, had a simple but wise proposal to share:\\n\\n‘No…', 'user': 'mjjones152', 'user_loc': 'New Jersey, USA'}\n",
      "{'hashtags': [], 'text': 'All they did was ask questions.', 'user': 'zyntrax', 'user_loc': None}\n",
      "{'hashtags': [], 'text': 'RT @FDRLST: Use a conservative moderator for a democratic debate? Impossible. \\nhttps://t.co/oqnKq22ftU', 'user': 'Bothered_Blonde', 'user_loc': 'Southwest Florida'}\n",
      "{'hashtags': [], 'text': \"RT @keepnhspublic: At this crucial moment for our National Health Service, here's why we're asking, if you want to protect the NHS, then pl…\", 'user': 'josmith13', 'user_loc': None}\n",
      "{'hashtags': ['sex'], 'text': 'RT @pornlandxxx1: Alexis Fawx &amp; Ricky Johnson love being watched in their conservative community when they are having #sex. Today, they go…', 'user': 'camstraLCom', 'user_loc': None}\n",
      "{'hashtags': [], 'text': \"Nope, you are a proven liar in court. As for scumbag, I don't know you, but certainly write sewerage.\", 'user': 'nigel_corrigan', 'user_loc': None}\n",
      "{'hashtags': [], 'text': 'RT @ByDonkeys: Last year The Times covered the launch of an IFT report pushing for US companies to run NHS hospitals. It was authored by Co…', 'user': 'sevendoubley', 'user_loc': 'North Ayrshire'}\n",
      "{'hashtags': [], 'text': '@SkyeCitySeries @SimonWPatterson When Johnson investigates prejudice of all kinds he’ll discover that the Conservat… https://t.co/gy2pAZX8Co', 'user': 'MLValentino1', 'user_loc': 'South West, England'}\n",
      "{'hashtags': [], 'text': 'Emma Arbuthnot the Judge overseeing the extradition request to the US of Assange! \\n\\nMarried to ex Conservative and… https://t.co/6ilm4rwTeI', 'user': 'Lynforester', 'user_loc': None}\n",
      "{'hashtags': [], 'text': \"People are helping the 'Trad' wing they so hate when they label every socially conservative opinion as 'Trad' 🙂\", 'user': 'YearOfTheKraken', 'user_loc': None}\n",
      "{'hashtags': [], 'text': 'RT @KTHopkins: I am a Straight White Christian Conservative who believes we spend too much time tiptoeing around those who choose to join u…', 'user': 'JardineKari', 'user_loc': 'California, USA'}\n",
      "{'hashtags': [], 'text': 'RT @FDRLST: Use a conservative moderator for a democratic debate? Impossible. \\nhttps://t.co/oqnKq22ftU', 'user': 'PatrickTRooney', 'user_loc': 'Washington DC'}\n",
      "{'hashtags': [], 'text': 'RT @JoshNBCNews: .@TheHill newspaper is reviewing and correcting articles from conservative reporter referenced by Nunes in his opening sta…', 'user': 'noybsk2017', 'user_loc': None}\n",
      "{'hashtags': [], 'text': 'RT @BorisJohnson: This election is about what we can do for you and your family. A majority Conservative government will end the uncertaint…', 'user': 'Maximus_Espanol', 'user_loc': None}\n",
      "{'hashtags': [], 'text': 'RT @TheRoyGreenShow: Stephen Harper, Paul Martin, Jean Chretien, Brian Muroney all won fed elexns. Kim Campbell, 1 term MP, handed key to P…', 'user': 'ArmTrinity', 'user_loc': 'St-Louis du Ha!Ha!, Canada'}\n",
      "{'hashtags': [], 'text': '@GeorgeSaysSup @DanCrenshawTX Let’s make this clear. If you are a white nationalist, Nazi or someone who supports v… https://t.co/A3zB6vRcYp', 'user': 'LexSportsCards', 'user_loc': 'Lexington, Kentucky'}\n",
      "{'hashtags': [], 'text': \"RT @keepnhspublic: At this crucial moment for our National Health Service, here's why we're asking, if you want to protect the NHS, then pl…\", 'user': 'Risim52', 'user_loc': 'Teesside'}\n",
      "{'hashtags': [], 'text': 'RT @ananavarro: Groups are cutting ties with Michelle Malkin. Reportedly, she is being shunned for her support of racist, Holocaust-denying…', 'user': 'STFXU', 'user_loc': None}\n",
      "{'hashtags': [], 'text': '@BorisJohnson \"This election is about what I can do for me,fuck you and your family.A majority Conservative governm… https://t.co/r5vH7xGyaA', 'user': 'mgacramer', 'user_loc': 'West Sussex'}\n",
      "{'hashtags': ['DebateHer'], 'text': 'RT @catherinemep: You know what the Conservative and Labour parties are really afraid of?\\n\\nJo Swinson having a voice #DebateHer\\n\\nYou, the p…', 'user': 'cllrkemp', 'user_loc': 'Mostly in Liverpool'}\n",
      "{'hashtags': [], 'text': 'RT @ConservaMomUSA: WATCH-Radical leftists shut down scheduled talk by economist Dr. Art Laffer hosted by Binghamton University’s #Conserva…', 'user': 'Ridgesniper', 'user_loc': 'Florida, USA'}\n",
      "{'hashtags': [], 'text': \"@Clemson02826539 @bennyjohnson @NickJFuentes @washingtonpost That's because your theory is nonsense and you are a l… https://t.co/LSBnPOLlbE\", 'user': 'Whatsup20419605', 'user_loc': None}\n",
      "{'hashtags': [], 'text': \"RT @TeamPelosi: A coalition of over *100* Republican groups just joined forces to spread lies and distract you from Trump's bribery and cor…\", 'user': 'faucettmelissa1', 'user_loc': 'Little Flock, AR'}\n",
      "{'hashtags': ['GE2019'], 'text': 'Pretty well sums up the different approaches leaders of Conservative and Labour are taking on Brexit #GE2019 from \\u2066… https://t.co/sUP7UD14J0', 'user': 'franklangfitt', 'user_loc': 'London, England'}\n",
      "{'hashtags': [], 'text': '@SonnieJohnson Religion isn’t conservative culture. Fighting chick fil a to continue to give to religious groups ov… https://t.co/NZGdb82Wyl', 'user': 'nowhere1234567', 'user_loc': None}\n",
      "{'hashtags': [], 'text': 'RT @lionel_trolling: The irony of this is that the right wing in America long lionized civil society as the conservative counterbalance to…', 'user': 'elishearn', 'user_loc': 'Chicago'}\n",
      "{'hashtags': [], 'text': \"RT @TeamPelosi: A coalition of over *100* Republican groups just joined forces to spread lies and distract you from Trump's bribery and cor…\", 'user': 'Heather4amazon', 'user_loc': None}\n",
      "{'hashtags': ['Labour'], 'text': 'RT @un__acceptable: If a #Labour Member said this (let alone a Labour candidate), it would be splashed all over the news as cast-iron proof…', 'user': 'Such_iz_life', 'user_loc': 'Scotland, United Kingdom'}\n",
      "{'hashtags': [], 'text': 'RT @NBCPolitics: @NBCNews The Hill is reviewing and correcting articles from a conservative reporter who was referenced and praised by Rep.…', 'user': 'MelaniePopiolek', 'user_loc': 'Detroit'}\n",
      "{'hashtags': [], 'text': 'RT @ByJamesKeller: Breaking news: Alberta’s United Conservative government is firing the province’s election commissioner, who has spent mu…', 'user': 'Percent76', 'user_loc': 'Toronto, Ontario'}\n",
      "{'hashtags': [], 'text': 'RT @KaitMarieox: One day after disassociating from @michellemalkin for being America first, @YAF members ran to the cops on me for wanting…', 'user': 'JohnArmstrongW1', 'user_loc': None}\n"
     ]
    },
    {
     "name": "stdout",
     "output_type": "stream",
     "text": [
      "{'hashtags': [], 'text': 'RT @BorisJohnson: This election is about what we can do for you and your family. A majority Conservative government will end the uncertaint…', 'user': 'ste_meehan', 'user_loc': None}\n",
      "{'hashtags': [], 'text': 'RT @mel_faith1: Two conservative students attempting to promote their club on the campus of Binghamton University in Binghamton, New York…', 'user': 'cannonbalkid', 'user_loc': None}\n",
      "{'hashtags': [], 'text': 'RT @Alykat24: Please use your vote wisely. You never know when you will need the NHS, if you vote conservative it won’t be there for long!…', 'user': 'Dealoftheday123', 'user_loc': None}\n",
      "{'hashtags': [], 'text': 'RT @DFBHarvard: Half of @FoxNews is OK.  The other half is absolute CRAP!\\n\\nWith MSM 100% anti-Trump, anti-MAGA, anti-Conservative, anti-Chr…', 'user': 'doo2jen', 'user_loc': None}\n",
      "{'hashtags': [], 'text': 'Trump Tested for Deliberate Poisoning of Food With “Time Delayed” Chemical Agent – White House Source… https://t.co/xsi2atXmDc', 'user': 'samjason1939', 'user_loc': None}\n",
      "{'hashtags': [], 'text': 'RT @ananavarro: Groups are cutting ties with Michelle Malkin. Reportedly, she is being shunned for her support of racist, Holocaust-denying…', 'user': 'DesdemoniaR', 'user_loc': 'Texas Proud, World Citizen'}\n",
      "{'hashtags': [], 'text': \"RT @SksmithEFC: When you go to vote on the 12th of December, please don't vote just because of Brexit. I voted to leave but I will not be v…\", 'user': 'Rita43842276', 'user_loc': None}\n",
      "{'hashtags': [], 'text': 'RT @ernie_plumley: Censorship of conservative voices will increase. For example on Dec. 10, YouTube will take free reign in who they consid…', 'user': 'snap17852682', 'user_loc': None}\n",
      "{'hashtags': [], 'text': 'RT @patel4witham: A Conservative majority government will give the police more powers to take weapons of the streets and take action agains…', 'user': 'jeffh0lst', 'user_loc': 'London, England'}\n",
      "{'hashtags': [], 'text': 'RT @mel_faith1: Two conservative students attempting to promote their club on the campus of Binghamton University in Binghamton, New York…', 'user': 'JerryoakesJerry', 'user_loc': 'Michigan, USA'}\n",
      "{'hashtags': [], 'text': 'RT @markpack: Conservative peer campaigning for the Liberal Democrats in Cities of London and Westminster https://t.co/xxdLwZ12in', 'user': 'niknamH', 'user_loc': 'ÜT: 51.837727,-0.818649'}\n",
      "{'hashtags': [], 'text': 'RT @jeremybmerrill: Here’s a risk of microtargeted advertising: Facebook ads asking conservative seniors “Is Your Retirement Protected from…', 'user': 'JustinElliott', 'user_loc': 'New York'}\n",
      "{'hashtags': [], 'text': \"RT @AynRandPaulRyan: This is the direct effect of Trump's witness intimidation.\\n\\nArmy ready to relocate Lt. Col Alexander Vindman and his f…\", 'user': 'ph0sph0rescent', 'user_loc': 'Los Angeles, CA'}\n",
      "{'hashtags': [], 'text': \"@NickJFuentes Can @iheartmindy please tell me how Q'ing giving $B's to Israel and not wanting mass immigration is m… https://t.co/hwBwzyPHKN\", 'user': 'PlagueGroyper', 'user_loc': 'New England'}\n",
      "{'hashtags': [], 'text': 'RT @ConservaMomUSA: WATCH-Radical leftists shut down scheduled talk by economist Dr. Art Laffer hosted by Binghamton University’s #Conserva…', 'user': 'sportsbook14', 'user_loc': 'La Jolla, CA'}\n",
      "{'hashtags': [], 'text': 'RT @NickJFuentes: @bennyjohnson should not be protected or coddled by the conservative movement\\n\\nWe should disavow this cringe pee pee man…', 'user': 'InnerJamal', 'user_loc': None}\n",
      "{'hashtags': ['Yorkshire', 'York'], 'text': 'RT @FabiaTate: As a #Yorkshire girl, born &amp; bread, it’s an honour to stand as your Conservative candidate in #York Central\\n\\nThe constituent…', 'user': 'MeganWi90287242', 'user_loc': None}\n",
      "{'hashtags': [], 'text': 'RT @NBCNews: The Hill is reviewing and correcting articles from a conservative reporter who was referenced and praised by Rep. Nunes in tod…', 'user': 'mgeorge4NY', 'user_loc': 'New York City'}\n",
      "{'hashtags': [], 'text': 'RT @agent1220: How long before Haley and Stefanik play the gender card? \\n\\n\"This is what happens to Conservative women!\" \\n\\nNa, this is what…', 'user': 'Brutalfacts', 'user_loc': 'Central Florida'}\n",
      "{'hashtags': [], 'text': 'RT @michellemalkin: Yes, good idea! As I said in the hour long interview, many lies have been spread about me, @NickJFuentes &amp; all the youn…', 'user': 'lilssri', 'user_loc': None}\n",
      "{'hashtags': [], 'text': 'Liberals are BULLIES', 'user': 'goldwaterkid65', 'user_loc': 'United States'}\n",
      "{'hashtags': [], 'text': 'RT @NBCPolitics: @NBCNews The Hill is reviewing and correcting articles from a conservative reporter who was referenced and praised by Rep.…', 'user': 'nygfan1963', 'user_loc': 'Orlando, FL'}\n",
      "{'hashtags': [], 'text': \"RT @TeamPelosi: A coalition of over *100* Republican groups just joined forces to spread lies and distract you from Trump's bribery and cor…\", 'user': 'blairgirl41', 'user_loc': 'United States'}\n",
      "{'hashtags': [], 'text': '@JayneCBee @chris_bore @RebeccaAncill I suggest you take a look at https://t.co/6KQwQkyRzu it provides a great insi… https://t.co/ilRIkhKHuT', 'user': 'ClaireEMcD', 'user_loc': None}\n",
      "{'hashtags': [], 'text': 'RT @cononeilluk: Before you vote conservative do yourself a favour .... call a private health firm Bupa.... PPP anyone of them. Ask for a q…', 'user': 'WendyWtrishs', 'user_loc': 'Planet Earth....I think'}\n",
      "{'hashtags': [], 'text': 'RT @FDRLST: Use a conservative moderator for a democratic debate? Impossible. \\nhttps://t.co/oqnKq22ftU', 'user': 'MissKinley3', 'user_loc': None}\n",
      "{'hashtags': [], 'text': 'Clealry intent is to end the investigatins of the UCP leadership election and related items.  Good thing the Commis… https://t.co/N7UiLMc35h', 'user': 'NLSmith99', 'user_loc': 'Nova Scotia, Canada'}\n",
      "{'hashtags': [], 'text': 'RT @smac0905: @tonetalks @PeteButtigieg WS always takes on both sides of an argument. This is why the dichotomy of  Democrat/Republican, Li…', 'user': 'TheophanyJones', 'user_loc': None}\n",
      "{'hashtags': [], 'text': 'RT @nedryun: To be clear, in the fight between Conservative Inc &amp; the grifters of the world &amp; @michellemalkin, I’m with Michelle. You can t…', 'user': 'KroekerTony', 'user_loc': 'GRAVEL Rd.Oregon, USA'}\n",
      "{'hashtags': [], 'text': 'RT @mel_faith1: Two conservative students attempting to promote their club on the campus of Binghamton University in Binghamton, New York…', 'user': 'Pitch_Purfect20', 'user_loc': 'California, USA'}\n",
      "{'hashtags': [], 'text': 'RT @blompf2020: Folks, although I am a LOCK for re-election due to the Economy and my special bond with Our Great Blacks, if the election i…', 'user': 'ally_greatest', 'user_loc': None}\n",
      "{'hashtags': [], 'text': 'RT @sha3bazz: Nobody:\\n\\nThe Conservative Party: https://t.co/uMAww7EiMp', 'user': 'pr1nj', 'user_loc': 'Cloud 9'}\n",
      "{'hashtags': [], 'text': 'RT @StacyLStiles: Hey .@jack @TwitterSupport @Twitter, how about you stop interfering in the 2020 election &amp; lift the discriminative #Shado…', 'user': 'LillieLass', 'user_loc': None}\n",
      "{'hashtags': [], 'text': 'RT @kylie_oneil75: Shadow Government: We Only Know a Fraction of the Back Story (Video) https://t.co/fdDbMAJrrj', 'user': 'williamlharbuck', 'user_loc': None}\n",
      "{'hashtags': [], 'text': \"Conservative radio host fired midshow for pointing out Trump's corruption https://t.co/bFpPUDsfoI\", 'user': 'shondi99', 'user_loc': 'SW Desert'}\n",
      "{'hashtags': [], 'text': 'RT @TheRoyGreenShow: Stephen Harper, Paul Martin, Jean Chretien, Brian Muroney all won fed elexns. Kim Campbell, 1 term MP, handed key to P…', 'user': 'langway05', 'user_loc': '#yeg '}\n",
      "{'hashtags': [], 'text': 'On episode 047 of The Changing Faith Podcast we explore religious legalism, but in our discussion, the legalism we… https://t.co/ikcXRIYNfT', 'user': 'michaelhidalgo', 'user_loc': 'Denver, CO'}\n",
      "{'hashtags': [], 'text': 'wiyariz the video dear?', 'user': 'matnz2000', 'user_loc': 'Abuja'}\n",
      "{'hashtags': [], 'text': 'RT @AshAgony: YAF only recently fired fascist Michelle Malkin for being too overt with her fascism. Before that, they thought she was just…', 'user': 'momzemor', 'user_loc': None}\n",
      "{'hashtags': [], 'text': 'Harper is a federalist. \\nWe voted Harper because he was the lesser of 2 evils.\\nHe certainly didn’t do a damned thin… https://t.co/uG39W1C9gf', 'user': 'damnseparatist2', 'user_loc': None}\n",
      "{'hashtags': [], 'text': '@JamesDeanBoyd @jkenney @MPelletierCIO So. The continued exodus of oil is the NDPs fault right, they tried to mitig… https://t.co/4wQSJjlAcZ', 'user': 'Loki_Lyesmythe', 'user_loc': 'Calgary, Alberta'}\n",
      "{'hashtags': [], 'text': 'RT @mel_faith1: Two conservative students attempting to promote their club on the campus of Binghamton University in Binghamton, New York…', 'user': 'angelforadam', 'user_loc': 'USA, Germany'}\n"
     ]
    },
    {
     "name": "stdout",
     "output_type": "stream",
     "text": [
      "{'hashtags': [], 'text': 'RT @ConservaMomUSA: WATCH-Radical leftists shut down scheduled talk by economist Dr. Art Laffer hosted by Binghamton University’s #Conserva…', 'user': 'Mark_Geertsma94', 'user_loc': 'Van down by the river'}\n",
      "{'hashtags': [], 'text': '@SebastianEPayne @uncleporkie Good, it will be a farce. The leaders of the Conservative and Labour Party shouldn’t… https://t.co/5ffJCHESoI', 'user': 'Jamin2g', 'user_loc': None}\n",
      "{'hashtags': [], 'text': 'RT @Independent: “The unweighted results show that only the Conservative Party received more positive than negative coverage across all new…', 'user': 'BuntsBilly', 'user_loc': None}\n",
      "{'hashtags': ['Conservative', 'Ashfield', 'Labour', 'Ashfield'], 'text': 'RT @Anna_Soubry: The #Conservative candidate in #Ashfield is an odious sexist. I do not understand why the former #Labour MP for #Ashfield…', 'user': 'Bedri82547183', 'user_loc': None}\n",
      "{'hashtags': [], 'text': \"RT @clp_secretary: Council by-election last night St Mary's (Powys) result:\\n\\nLAB: 37.4% (+16.3)\\nCON: 26.5% (-14.9)\\nPC: 14.1% (+14.1)\\nLDEM:…\", 'user': 'ochnaw', 'user_loc': 'Cyprus'}\n",
      "{'hashtags': [], 'text': 'Conservative governments shift tax burdens from corporations to students. They cut taxes to companies then make cut… https://t.co/CoZXNXZee4', 'user': 'a_h_reaume', 'user_loc': 'Musqueam 2, British Columbia'}\n",
      "{'hashtags': [], 'text': 'RT @PrettyGoodIdeas: This is Ann interesting piece. I asked a conservative fiend who was complaining about drought and floods in the Midwes…', 'user': 'pixhouse', 'user_loc': 'Pembroke Pines, FL'}\n",
      "{'hashtags': [], 'text': \"RT @TeamPelosi: A coalition of over *100* Republican groups just joined forces to spread lies and distract you from Trump's bribery and cor…\", 'user': 'pussycat_43', 'user_loc': None}\n",
      "{'hashtags': [], 'text': 'RT @JudicialWatch: From @EpochTimes: “Between Sept. 26, 2016, and Dec. 10, 2016, Nuland received Russia-related info from Steele via State…', 'user': 'Danger619Danger', 'user_loc': 'Mission Beach 🇺🇸🌴CA'}\n",
      "{'hashtags': [], 'text': '@iheartmindy @NickJFuentes \"conservative\" values lol', 'user': 'KacynzskYeet', 'user_loc': None}\n",
      "{'hashtags': [], 'text': 'RT @lionel_trolling: The irony of this is that the right wing in America long lionized civil society as the conservative counterbalance to…', 'user': 'robertjbennett', 'user_loc': 'Austin, TX'}\n",
      "{'hashtags': [], 'text': 'Just visited by a Conservative campaigner. Before you assume he’s evil, he was actually lovely. I explained that I’… https://t.co/ZvjEDhNeIv', 'user': 'RashmiWriting', 'user_loc': 'South East England'}\n",
      "{'hashtags': ['Ashfield'], 'text': 'RT @laurenamber_m: The Conservative Candidate for #Ashfield is literally advocating the use of forced labor camps for people with complex i…', 'user': 'danielhowes76', 'user_loc': 'London, England'}\n",
      "{'hashtags': [], 'text': 'Fox News Has Never Faced a Real Conservative TV Rival, But Will That Soon Change? - The Hollywood Reporter.    https://t.co/JccGcYDdw2', 'user': 'j_swineford', 'user_loc': 'Virginia, USA'}\n",
      "{'hashtags': [], 'text': \"This, for once from the Tories is correct, the £1 billion of our money they gave to the DUP was a 'bribe' not a 'pa… https://t.co/EHwpzQzBV7\", 'user': 'markhughes', 'user_loc': 'UK'}\n",
      "{'hashtags': [], 'text': 'RT @KTHopkins: I am a Straight White Christian Conservative who believes we spend too much time tiptoeing around those who choose to join u…', 'user': 'moko_58', 'user_loc': 'Bangalore'}\n",
      "{'hashtags': [], 'text': 'Schiff Leaked Disinfo To Politico As Part Of ‘Impeachment Scheme’, Lawsuit Claims https://t.co/5Uh9wXqKR2 via @Raw Conservative Opinions', 'user': 'DUCNGUY26875563', 'user_loc': None}\n",
      "{'hashtags': [], 'text': 'RT @JudicialWatch: From @EpochTimes: “Between Sept. 26, 2016, and Dec. 10, 2016, Nuland received Russia-related info from Steele via State…', 'user': 'LJW1AM', 'user_loc': None}\n",
      "{'hashtags': [], 'text': 'RT @ryanmeili: Wow. Cons gonna con. https://t.co/3zwtN1WrWu', 'user': 'peoplearecraz', 'user_loc': 'Alberta, Canada'}\n",
      "{'hashtags': [], 'text': '@HugoSugg @LynnDenham1 @MBDesignSols @JoySquires @WorcesterLabour Are we talking about the same Worcester? The one… https://t.co/IivDxwh90d', 'user': 'MintMurray4', 'user_loc': None}\n",
      "{'hashtags': [], 'text': 'RT @ByDonkeys: Last year The Times covered the launch of an IFT report pushing for US companies to run NHS hospitals. It was authored by Co…', 'user': 'robotmummy2000', 'user_loc': 'LONDON'}\n",
      "{'hashtags': [], 'text': 'RT @JudicialWatch: From @EpochTimes: “Between Sept. 26, 2016, and Dec. 10, 2016, Nuland received Russia-related info from Steele via State…', 'user': 'HannahIvers', 'user_loc': 'Magnolia, TX'}\n",
      "{'hashtags': [], 'text': \"RT @keepnhspublic: At this crucial moment for our National Health Service, here's why we're asking, if you want to protect the NHS, then pl…\", 'user': 'coffeepanda88', 'user_loc': 'Surrey, England'}\n",
      "{'hashtags': [], 'text': 'RT @NBCNews: The Hill is reviewing and correcting articles from a conservative reporter who was referenced and praised by Rep. Nunes in tod…', 'user': 'rayharvester', 'user_loc': 'Behind The Veil'}\n",
      "{'hashtags': [], 'text': 'Honestly upset @GVSU senate didn’t stick to their decision to not say the pledge any more. Not sticking to your dec… https://t.co/DYpNOU61EU', 'user': 'trvphippie', 'user_loc': 'Black Hole Sun'}\n",
      "{'hashtags': [], 'text': \"RT @TeamPelosi: A coalition of over *100* Republican groups just joined forces to spread lies and distract you from Trump's bribery and cor…\", 'user': 'jaypateldeMTL', 'user_loc': 'Ontario, Canada'}\n",
      "{'hashtags': ['Ukraine'], 'text': 'RT @gary_patoka: Marie Yovanovitch was appointed as ambassador to #Ukraine in AUGUST of 2016\\n\\nAs 44 was on his way OUT the door\\n\\nAnd NO ONE…', 'user': 'Freedom_Unite1', 'user_loc': 'Leftist Indoctrination Center '}\n",
      "{'hashtags': [], 'text': 'RT @ernie_plumley: Censorship of conservative voices will increase. For example on Dec. 10, YouTube will take free reign in who they consid…', 'user': 'barkbarkgunner', 'user_loc': 'NC USA'}\n",
      "{'hashtags': [], 'text': '@iheartmindy @NickJFuentes You make porn videos lol... so stfu \\nYou’re not a conservative.', 'user': '1SamuelGent', 'user_loc': 'Ohio, USA'}\n",
      "{'hashtags': ['Yorkshire', 'York'], 'text': 'RT @FabiaTate: As a #Yorkshire girl, born &amp; bread, it’s an honour to stand as your Conservative candidate in #York Central\\n\\nThe constituent…', 'user': 'Dringcarol', 'user_loc': 'England, United Kingdom'}\n",
      "{'hashtags': [], 'text': \"RT @keepnhspublic: At this crucial moment for our National Health Service, here's why we're asking, if you want to protect the NHS, then pl…\", 'user': 'amyrafallah', 'user_loc': 'Middlesbrough, England'}\n",
      "{'hashtags': [], 'text': \"RT @LauraPidcockMP: Question I'd like @BorisJohnson to answer tonight relates to his statement that historic child abuse investigations are…\", 'user': 'lunaberga', 'user_loc': 'Gormenghast.'}\n",
      "{'hashtags': ['Raab'], 'text': \"Oh Dear #Raab we see a bit of collusion here, perhaps us Northern Monkeys' will not be voting @brexitparty_uk or… https://t.co/eHvMl1IXxm\", 'user': 'PaulMaders', 'user_loc': 'Birmingham, England'}\n",
      "{'hashtags': [], 'text': \"RT @keepnhspublic: At this crucial moment for our National Health Service, here's why we're asking, if you want to protect the NHS, then pl…\", 'user': 'emzykeri_', 'user_loc': None}\n",
      "{'hashtags': [], 'text': \"@BrianBunessan @OneTrueSpartan @LondonUK84 The EHRC are looking at the evidence.\\nAnything which isn't factual evide… https://t.co/ucRPBt078u\", 'user': 'AngelCageBand', 'user_loc': 'Margate Kent UK'}\n",
      "{'hashtags': [], 'text': 'Bash the Groypers all you want. Remember that they were the meme warriors that got Trump elected. The Conservative… https://t.co/AvbC290uYN', 'user': 'Jerkstore723', 'user_loc': None}\n",
      "{'hashtags': ['medium', 'blog', 'essay', 'news', 'politics', 'government', 'FaithGoldy'], 'text': 'Mayor Faith Goldy - via @smedian_network\\n\\n.@Medium #medium #blog #essay #news #politics #government #FaithGoldy… https://t.co/1I7SPvGtJ0', 'user': 'chrisoldcorn', 'user_loc': None}\n",
      "{'hashtags': [], 'text': \"RT @michellemalkin: Skeered. YAF calls cops on conservative media activist @KaitMarieox for asking questions.\\n\\nIt's all about control.\\n\\n#Ga…\", 'user': '6E_cwagzz', 'user_loc': None}\n"
     ]
    },
    {
     "name": "stdout",
     "output_type": "stream",
     "text": [
      "{'hashtags': [], 'text': \"Would have been good if our Conservatives had given even a moment's thought to holding an event like this.\", 'user': 'AlexUsherHESA', 'user_loc': None}\n",
      "{'hashtags': ['MySleeptweet'], 'text': 'RT @IWashington: #MySleeptweet You don’t wanna miss a Midnight Gutter Coon and a Conservative Thug on the same stage telling you the TRUTH…', 'user': 'nlackey777', 'user_loc': None}\n",
      "{'hashtags': [], 'text': 'RT @KikkiPlanet: Oh hey, Canada. Kenney’s conservative government is firing the commissioner who is investigating their fraudulent leadersh…', 'user': 'PrairieCelt', 'user_loc': 'Winnipeg MB'}\n",
      "{'hashtags': ['arronbanksleaks'], 'text': 'RT @Cromwell606: #arronbanksleaks \\nWe now go live to the Conservative Party:\\nhttps://t.co/V5xsWcUL8V', 'user': 'Lowery_1', 'user_loc': 'United Kingdom'}\n",
      "{'hashtags': [], 'text': 'Leaked Xinjiang Papers Confirm The Chinese Communist Party Is Full Of Lying Murderers https://t.co/Q5ofFwVTQp', 'user': 'JadeNushuz4me', 'user_loc': 'New Jersey, USA Philadelphia '}\n",
      "{'hashtags': [], 'text': 'RT @LorneNystrom: Alberta was targeted by the Feds when Harper &amp; Kenney were PM &amp; Minister.  \\nThat Conservative Govt wrote our current Equa…', 'user': 'bergen_lorne', 'user_loc': 'Salmon Arm, BC'}\n",
      "{'hashtags': [], 'text': \"If you care about the NHS don't vote conservative! 👇👇\", 'user': 'mixedracerebell', 'user_loc': 'Manchester U.K. '}\n",
      "{'hashtags': [], 'text': \"@CPUmagician @ghosteroven @KangSlade @gunns_peter @DanCrenshawTX @NickJFuentes Correction, can't be a white suprema… https://t.co/HeF8D1i6tq\", 'user': 'GeorgeSaysSup', 'user_loc': None}\n",
      "{'hashtags': [], 'text': 'RT @KTHopkins: I am a Straight White Christian Conservative who believes we spend too much time tiptoeing around those who choose to join u…', 'user': 'bettdaveclem1', 'user_loc': 'Swadlincote, England'}\n",
      "{'hashtags': [], 'text': 'RT @KTHopkins: I am a Straight White Christian Conservative who believes we spend too much time tiptoeing around those who choose to join u…', 'user': 'jeffh0lst', 'user_loc': 'London, England'}\n",
      "{'hashtags': [], 'text': 'RT @BorisJohnson: This election is about what we can do for you and your family. A majority Conservative government will end the uncertaint…', 'user': 'ocmtber', 'user_loc': 'Orange County, California'}\n",
      "{'hashtags': [], 'text': 'RT @GOPLeader: .@Repstefanik is a young, powerful, conservative woman—and Democrats are threatened by that. They are resorting to slander a…', 'user': 'DangerousGrunt', 'user_loc': 'United States'}\n",
      "{'hashtags': [], 'text': \"@6385521e2c904da @Education4Libs He's not a conservative. However, he's done an amazing job.\", 'user': 'BDogg999', 'user_loc': 'Atlanta, GA'}\n",
      "{'hashtags': [], 'text': '@bad_tits None of these people are conservative, beyond conserving the wealth of the 1%.', 'user': 'mlfoley', 'user_loc': 'United States'}\n",
      "{'hashtags': [], 'text': 'RT @mel_faith1: Two conservative students attempting to promote their club on the campus of Binghamton University in Binghamton, New York…', 'user': 'OldIndianWoman', 'user_loc': 'United States'}\n",
      "{'hashtags': [], 'text': 'RT @ananavarro: Groups are cutting ties with Michelle Malkin. Reportedly, she is being shunned for her support of racist, Holocaust-denying…', 'user': 'ChrisCuomo', 'user_loc': 'In the Arena'}\n",
      "{'hashtags': [], 'text': '@Bagdaddy5 @RedTRaccoon I consider my self libertarian conservative. \\n\\nI’m pretty right. Although not religious and… https://t.co/FgPxx29Dua', 'user': 'Chris_Hitchcock', 'user_loc': 'Denver'}\n",
      "{'hashtags': [], 'text': \"RT @keepnhspublic: At this crucial moment for our National Health Service, here's why we're asking, if you want to protect the NHS, then pl…\", 'user': 'MMujtabaHashmi', 'user_loc': 'High wycombe uk'}\n",
      "{'hashtags': [], 'text': \"RT @LauraPidcockMP: Question I'd like @BorisJohnson to answer tonight relates to his statement that historic child abuse investigations are…\", 'user': 'AndyRog2330', 'user_loc': None}\n",
      "{'hashtags': ['ChickFilA'], 'text': 'RT @SillyTransKid: For as much they constantly say they’re not homophobic, the conservative outrage in response to #ChickFilA no longer don…', 'user': 'nottomat_', 'user_loc': 'United States'}\n",
      "{'hashtags': [], 'text': \"RT @keepnhspublic: At this crucial moment for our National Health Service, here's why we're asking, if you want to protect the NHS, then pl…\", 'user': 'GeorgiaBelfiore', 'user_loc': None}\n",
      "{'hashtags': [], 'text': 'RT @nicktolhurst: 2/\\n\\nRyan Houghton who is still the official candidate for the Conservative party for Aberdeen North was found to have a l…', 'user': 'sophramsayp', 'user_loc': 'London, England'}\n",
      "{'hashtags': [], 'text': 'RT @ernie_plumley: Censorship of conservative voices will increase. For example on Dec. 10, YouTube will take free reign in who they consid…', 'user': 'Lindamu9', 'user_loc': 'Sayville, NY'}\n",
      "{'hashtags': [], 'text': \"RT @TeamPelosi: A coalition of over *100* Republican groups just joined forces to spread lies and distract you from Trump's bribery and cor…\", 'user': 'TonertsE', 'user_loc': 'New York, USA'}\n",
      "{'hashtags': [], 'text': \"@BernieAussie The Police force is not simply 'Socialism', nor are roads, or schools etc. I could grow a turnip in m… https://t.co/L3U9Hv1Hdx\", 'user': 'CalumHayes01', 'user_loc': 'England'}\n",
      "{'hashtags': [], 'text': \"Stop!!! @trish_regan aren't you at least a little conservative? How the heck is redistributing money from people wi… https://t.co/49ud2utVrO\", 'user': 'Rossputin', 'user_loc': 'Galts Gulch, Colorado'}\n",
      "{'hashtags': [], 'text': 'Honestly, when will @ChickfilA &amp; the other Christian conservative businesses, brands, etc realize... you WILL NEVER… https://t.co/i94e1t4TZe', 'user': 'JMHoffman', 'user_loc': 'Queen Creek, Arizona'}\n",
      "{'hashtags': ['Conservative'], 'text': 'RT @mojos55: An antisemitism scandal has struck the #Conservative Party, with two candidates facing accusations of alleged antisemitism. \\nB…', 'user': 'NinpoUK', 'user_loc': 'England, United Kingdom'}\n",
      "{'hashtags': [], 'text': 'RT @mel_faith1: Two conservative students attempting to promote their club on the campus of Binghamton University in Binghamton, New York…', 'user': 'MargosunC', 'user_loc': None}\n",
      "{'hashtags': [], 'text': 'RT @goofballgeorge: Are you tired of the Left-Wing Censorship Media pushing their lies? Follow @GiantSlyers, a team of patriots with the pl…', 'user': 'Jerzeejap', 'user_loc': 'United States Minor Outlying I'}\n",
      "{'hashtags': [], 'text': 'RT @mel_faith1: Two conservative students attempting to promote their club on the campus of Binghamton University in Binghamton, New York…', 'user': 'Consofcooking1', 'user_loc': 'Georgia, USA'}\n",
      "{'hashtags': [], 'text': \"@ash_says_what @DarthSweetums @abbydphillip He hasn't been deemed biased. You read liberal sided fact checkers and… https://t.co/3x2pf5VBn9\", 'user': 'cdas58', 'user_loc': 'Everett, MA'}\n",
      "{'hashtags': [], 'text': 'RT @RealCooperW: WATCH: A leftist mob harassed and threatened Conservative students on the Campus of Binghamton University while setting up…', 'user': 'VinnySantuzziSD', 'user_loc': 'San Diego, CA'}\n",
      "{'hashtags': [], 'text': 'RT @ByDonkeys: Last year The Times covered the launch of an IFT report pushing for US companies to run NHS hospitals. It was authored by Co…', 'user': 'FreelanceSciWri', 'user_loc': 'Bristol'}\n",
      "{'hashtags': [], 'text': 'RT @pdabrosca: *entire regions flipping blue*\\n\\nGOP cultural leaders: “Did you know Hispanics are inherently conservative?” https://t.co/iqR…', 'user': 'PWilliamKitty', 'user_loc': None}\n",
      "{'hashtags': [], 'text': \"RT @CoslettLinda: I don't want to hear one more liberal accuse a conservative of sexism, racism or any type of phobia after the howling hye…\", 'user': 'VickieFindley2', 'user_loc': 'California, USA'}\n",
      "{'hashtags': [], 'text': 'RT @mel_faith1: Two conservative students attempting to promote their club on the campus of Binghamton University in Binghamton, New York…', 'user': 'CogentThe', 'user_loc': 'Michigan, USA'}\n",
      "{'hashtags': [], 'text': 'RT @KTHopkins: I am a Straight White Christian Conservative who believes we spend too much time tiptoeing around those who choose to join u…', 'user': 'editoraju', 'user_loc': 'Hindustan'}\n",
      "{'hashtags': ['BrexitParty', 'Conservative', 'aaronbanksleaks'], 'text': \"RT @PaulMaders: Too anyone voting #BrexitParty or #Conservative you are nought but fucking Northern Monkey's #aaronbanksleaks is more telli…\", 'user': 'catethetwaate', 'user_loc': None}\n"
     ]
    },
    {
     "name": "stdout",
     "output_type": "stream",
     "text": [
      "{'hashtags': [], 'text': \"RT @Soutiam21: One of the best Conservative policies in this election is life means life. We've let perpetrators of the most hideous, murde…\", 'user': 'AlanSha50343350', 'user_loc': None}\n",
      "{'hashtags': [], 'text': \"Now I'm sharing content from Tiana Lowe. This is proof that Fuentes is bad news for the conservative movement. I am… https://t.co/2DXuzlkVr6\", 'user': 'arabbitorduck', 'user_loc': 'Texas, USA'}\n",
      "{'hashtags': [], 'text': 'RT @Douglas4Moray: Myself and the @ScotTories have successfully campaigned for the last two years to mitigate the extra taxes the SNP have…', 'user': 'ThomasC95262363', 'user_loc': 'Scotland, United Kingdom'}\n",
      "{'hashtags': [], 'text': 'RT @ananavarro: Groups are cutting ties with Michelle Malkin. Reportedly, she is being shunned for her support of racist, Holocaust-denying…', 'user': 'bloomsjo', 'user_loc': None}\n",
      "{'hashtags': [], 'text': 'RT @carterforva: Dear 3% of Iowans who said Bernie is too conservative,\\n\\nI love you all. https://t.co/0Yap7jefH8', 'user': 'jackyardbeisbol', 'user_loc': 'WA'}\n",
      "{'hashtags': [], 'text': 'RT @NBCNews: The Hill is reviewing and correcting articles from a conservative reporter who was referenced and praised by Rep. Nunes in tod…', 'user': 'DsOchoa', 'user_loc': 'California, USA'}\n",
      "{'hashtags': [], 'text': '@holland_tom Airline Pilots Union. It was how he got into politics through the CTU - Conservative trade Unioinists.', 'user': 'mikelovestweets', 'user_loc': 'Hertfordshire, England'}\n",
      "{'hashtags': [], 'text': 'RT @TBIJ: Experts told the ISC committee how Russian money and influence flowed through extremist parties, donations to the Conservative pa…', 'user': 'sw19', 'user_loc': None}\n",
      "{'hashtags': [], 'text': 'RT @ernie_plumley: Censorship of conservative voices will increase. For example on Dec. 10, YouTube will take free reign in who they consid…', 'user': 'TRUMPLICAN_2017', 'user_loc': 'Texas, USA'}\n",
      "{'hashtags': [], 'text': \"@MJP1313 @chadfelixg @ChickfilA I'm a conservative and they didn't lose me. they are a restaurant who serves chicke… https://t.co/FgmI8caf65\", 'user': 'Kim12345678Kim', 'user_loc': 'Scarborough, Ontario'}\n",
      "{'hashtags': ['Yorkshire', 'York'], 'text': 'RT @FabiaTate: As a #Yorkshire girl, born &amp; bread, it’s an honour to stand as your Conservative candidate in #York Central\\n\\nThe constituent…', 'user': 'peanut_astro', 'user_loc': ' Dorset, Ireland, Spain '}\n",
      "{'hashtags': [], 'text': 'RT @safetyberkeley: Please share. Ann Coulter is coming to UCB on 11/20. She is not just a conservative, but a neo-fascist. Understand how…', 'user': 'KunzeFilms', 'user_loc': 'San Francisco, CA'}\n",
      "{'hashtags': [], 'text': '@iheartmindy @NickJFuentes Conservative Whore Inc. should be seen and not heard. Tits or GTFO!', 'user': 'RashemiRanger', 'user_loc': 'The Sword Coast'}\n",
      "{'hashtags': [], 'text': \"So as a White Chrisitan in a conservative denomination, I'm going to focus on those cultural issues *we* are guilty… https://t.co/sZyaOX9wWk\", 'user': 'matttebbe', 'user_loc': 'Fishers, IN'}\n",
      "{'hashtags': [], 'text': \"RT @Conservatives: “I'm an ex-miner and worked at Warsop Main Colliery for nearly three decades. But I'll be voting for the Tories in Decem…\", 'user': 'JohnCurd1', 'user_loc': 'Byfleet, Surrey'}\n",
      "{'hashtags': ['SmartNews'], 'text': 'Conservative Televangelist Jim Bakker Says Democrats Will Kill Trump If Impeachment Fails #SmartNews You are one si… https://t.co/4APbEMunzG', 'user': 'JeaniBorchert1', 'user_loc': 'Bismarck, ND'}\n",
      "{'hashtags': [], 'text': 'RT @ABXXNA: The Conservative Party have pledged to raise the minimum wage to £10.50, but when Labour said they would increase it to £10 peo…', 'user': 'nadiaamalaika', 'user_loc': None}\n",
      "{'hashtags': [], 'text': \"RT @HNIJohnMiller: 18) Ukraine found out, Trump stripped her of her ambassador position and didn't give her another, and now Ukraine's been…\", 'user': 'anthonybrown07', 'user_loc': 'United States'}\n",
      "{'hashtags': [], 'text': 'RT @TradingFALiving: $GBPUSD continues to tick higher as the pre-election polls show a widening Conservative party majority. Today, the mai…', 'user': 'CW_Signals', 'user_loc': None}\n",
      "{'hashtags': [], 'text': 'While praying for wisdom and discernment over those areas... interesting perspective', 'user': 'SonnieJohnson', 'user_loc': None}\n",
      "{'hashtags': [], 'text': 'May God Bless George Will.', 'user': 'Shadofx', 'user_loc': None}\n",
      "{'hashtags': [], 'text': 'RT @mel_faith1: Two conservative students attempting to promote their club on the campus of Binghamton University in Binghamton, New York…', 'user': 'johnhalloman186', 'user_loc': None}\n",
      "{'hashtags': [], 'text': '@iheartmindy @NickJFuentes Conservative Inc. fear Nick “The Knife” Fuentes', 'user': 'wrexlo', 'user_loc': None}\n",
      "{'hashtags': [], 'text': '@larry79115 IPCC therefore ought to be received as the conservative estimate on projected outcomes precisely becaus… https://t.co/YJCfU3e45b', 'user': 'JodiKoberinski', 'user_loc': 'University of Waterloo; Oak Institute for International Human Rights 2015'}\n",
      "{'hashtags': [], 'text': 'RT @ScottMGreer: This is the last thing Conservative Inc. ever sees https://t.co/KmFXsmOgnG', 'user': 'killermicrobe', 'user_loc': 'New York City'}\n",
      "{'hashtags': [], 'text': 'RT @SohrabAhmari: Put not thy trust in culturally conservative capitalists. Mammon is a jealous god. https://t.co/AH3khZXOaE', 'user': 'JMU2012', 'user_loc': 'Suplex City'}\n",
      "{'hashtags': [], 'text': '@Sflecce I see that you are another of the narrowly educated, political hacks, with zero real life experience that… https://t.co/2fBiUhcgHl', 'user': 'SilverPenny4', 'user_loc': 'Newmarket, Ontario'}\n",
      "{'hashtags': [], 'text': 'Every neoliberal is a gigantic rat fucking secret conservative, but damn Mayo Pete is one of the worst', 'user': 'LeftoverCruz', 'user_loc': None}\n",
      "{'hashtags': ['CaRMS2019'], 'text': '@AmandaHempelMD I had the same experience on my #CaRMS2019 tour with my floral ties. I was counselled multiple time… https://t.co/rxy3uSwyp9', 'user': 'Selstaar', 'user_loc': 'Toronto, ON'}\n",
      "{'hashtags': [], 'text': 'Analysis: How Elise Stefanik became an overnight conservative hero https://t.co/wII1X8ZSsW', 'user': 'swissbusiness', 'user_loc': 'Zurich'}\n",
      "{'hashtags': [], 'text': 'Analysis: How Elise Stefanik became an overnight conservative hero https://t.co/cBYJZ715mO https://t.co/x6wGGWQ7vV', 'user': 'Knewz_Currently', 'user_loc': 'Va Beach, Virginia'}\n",
      "{'hashtags': [], 'text': 'RT @Chaianne11: https://t.co/CXJAMVo2el\\nWE ARE NOT AT WAR WITH RUSSIA, OR ANY COUNTRY ATM. WE ARE AT WAR WITH THE DEM SOCIALIST COMMUNISTS…', 'user': 'Jules66968941', 'user_loc': None}\n",
      "{'hashtags': [], 'text': 'RT @misszing: I wrote about the 20 universities all located in key Tory marginal seats – places where just a handful of student votes could…', 'user': 'LawrenceAy', 'user_loc': None}\n",
      "{'hashtags': [], 'text': 'Conservative Review: Sen. Ron Johnson: Trump adamantly denied a quid pro quo arrangement for Ukrainian military aid… https://t.co/7MelLNyZxR', 'user': 'QWIKET_FEED', 'user_loc': 'Boise, ID'}\n",
      "{'hashtags': [], 'text': 'Shadow Government: We Only Know a Fraction of the Back Story (Video) https://t.co/6LM7MsPLD1', 'user': 'genesisalfa1212', 'user_loc': None}\n",
      "{'hashtags': [], 'text': 'Republican Andrew Scheer is a carbon copy of Republican DOUG FORD both men cater only to the wealthy 1% &amp; BAY STREE… https://t.co/gHteYxegso', 'user': 'genesiofb33', 'user_loc': 'Sault Ste. Marie, Ontario'}\n",
      "{'hashtags': ['Conservative'], 'text': 'RT @mobbiemobes: For the #Conservative party, it seems promoting stereotypes, using racial slurs, &amp; supporting far-right conspiracy theorie…', 'user': 'SyedIbrahim1137', 'user_loc': 'Pakistan, Saudi Arabia, Canada'}\n",
      "{'hashtags': ['Leftist'], 'text': \"RT @America1stTiger: How to achieve the American Dream in 3 easy steps if you're a #Leftist!\\n\\n- Level Baseless claims against Conservative…\", 'user': 'alley167', 'user_loc': 'Ohio, USA'}\n",
      "{'hashtags': [], 'text': 'RT @ananavarro: Groups are cutting ties with Michelle Malkin. Reportedly, she is being shunned for her support of racist, Holocaust-denying…', 'user': 'prjedi69', 'user_loc': 'Pennsylvania, USA'}\n",
      "{'hashtags': [], 'text': 'This is how Republicans plan to continue to hold power. No one likes their policies.', 'user': 'GrassianiL', 'user_loc': 'Westchester, NY'}\n"
     ]
    },
    {
     "name": "stdout",
     "output_type": "stream",
     "text": [
      "{'hashtags': [], 'text': 'RT @patel4witham: A Conservative majority government will give the police more powers to take weapons of the streets and take action agains…', 'user': 'GeoffreyClewes', 'user_loc': 'Bolton, England'}\n",
      "{'hashtags': [], 'text': \"@zennsfw1 Twitter can be so ridiculous! I don't see why they would do that. I'm sorry man.. I love your works so mu… https://t.co/bnYr1hxd5F\", 'user': 'CelebAnalFakes', 'user_loc': None}\n",
      "{'hashtags': [], 'text': 'RT @TrumpsPitBull: 😂😂How ironic that the @DNC isn’t pushing for their own agendas. It’s not just little ole conservative me that’s pissed b…', 'user': 'Jassy_Mom', 'user_loc': None}\n",
      "{'hashtags': [], 'text': 'RT @mel_faith1: Two conservative students attempting to promote their club on the campus of Binghamton University in Binghamton, New York…', 'user': 'DennisWatkins15', 'user_loc': None}\n",
      "{'hashtags': [], 'text': \"In just three weeks, there's been more of a concerted effort of Conservative Inc's part to attack Fuentes then ther… https://t.co/32N6gIkhPb\", 'user': 'constantinescom', 'user_loc': 'Lake Erie'}\n",
      "{'hashtags': [], 'text': 'RT @ConservaMomUSA: WATCH-Radical leftists shut down scheduled talk by economist Dr. Art Laffer hosted by Binghamton University’s #Conserva…', 'user': 'SPUFFER4', 'user_loc': None}\n",
      "{'hashtags': [], 'text': 'RT @wonderworld2016: One of several outstanding call outs. @EliseStefanik displayed\\ngreat brilliance, she stood up to Schiff, &amp; had him squ…', 'user': 'GetOverItMedia1', 'user_loc': 'United States '}\n",
      "{'hashtags': [], 'text': \"RT @ragnasun8: Do you think that more young people should register to vote to make sure that the conservative party don't regain power.\", 'user': 'ragnasun8', 'user_loc': 'Mars'}\n",
      "{'hashtags': [], 'text': 'RT @nicktolhurst: ++BREAKING++\\n\\nConservative candidate in upcoming election claims that Holocaust was “exaggerated” &amp; details “fabricated”.…', 'user': 'WellGreenBarn', 'user_loc': 'Great Asby'}\n",
      "{'hashtags': ['Raab'], 'text': \"RT @PaulMaders: Oh Dear #Raab we see a bit of collusion here, perhaps us Northern Monkeys' will not be voting @brexitparty_uk or @Conservat…\", 'user': 'catethetwaate', 'user_loc': None}\n",
      "{'hashtags': [], 'text': 'RT @sonaliranade: “Those in the West who tried to see in him a bold conservative reformer who could lead India’s growth story and open its…', 'user': 'jerryrajrod1', 'user_loc': 'Dubai, United Arab Emirates'}\n",
      "{'hashtags': [], 'text': '@CodyLibolt Being conservative certainly doesn’t mean believing Big Business is good.', 'user': 'elsy1958', 'user_loc': None}\n",
      "{'hashtags': [], 'text': \"RT @LauraPidcockMP: Question I'd like @BorisJohnson to answer tonight relates to his statement that historic child abuse investigations are…\", 'user': 'mrsacky', 'user_loc': 'Saffron Walden, England'}\n",
      "{'hashtags': [], 'text': \"RT @TeamPelosi: A coalition of over *100* Republican groups just joined forces to spread lies and distract you from Trump's bribery and cor…\", 'user': 'holly_hamel', 'user_loc': 'Richmond, VA'}\n",
      "{'hashtags': [], 'text': 'RT @cliodiaspora: \"Under my leadership, a majority Conservative government will implement a system that takes away the right to freedom of…', 'user': 'RosaSelvagem93', 'user_loc': None}\n",
      "{'hashtags': [], 'text': 'And yet they keep cutting funding for state schools? Hm.', 'user': 'missjsscnrmn', 'user_loc': '☉ ♋︎ ↑ ♍︎☽ ♏︎'}\n",
      "{'hashtags': [], 'text': 'Imagine you’re so dumb you think Congress can “end the war in Yemen.” So much bumper sticker foreign policy analysi… https://t.co/j7QqdcL4vW', 'user': 'davereaboi', 'user_loc': 'Miami Beach, FL'}\n",
      "{'hashtags': [], 'text': 'RT @ananavarro: Groups are cutting ties with Michelle Malkin. Reportedly, she is being shunned for her support of racist, Holocaust-denying…', 'user': 'henrywiebe1', 'user_loc': 'La Canada Flintridge, CA'}\n",
      "{'hashtags': [], 'text': 'RT @Schilling1776: The protests backfired — bigly. Americans saw the bullying for what it was and lines for Chick-fil-A were miles long for…', 'user': 'JMU2012', 'user_loc': 'Suplex City'}\n",
      "{'hashtags': [], 'text': 'RT @KikkiPlanet: Oh hey, Canada. Kenney’s conservative government is firing the commissioner who is investigating their fraudulent leadersh…', 'user': 'jlsfreedom', 'user_loc': None}\n",
      "{'hashtags': [], 'text': 'RT @nickeardleybbc: Conservative candidate in Aberdeen suspended after accusations that he made anti-Semitic comments online\\n\\n https://t.co…', 'user': 'raiya_zak', 'user_loc': 'London'}\n"
     ]
    },
    {
     "ename": "KeyboardInterrupt",
     "evalue": "",
     "output_type": "error",
     "traceback": [
      "\u001b[0;31m---------------------------------------------------------------------------\u001b[0m",
      "\u001b[0;31mWantReadError\u001b[0m                             Traceback (most recent call last)",
      "\u001b[0;32m/opt/anaconda3/lib/python3.7/site-packages/urllib3/contrib/pyopenssl.py\u001b[0m in \u001b[0;36mrecv_into\u001b[0;34m(self, *args, **kwargs)\u001b[0m\n\u001b[1;32m    296\u001b[0m         \u001b[0;32mtry\u001b[0m\u001b[0;34m:\u001b[0m\u001b[0;34m\u001b[0m\u001b[0;34m\u001b[0m\u001b[0m\n\u001b[0;32m--> 297\u001b[0;31m             \u001b[0;32mreturn\u001b[0m \u001b[0mself\u001b[0m\u001b[0;34m.\u001b[0m\u001b[0mconnection\u001b[0m\u001b[0;34m.\u001b[0m\u001b[0mrecv_into\u001b[0m\u001b[0;34m(\u001b[0m\u001b[0;34m*\u001b[0m\u001b[0margs\u001b[0m\u001b[0;34m,\u001b[0m \u001b[0;34m**\u001b[0m\u001b[0mkwargs\u001b[0m\u001b[0;34m)\u001b[0m\u001b[0;34m\u001b[0m\u001b[0;34m\u001b[0m\u001b[0m\n\u001b[0m\u001b[1;32m    298\u001b[0m         \u001b[0;32mexcept\u001b[0m \u001b[0mOpenSSL\u001b[0m\u001b[0;34m.\u001b[0m\u001b[0mSSL\u001b[0m\u001b[0;34m.\u001b[0m\u001b[0mSysCallError\u001b[0m \u001b[0;32mas\u001b[0m \u001b[0me\u001b[0m\u001b[0;34m:\u001b[0m\u001b[0;34m\u001b[0m\u001b[0;34m\u001b[0m\u001b[0m\n",
      "\u001b[0;32m/opt/anaconda3/lib/python3.7/site-packages/OpenSSL/SSL.py\u001b[0m in \u001b[0;36mrecv_into\u001b[0;34m(self, buffer, nbytes, flags)\u001b[0m\n\u001b[1;32m   1821\u001b[0m             \u001b[0mresult\u001b[0m \u001b[0;34m=\u001b[0m \u001b[0m_lib\u001b[0m\u001b[0;34m.\u001b[0m\u001b[0mSSL_read\u001b[0m\u001b[0;34m(\u001b[0m\u001b[0mself\u001b[0m\u001b[0;34m.\u001b[0m\u001b[0m_ssl\u001b[0m\u001b[0;34m,\u001b[0m \u001b[0mbuf\u001b[0m\u001b[0;34m,\u001b[0m \u001b[0mnbytes\u001b[0m\u001b[0;34m)\u001b[0m\u001b[0;34m\u001b[0m\u001b[0;34m\u001b[0m\u001b[0m\n\u001b[0;32m-> 1822\u001b[0;31m         \u001b[0mself\u001b[0m\u001b[0;34m.\u001b[0m\u001b[0m_raise_ssl_error\u001b[0m\u001b[0;34m(\u001b[0m\u001b[0mself\u001b[0m\u001b[0;34m.\u001b[0m\u001b[0m_ssl\u001b[0m\u001b[0;34m,\u001b[0m \u001b[0mresult\u001b[0m\u001b[0;34m)\u001b[0m\u001b[0;34m\u001b[0m\u001b[0;34m\u001b[0m\u001b[0m\n\u001b[0m\u001b[1;32m   1823\u001b[0m \u001b[0;34m\u001b[0m\u001b[0m\n",
      "\u001b[0;32m/opt/anaconda3/lib/python3.7/site-packages/OpenSSL/SSL.py\u001b[0m in \u001b[0;36m_raise_ssl_error\u001b[0;34m(self, ssl, result)\u001b[0m\n\u001b[1;32m   1621\u001b[0m         \u001b[0;32mif\u001b[0m \u001b[0merror\u001b[0m \u001b[0;34m==\u001b[0m \u001b[0m_lib\u001b[0m\u001b[0;34m.\u001b[0m\u001b[0mSSL_ERROR_WANT_READ\u001b[0m\u001b[0;34m:\u001b[0m\u001b[0;34m\u001b[0m\u001b[0;34m\u001b[0m\u001b[0m\n\u001b[0;32m-> 1622\u001b[0;31m             \u001b[0;32mraise\u001b[0m \u001b[0mWantReadError\u001b[0m\u001b[0;34m(\u001b[0m\u001b[0;34m)\u001b[0m\u001b[0;34m\u001b[0m\u001b[0;34m\u001b[0m\u001b[0m\n\u001b[0m\u001b[1;32m   1623\u001b[0m         \u001b[0;32melif\u001b[0m \u001b[0merror\u001b[0m \u001b[0;34m==\u001b[0m \u001b[0m_lib\u001b[0m\u001b[0;34m.\u001b[0m\u001b[0mSSL_ERROR_WANT_WRITE\u001b[0m\u001b[0;34m:\u001b[0m\u001b[0;34m\u001b[0m\u001b[0;34m\u001b[0m\u001b[0m\n",
      "\u001b[0;31mWantReadError\u001b[0m: ",
      "\nDuring handling of the above exception, another exception occurred:\n",
      "\u001b[0;31mKeyboardInterrupt\u001b[0m                         Traceback (most recent call last)",
      "\u001b[0;32m<ipython-input-85-c567e5f67d28>\u001b[0m in \u001b[0;36m<module>\u001b[0;34m\u001b[0m\n\u001b[1;32m      3\u001b[0m                   access_token, access_token_secret)\n\u001b[1;32m      4\u001b[0m \u001b[0;31m# Start the stream\u001b[0m\u001b[0;34m\u001b[0m\u001b[0;34m\u001b[0m\u001b[0;34m\u001b[0m\u001b[0m\n\u001b[0;32m----> 5\u001b[0;31m \u001b[0mtweets\u001b[0m \u001b[0;34m=\u001b[0m \u001b[0mstream\u001b[0m\u001b[0;34m.\u001b[0m\u001b[0mstatuses\u001b[0m\u001b[0;34m.\u001b[0m\u001b[0mfilter\u001b[0m\u001b[0;34m(\u001b[0m\u001b[0mtrack\u001b[0m\u001b[0;34m=\u001b[0m\u001b[0;34m'conservative'\u001b[0m\u001b[0;34m)\u001b[0m\u001b[0;34m\u001b[0m\u001b[0;34m\u001b[0m\u001b[0m\n\u001b[0m",
      "\u001b[0;32m/opt/anaconda3/lib/python3.7/site-packages/twython/streaming/types.py\u001b[0m in \u001b[0;36mfilter\u001b[0;34m(self, **params)\u001b[0m\n\u001b[1;32m     65\u001b[0m         \u001b[0murl\u001b[0m \u001b[0;34m=\u001b[0m \u001b[0;34m'https://stream.twitter.com/%s/statuses/filter.json'\u001b[0m\u001b[0;31m \u001b[0m\u001b[0;31m\\\u001b[0m\u001b[0;34m\u001b[0m\u001b[0;34m\u001b[0m\u001b[0m\n\u001b[1;32m     66\u001b[0m               \u001b[0;34m%\u001b[0m \u001b[0mself\u001b[0m\u001b[0;34m.\u001b[0m\u001b[0mstreamer\u001b[0m\u001b[0;34m.\u001b[0m\u001b[0mapi_version\u001b[0m\u001b[0;34m\u001b[0m\u001b[0;34m\u001b[0m\u001b[0m\n\u001b[0;32m---> 67\u001b[0;31m         \u001b[0mself\u001b[0m\u001b[0;34m.\u001b[0m\u001b[0mstreamer\u001b[0m\u001b[0;34m.\u001b[0m\u001b[0m_request\u001b[0m\u001b[0;34m(\u001b[0m\u001b[0murl\u001b[0m\u001b[0;34m,\u001b[0m \u001b[0;34m'POST'\u001b[0m\u001b[0;34m,\u001b[0m \u001b[0mparams\u001b[0m\u001b[0;34m=\u001b[0m\u001b[0mparams\u001b[0m\u001b[0;34m)\u001b[0m\u001b[0;34m\u001b[0m\u001b[0;34m\u001b[0m\u001b[0m\n\u001b[0m\u001b[1;32m     68\u001b[0m \u001b[0;34m\u001b[0m\u001b[0m\n\u001b[1;32m     69\u001b[0m     \u001b[0;32mdef\u001b[0m \u001b[0msample\u001b[0m\u001b[0;34m(\u001b[0m\u001b[0mself\u001b[0m\u001b[0;34m,\u001b[0m \u001b[0;34m**\u001b[0m\u001b[0mparams\u001b[0m\u001b[0;34m)\u001b[0m\u001b[0;34m:\u001b[0m\u001b[0;34m\u001b[0m\u001b[0;34m\u001b[0m\u001b[0m\n",
      "\u001b[0;32m/opt/anaconda3/lib/python3.7/site-packages/twython/streaming/api.py\u001b[0m in \u001b[0;36m_request\u001b[0;34m(self, url, method, params)\u001b[0m\n\u001b[1;32m    139\u001b[0m             \u001b[0mresponse\u001b[0m \u001b[0;34m=\u001b[0m \u001b[0m_send\u001b[0m\u001b[0;34m(\u001b[0m\u001b[0mretry_counter\u001b[0m\u001b[0;34m)\u001b[0m\u001b[0;34m\u001b[0m\u001b[0;34m\u001b[0m\u001b[0m\n\u001b[1;32m    140\u001b[0m \u001b[0;34m\u001b[0m\u001b[0m\n\u001b[0;32m--> 141\u001b[0;31m             \u001b[0;32mfor\u001b[0m \u001b[0mline\u001b[0m \u001b[0;32min\u001b[0m \u001b[0mresponse\u001b[0m\u001b[0;34m.\u001b[0m\u001b[0miter_lines\u001b[0m\u001b[0;34m(\u001b[0m\u001b[0mself\u001b[0m\u001b[0;34m.\u001b[0m\u001b[0mchunk_size\u001b[0m\u001b[0;34m)\u001b[0m\u001b[0;34m:\u001b[0m\u001b[0;34m\u001b[0m\u001b[0;34m\u001b[0m\u001b[0m\n\u001b[0m\u001b[1;32m    142\u001b[0m                 \u001b[0;32mif\u001b[0m \u001b[0;32mnot\u001b[0m \u001b[0mself\u001b[0m\u001b[0;34m.\u001b[0m\u001b[0mconnected\u001b[0m\u001b[0;34m:\u001b[0m\u001b[0;34m\u001b[0m\u001b[0;34m\u001b[0m\u001b[0m\n\u001b[1;32m    143\u001b[0m                     \u001b[0;32mbreak\u001b[0m\u001b[0;34m\u001b[0m\u001b[0;34m\u001b[0m\u001b[0m\n",
      "\u001b[0;32m/opt/anaconda3/lib/python3.7/site-packages/requests/models.py\u001b[0m in \u001b[0;36miter_lines\u001b[0;34m(self, chunk_size, decode_unicode, delimiter)\u001b[0m\n\u001b[1;32m    792\u001b[0m         \u001b[0mpending\u001b[0m \u001b[0;34m=\u001b[0m \u001b[0;32mNone\u001b[0m\u001b[0;34m\u001b[0m\u001b[0;34m\u001b[0m\u001b[0m\n\u001b[1;32m    793\u001b[0m \u001b[0;34m\u001b[0m\u001b[0m\n\u001b[0;32m--> 794\u001b[0;31m         \u001b[0;32mfor\u001b[0m \u001b[0mchunk\u001b[0m \u001b[0;32min\u001b[0m \u001b[0mself\u001b[0m\u001b[0;34m.\u001b[0m\u001b[0miter_content\u001b[0m\u001b[0;34m(\u001b[0m\u001b[0mchunk_size\u001b[0m\u001b[0;34m=\u001b[0m\u001b[0mchunk_size\u001b[0m\u001b[0;34m,\u001b[0m \u001b[0mdecode_unicode\u001b[0m\u001b[0;34m=\u001b[0m\u001b[0mdecode_unicode\u001b[0m\u001b[0;34m)\u001b[0m\u001b[0;34m:\u001b[0m\u001b[0;34m\u001b[0m\u001b[0;34m\u001b[0m\u001b[0m\n\u001b[0m\u001b[1;32m    795\u001b[0m \u001b[0;34m\u001b[0m\u001b[0m\n\u001b[1;32m    796\u001b[0m             \u001b[0;32mif\u001b[0m \u001b[0mpending\u001b[0m \u001b[0;32mis\u001b[0m \u001b[0;32mnot\u001b[0m \u001b[0;32mNone\u001b[0m\u001b[0;34m:\u001b[0m\u001b[0;34m\u001b[0m\u001b[0;34m\u001b[0m\u001b[0m\n",
      "\u001b[0;32m/opt/anaconda3/lib/python3.7/site-packages/requests/models.py\u001b[0m in \u001b[0;36mgenerate\u001b[0;34m()\u001b[0m\n\u001b[1;32m    748\u001b[0m             \u001b[0;32mif\u001b[0m \u001b[0mhasattr\u001b[0m\u001b[0;34m(\u001b[0m\u001b[0mself\u001b[0m\u001b[0;34m.\u001b[0m\u001b[0mraw\u001b[0m\u001b[0;34m,\u001b[0m \u001b[0;34m'stream'\u001b[0m\u001b[0;34m)\u001b[0m\u001b[0;34m:\u001b[0m\u001b[0;34m\u001b[0m\u001b[0;34m\u001b[0m\u001b[0m\n\u001b[1;32m    749\u001b[0m                 \u001b[0;32mtry\u001b[0m\u001b[0;34m:\u001b[0m\u001b[0;34m\u001b[0m\u001b[0;34m\u001b[0m\u001b[0m\n\u001b[0;32m--> 750\u001b[0;31m                     \u001b[0;32mfor\u001b[0m \u001b[0mchunk\u001b[0m \u001b[0;32min\u001b[0m \u001b[0mself\u001b[0m\u001b[0;34m.\u001b[0m\u001b[0mraw\u001b[0m\u001b[0;34m.\u001b[0m\u001b[0mstream\u001b[0m\u001b[0;34m(\u001b[0m\u001b[0mchunk_size\u001b[0m\u001b[0;34m,\u001b[0m \u001b[0mdecode_content\u001b[0m\u001b[0;34m=\u001b[0m\u001b[0;32mTrue\u001b[0m\u001b[0;34m)\u001b[0m\u001b[0;34m:\u001b[0m\u001b[0;34m\u001b[0m\u001b[0;34m\u001b[0m\u001b[0m\n\u001b[0m\u001b[1;32m    751\u001b[0m                         \u001b[0;32myield\u001b[0m \u001b[0mchunk\u001b[0m\u001b[0;34m\u001b[0m\u001b[0;34m\u001b[0m\u001b[0m\n\u001b[1;32m    752\u001b[0m                 \u001b[0;32mexcept\u001b[0m \u001b[0mProtocolError\u001b[0m \u001b[0;32mas\u001b[0m \u001b[0me\u001b[0m\u001b[0;34m:\u001b[0m\u001b[0;34m\u001b[0m\u001b[0;34m\u001b[0m\u001b[0m\n",
      "\u001b[0;32m/opt/anaconda3/lib/python3.7/site-packages/urllib3/response.py\u001b[0m in \u001b[0;36mstream\u001b[0;34m(self, amt, decode_content)\u001b[0m\n\u001b[1;32m    488\u001b[0m         \"\"\"\n\u001b[1;32m    489\u001b[0m         \u001b[0;32mif\u001b[0m \u001b[0mself\u001b[0m\u001b[0;34m.\u001b[0m\u001b[0mchunked\u001b[0m \u001b[0;32mand\u001b[0m \u001b[0mself\u001b[0m\u001b[0;34m.\u001b[0m\u001b[0msupports_chunked_reads\u001b[0m\u001b[0;34m(\u001b[0m\u001b[0;34m)\u001b[0m\u001b[0;34m:\u001b[0m\u001b[0;34m\u001b[0m\u001b[0;34m\u001b[0m\u001b[0m\n\u001b[0;32m--> 490\u001b[0;31m             \u001b[0;32mfor\u001b[0m \u001b[0mline\u001b[0m \u001b[0;32min\u001b[0m \u001b[0mself\u001b[0m\u001b[0;34m.\u001b[0m\u001b[0mread_chunked\u001b[0m\u001b[0;34m(\u001b[0m\u001b[0mamt\u001b[0m\u001b[0;34m,\u001b[0m \u001b[0mdecode_content\u001b[0m\u001b[0;34m=\u001b[0m\u001b[0mdecode_content\u001b[0m\u001b[0;34m)\u001b[0m\u001b[0;34m:\u001b[0m\u001b[0;34m\u001b[0m\u001b[0;34m\u001b[0m\u001b[0m\n\u001b[0m\u001b[1;32m    491\u001b[0m                 \u001b[0;32myield\u001b[0m \u001b[0mline\u001b[0m\u001b[0;34m\u001b[0m\u001b[0;34m\u001b[0m\u001b[0m\n\u001b[1;32m    492\u001b[0m         \u001b[0;32melse\u001b[0m\u001b[0;34m:\u001b[0m\u001b[0;34m\u001b[0m\u001b[0;34m\u001b[0m\u001b[0m\n",
      "\u001b[0;32m/opt/anaconda3/lib/python3.7/site-packages/urllib3/response.py\u001b[0m in \u001b[0;36mread_chunked\u001b[0;34m(self, amt, decode_content)\u001b[0m\n\u001b[1;32m    664\u001b[0m \u001b[0;34m\u001b[0m\u001b[0m\n\u001b[1;32m    665\u001b[0m             \u001b[0;32mwhile\u001b[0m \u001b[0;32mTrue\u001b[0m\u001b[0;34m:\u001b[0m\u001b[0;34m\u001b[0m\u001b[0;34m\u001b[0m\u001b[0m\n\u001b[0;32m--> 666\u001b[0;31m                 \u001b[0mself\u001b[0m\u001b[0;34m.\u001b[0m\u001b[0m_update_chunk_length\u001b[0m\u001b[0;34m(\u001b[0m\u001b[0;34m)\u001b[0m\u001b[0;34m\u001b[0m\u001b[0;34m\u001b[0m\u001b[0m\n\u001b[0m\u001b[1;32m    667\u001b[0m                 \u001b[0;32mif\u001b[0m \u001b[0mself\u001b[0m\u001b[0;34m.\u001b[0m\u001b[0mchunk_left\u001b[0m \u001b[0;34m==\u001b[0m \u001b[0;36m0\u001b[0m\u001b[0;34m:\u001b[0m\u001b[0;34m\u001b[0m\u001b[0;34m\u001b[0m\u001b[0m\n\u001b[1;32m    668\u001b[0m                     \u001b[0;32mbreak\u001b[0m\u001b[0;34m\u001b[0m\u001b[0;34m\u001b[0m\u001b[0m\n",
      "\u001b[0;32m/opt/anaconda3/lib/python3.7/site-packages/urllib3/response.py\u001b[0m in \u001b[0;36m_update_chunk_length\u001b[0;34m(self)\u001b[0m\n\u001b[1;32m    596\u001b[0m         \u001b[0;32mif\u001b[0m \u001b[0mself\u001b[0m\u001b[0;34m.\u001b[0m\u001b[0mchunk_left\u001b[0m \u001b[0;32mis\u001b[0m \u001b[0;32mnot\u001b[0m \u001b[0;32mNone\u001b[0m\u001b[0;34m:\u001b[0m\u001b[0;34m\u001b[0m\u001b[0;34m\u001b[0m\u001b[0m\n\u001b[1;32m    597\u001b[0m             \u001b[0;32mreturn\u001b[0m\u001b[0;34m\u001b[0m\u001b[0;34m\u001b[0m\u001b[0m\n\u001b[0;32m--> 598\u001b[0;31m         \u001b[0mline\u001b[0m \u001b[0;34m=\u001b[0m \u001b[0mself\u001b[0m\u001b[0;34m.\u001b[0m\u001b[0m_fp\u001b[0m\u001b[0;34m.\u001b[0m\u001b[0mfp\u001b[0m\u001b[0;34m.\u001b[0m\u001b[0mreadline\u001b[0m\u001b[0;34m(\u001b[0m\u001b[0;34m)\u001b[0m\u001b[0;34m\u001b[0m\u001b[0;34m\u001b[0m\u001b[0m\n\u001b[0m\u001b[1;32m    599\u001b[0m         \u001b[0mline\u001b[0m \u001b[0;34m=\u001b[0m \u001b[0mline\u001b[0m\u001b[0;34m.\u001b[0m\u001b[0msplit\u001b[0m\u001b[0;34m(\u001b[0m\u001b[0;34mb';'\u001b[0m\u001b[0;34m,\u001b[0m \u001b[0;36m1\u001b[0m\u001b[0;34m)\u001b[0m\u001b[0;34m[\u001b[0m\u001b[0;36m0\u001b[0m\u001b[0;34m]\u001b[0m\u001b[0;34m\u001b[0m\u001b[0;34m\u001b[0m\u001b[0m\n\u001b[1;32m    600\u001b[0m         \u001b[0;32mtry\u001b[0m\u001b[0;34m:\u001b[0m\u001b[0;34m\u001b[0m\u001b[0;34m\u001b[0m\u001b[0m\n",
      "\u001b[0;32m/opt/anaconda3/lib/python3.7/socket.py\u001b[0m in \u001b[0;36mreadinto\u001b[0;34m(self, b)\u001b[0m\n\u001b[1;32m    587\u001b[0m         \u001b[0;32mwhile\u001b[0m \u001b[0;32mTrue\u001b[0m\u001b[0;34m:\u001b[0m\u001b[0;34m\u001b[0m\u001b[0;34m\u001b[0m\u001b[0m\n\u001b[1;32m    588\u001b[0m             \u001b[0;32mtry\u001b[0m\u001b[0;34m:\u001b[0m\u001b[0;34m\u001b[0m\u001b[0;34m\u001b[0m\u001b[0m\n\u001b[0;32m--> 589\u001b[0;31m                 \u001b[0;32mreturn\u001b[0m \u001b[0mself\u001b[0m\u001b[0;34m.\u001b[0m\u001b[0m_sock\u001b[0m\u001b[0;34m.\u001b[0m\u001b[0mrecv_into\u001b[0m\u001b[0;34m(\u001b[0m\u001b[0mb\u001b[0m\u001b[0;34m)\u001b[0m\u001b[0;34m\u001b[0m\u001b[0;34m\u001b[0m\u001b[0m\n\u001b[0m\u001b[1;32m    590\u001b[0m             \u001b[0;32mexcept\u001b[0m \u001b[0mtimeout\u001b[0m\u001b[0;34m:\u001b[0m\u001b[0;34m\u001b[0m\u001b[0;34m\u001b[0m\u001b[0m\n\u001b[1;32m    591\u001b[0m                 \u001b[0mself\u001b[0m\u001b[0;34m.\u001b[0m\u001b[0m_timeout_occurred\u001b[0m \u001b[0;34m=\u001b[0m \u001b[0;32mTrue\u001b[0m\u001b[0;34m\u001b[0m\u001b[0;34m\u001b[0m\u001b[0m\n",
      "\u001b[0;32m/opt/anaconda3/lib/python3.7/site-packages/urllib3/contrib/pyopenssl.py\u001b[0m in \u001b[0;36mrecv_into\u001b[0;34m(self, *args, **kwargs)\u001b[0m\n\u001b[1;32m    307\u001b[0m                 \u001b[0;32mraise\u001b[0m\u001b[0;34m\u001b[0m\u001b[0;34m\u001b[0m\u001b[0m\n\u001b[1;32m    308\u001b[0m         \u001b[0;32mexcept\u001b[0m \u001b[0mOpenSSL\u001b[0m\u001b[0;34m.\u001b[0m\u001b[0mSSL\u001b[0m\u001b[0;34m.\u001b[0m\u001b[0mWantReadError\u001b[0m\u001b[0;34m:\u001b[0m\u001b[0;34m\u001b[0m\u001b[0;34m\u001b[0m\u001b[0m\n\u001b[0;32m--> 309\u001b[0;31m             \u001b[0;32mif\u001b[0m \u001b[0;32mnot\u001b[0m \u001b[0mutil\u001b[0m\u001b[0;34m.\u001b[0m\u001b[0mwait_for_read\u001b[0m\u001b[0;34m(\u001b[0m\u001b[0mself\u001b[0m\u001b[0;34m.\u001b[0m\u001b[0msocket\u001b[0m\u001b[0;34m,\u001b[0m \u001b[0mself\u001b[0m\u001b[0;34m.\u001b[0m\u001b[0msocket\u001b[0m\u001b[0;34m.\u001b[0m\u001b[0mgettimeout\u001b[0m\u001b[0;34m(\u001b[0m\u001b[0;34m)\u001b[0m\u001b[0;34m)\u001b[0m\u001b[0;34m:\u001b[0m\u001b[0;34m\u001b[0m\u001b[0;34m\u001b[0m\u001b[0m\n\u001b[0m\u001b[1;32m    310\u001b[0m                 \u001b[0;32mraise\u001b[0m \u001b[0mtimeout\u001b[0m\u001b[0;34m(\u001b[0m\u001b[0;34m'The read operation timed out'\u001b[0m\u001b[0;34m)\u001b[0m\u001b[0;34m\u001b[0m\u001b[0;34m\u001b[0m\u001b[0m\n\u001b[1;32m    311\u001b[0m             \u001b[0;32melse\u001b[0m\u001b[0;34m:\u001b[0m\u001b[0;34m\u001b[0m\u001b[0;34m\u001b[0m\u001b[0m\n",
      "\u001b[0;32m/opt/anaconda3/lib/python3.7/site-packages/urllib3/util/wait.py\u001b[0m in \u001b[0;36mwait_for_read\u001b[0;34m(sock, timeout)\u001b[0m\n\u001b[1;32m    141\u001b[0m     \u001b[0mReturns\u001b[0m \u001b[0;32mTrue\u001b[0m \u001b[0;32mif\u001b[0m \u001b[0mthe\u001b[0m \u001b[0msocket\u001b[0m \u001b[0;32mis\u001b[0m \u001b[0mreadable\u001b[0m\u001b[0;34m,\u001b[0m \u001b[0;32mor\u001b[0m \u001b[0;32mFalse\u001b[0m \u001b[0;32mif\u001b[0m \u001b[0mthe\u001b[0m \u001b[0mtimeout\u001b[0m \u001b[0mexpired\u001b[0m\u001b[0;34m.\u001b[0m\u001b[0;34m\u001b[0m\u001b[0;34m\u001b[0m\u001b[0m\n\u001b[1;32m    142\u001b[0m     \"\"\"\n\u001b[0;32m--> 143\u001b[0;31m     \u001b[0;32mreturn\u001b[0m \u001b[0mwait_for_socket\u001b[0m\u001b[0;34m(\u001b[0m\u001b[0msock\u001b[0m\u001b[0;34m,\u001b[0m \u001b[0mread\u001b[0m\u001b[0;34m=\u001b[0m\u001b[0;32mTrue\u001b[0m\u001b[0;34m,\u001b[0m \u001b[0mtimeout\u001b[0m\u001b[0;34m=\u001b[0m\u001b[0mtimeout\u001b[0m\u001b[0;34m)\u001b[0m\u001b[0;34m\u001b[0m\u001b[0;34m\u001b[0m\u001b[0m\n\u001b[0m\u001b[1;32m    144\u001b[0m \u001b[0;34m\u001b[0m\u001b[0m\n\u001b[1;32m    145\u001b[0m \u001b[0;34m\u001b[0m\u001b[0m\n",
      "\u001b[0;32m/opt/anaconda3/lib/python3.7/site-packages/urllib3/util/wait.py\u001b[0m in \u001b[0;36mpoll_wait_for_socket\u001b[0;34m(sock, read, write, timeout)\u001b[0m\n\u001b[1;32m    102\u001b[0m         \u001b[0;32mreturn\u001b[0m \u001b[0mpoll_obj\u001b[0m\u001b[0;34m.\u001b[0m\u001b[0mpoll\u001b[0m\u001b[0;34m(\u001b[0m\u001b[0mt\u001b[0m\u001b[0;34m)\u001b[0m\u001b[0;34m\u001b[0m\u001b[0;34m\u001b[0m\u001b[0m\n\u001b[1;32m    103\u001b[0m \u001b[0;34m\u001b[0m\u001b[0m\n\u001b[0;32m--> 104\u001b[0;31m     \u001b[0;32mreturn\u001b[0m \u001b[0mbool\u001b[0m\u001b[0;34m(\u001b[0m\u001b[0m_retry_on_intr\u001b[0m\u001b[0;34m(\u001b[0m\u001b[0mdo_poll\u001b[0m\u001b[0;34m,\u001b[0m \u001b[0mtimeout\u001b[0m\u001b[0;34m)\u001b[0m\u001b[0;34m)\u001b[0m\u001b[0;34m\u001b[0m\u001b[0;34m\u001b[0m\u001b[0m\n\u001b[0m\u001b[1;32m    105\u001b[0m \u001b[0;34m\u001b[0m\u001b[0m\n\u001b[1;32m    106\u001b[0m \u001b[0;34m\u001b[0m\u001b[0m\n",
      "\u001b[0;32m/opt/anaconda3/lib/python3.7/site-packages/urllib3/util/wait.py\u001b[0m in \u001b[0;36m_retry_on_intr\u001b[0;34m(fn, timeout)\u001b[0m\n\u001b[1;32m     40\u001b[0m     \u001b[0;31m# Modern Python, that retries syscalls by default\u001b[0m\u001b[0;34m\u001b[0m\u001b[0;34m\u001b[0m\u001b[0;34m\u001b[0m\u001b[0m\n\u001b[1;32m     41\u001b[0m     \u001b[0;32mdef\u001b[0m \u001b[0m_retry_on_intr\u001b[0m\u001b[0;34m(\u001b[0m\u001b[0mfn\u001b[0m\u001b[0;34m,\u001b[0m \u001b[0mtimeout\u001b[0m\u001b[0;34m)\u001b[0m\u001b[0;34m:\u001b[0m\u001b[0;34m\u001b[0m\u001b[0;34m\u001b[0m\u001b[0m\n\u001b[0;32m---> 42\u001b[0;31m         \u001b[0;32mreturn\u001b[0m \u001b[0mfn\u001b[0m\u001b[0;34m(\u001b[0m\u001b[0mtimeout\u001b[0m\u001b[0;34m)\u001b[0m\u001b[0;34m\u001b[0m\u001b[0;34m\u001b[0m\u001b[0m\n\u001b[0m\u001b[1;32m     43\u001b[0m \u001b[0;32melse\u001b[0m\u001b[0;34m:\u001b[0m\u001b[0;34m\u001b[0m\u001b[0;34m\u001b[0m\u001b[0m\n\u001b[1;32m     44\u001b[0m     \u001b[0;31m# Old and broken Pythons.\u001b[0m\u001b[0;34m\u001b[0m\u001b[0;34m\u001b[0m\u001b[0;34m\u001b[0m\u001b[0m\n",
      "\u001b[0;32m/opt/anaconda3/lib/python3.7/site-packages/urllib3/util/wait.py\u001b[0m in \u001b[0;36mdo_poll\u001b[0;34m(t)\u001b[0m\n\u001b[1;32m    100\u001b[0m         \u001b[0;32mif\u001b[0m \u001b[0mt\u001b[0m \u001b[0;32mis\u001b[0m \u001b[0;32mnot\u001b[0m \u001b[0;32mNone\u001b[0m\u001b[0;34m:\u001b[0m\u001b[0;34m\u001b[0m\u001b[0;34m\u001b[0m\u001b[0m\n\u001b[1;32m    101\u001b[0m             \u001b[0mt\u001b[0m \u001b[0;34m*=\u001b[0m \u001b[0;36m1000\u001b[0m\u001b[0;34m\u001b[0m\u001b[0;34m\u001b[0m\u001b[0m\n\u001b[0;32m--> 102\u001b[0;31m         \u001b[0;32mreturn\u001b[0m \u001b[0mpoll_obj\u001b[0m\u001b[0;34m.\u001b[0m\u001b[0mpoll\u001b[0m\u001b[0;34m(\u001b[0m\u001b[0mt\u001b[0m\u001b[0;34m)\u001b[0m\u001b[0;34m\u001b[0m\u001b[0;34m\u001b[0m\u001b[0m\n\u001b[0m\u001b[1;32m    103\u001b[0m \u001b[0;34m\u001b[0m\u001b[0m\n\u001b[1;32m    104\u001b[0m     \u001b[0;32mreturn\u001b[0m \u001b[0mbool\u001b[0m\u001b[0;34m(\u001b[0m\u001b[0m_retry_on_intr\u001b[0m\u001b[0;34m(\u001b[0m\u001b[0mdo_poll\u001b[0m\u001b[0;34m,\u001b[0m \u001b[0mtimeout\u001b[0m\u001b[0;34m)\u001b[0m\u001b[0;34m)\u001b[0m\u001b[0;34m\u001b[0m\u001b[0;34m\u001b[0m\u001b[0m\n",
      "\u001b[0;31mKeyboardInterrupt\u001b[0m: "
     ]
    }
   ],
   "source": [
    "# Instantiate from our streaming class\n",
    "stream = MyStreamer(app_key, app_secret_key,\n",
    "                  access_token, access_token_secret)\n",
    "# Start the stream\n",
    "tweets = stream.statuses.filter(track='conservative')"
   ]
  },
  {
   "cell_type": "code",
   "execution_count": 87,
   "metadata": {
    "scrolled": true
   },
   "outputs": [
    {
     "ename": "AttributeError",
     "evalue": "'DataFrame' object has no attribute 'hashtags'",
     "output_type": "error",
     "traceback": [
      "\u001b[0;31m---------------------------------------------------------------------------\u001b[0m",
      "\u001b[0;31mAttributeError\u001b[0m                            Traceback (most recent call last)",
      "\u001b[0;32m<ipython-input-87-0db6a7bce03b>\u001b[0m in \u001b[0;36m<module>\u001b[0;34m\u001b[0m\n\u001b[1;32m      5\u001b[0m \u001b[0;34m\u001b[0m\u001b[0m\n\u001b[1;32m      6\u001b[0m \u001b[0;31m# Extract hashtags and put them in a list\u001b[0m\u001b[0;34m\u001b[0m\u001b[0;34m\u001b[0m\u001b[0;34m\u001b[0m\u001b[0m\n\u001b[0;32m----> 7\u001b[0;31m \u001b[0mlist_hashtag_strings\u001b[0m \u001b[0;34m=\u001b[0m \u001b[0;34m[\u001b[0m\u001b[0mentry\u001b[0m \u001b[0;32mfor\u001b[0m \u001b[0mentry\u001b[0m \u001b[0;32min\u001b[0m \u001b[0mtweets\u001b[0m\u001b[0;34m.\u001b[0m\u001b[0mhashtags\u001b[0m\u001b[0;34m]\u001b[0m\u001b[0;34m\u001b[0m\u001b[0;34m\u001b[0m\u001b[0m\n\u001b[0m\u001b[1;32m      8\u001b[0m \u001b[0mlist_hashtag_lists\u001b[0m \u001b[0;34m=\u001b[0m \u001b[0mast\u001b[0m\u001b[0;34m.\u001b[0m\u001b[0mliteral_eval\u001b[0m\u001b[0;34m(\u001b[0m\u001b[0;34m','\u001b[0m\u001b[0;34m.\u001b[0m\u001b[0mjoin\u001b[0m\u001b[0;34m(\u001b[0m\u001b[0mlist_hashtag_strings\u001b[0m\u001b[0;34m)\u001b[0m\u001b[0;34m)\u001b[0m\u001b[0;34m\u001b[0m\u001b[0;34m\u001b[0m\u001b[0m\n\u001b[1;32m      9\u001b[0m \u001b[0mhashtag_list\u001b[0m \u001b[0;34m=\u001b[0m \u001b[0;34m[\u001b[0m\u001b[0mht\u001b[0m\u001b[0;34m.\u001b[0m\u001b[0mlower\u001b[0m\u001b[0;34m(\u001b[0m\u001b[0;34m)\u001b[0m \u001b[0;32mfor\u001b[0m \u001b[0mlist_\u001b[0m \u001b[0;32min\u001b[0m \u001b[0mlist_hashtag_lists\u001b[0m \u001b[0;32mfor\u001b[0m \u001b[0mht\u001b[0m \u001b[0;32min\u001b[0m \u001b[0mlist_\u001b[0m\u001b[0;34m]\u001b[0m\u001b[0;34m\u001b[0m\u001b[0;34m\u001b[0m\u001b[0m\n",
      "\u001b[0;32m/opt/anaconda3/lib/python3.7/site-packages/pandas/core/generic.py\u001b[0m in \u001b[0;36m__getattr__\u001b[0;34m(self, name)\u001b[0m\n\u001b[1;32m   5177\u001b[0m             \u001b[0;32mif\u001b[0m \u001b[0mself\u001b[0m\u001b[0;34m.\u001b[0m\u001b[0m_info_axis\u001b[0m\u001b[0;34m.\u001b[0m\u001b[0m_can_hold_identifiers_and_holds_name\u001b[0m\u001b[0;34m(\u001b[0m\u001b[0mname\u001b[0m\u001b[0;34m)\u001b[0m\u001b[0;34m:\u001b[0m\u001b[0;34m\u001b[0m\u001b[0;34m\u001b[0m\u001b[0m\n\u001b[1;32m   5178\u001b[0m                 \u001b[0;32mreturn\u001b[0m \u001b[0mself\u001b[0m\u001b[0;34m[\u001b[0m\u001b[0mname\u001b[0m\u001b[0;34m]\u001b[0m\u001b[0;34m\u001b[0m\u001b[0;34m\u001b[0m\u001b[0m\n\u001b[0;32m-> 5179\u001b[0;31m             \u001b[0;32mreturn\u001b[0m \u001b[0mobject\u001b[0m\u001b[0;34m.\u001b[0m\u001b[0m__getattribute__\u001b[0m\u001b[0;34m(\u001b[0m\u001b[0mself\u001b[0m\u001b[0;34m,\u001b[0m \u001b[0mname\u001b[0m\u001b[0;34m)\u001b[0m\u001b[0;34m\u001b[0m\u001b[0;34m\u001b[0m\u001b[0m\n\u001b[0m\u001b[1;32m   5180\u001b[0m \u001b[0;34m\u001b[0m\u001b[0m\n\u001b[1;32m   5181\u001b[0m     \u001b[0;32mdef\u001b[0m \u001b[0m__setattr__\u001b[0m\u001b[0;34m(\u001b[0m\u001b[0mself\u001b[0m\u001b[0;34m,\u001b[0m \u001b[0mname\u001b[0m\u001b[0;34m,\u001b[0m \u001b[0mvalue\u001b[0m\u001b[0;34m)\u001b[0m\u001b[0;34m:\u001b[0m\u001b[0;34m\u001b[0m\u001b[0;34m\u001b[0m\u001b[0m\n",
      "\u001b[0;31mAttributeError\u001b[0m: 'DataFrame' object has no attribute 'hashtags'"
     ]
    }
   ],
   "source": [
    "# Basic EDA\n",
    "\n",
    "from collections import Counter\n",
    "import ast\n",
    "\n",
    "# Extract hashtags and put them in a list\n",
    "list_hashtag_strings = [entry for entry in tweets.hashtags]\n",
    "list_hashtag_lists = ast.literal_eval(','.join(list_hashtag_strings))\n",
    "hashtag_list = [ht.lower() for list_ in list_hashtag_lists for ht in list_]\n",
    "\n",
    "# Count most common hashtags\n",
    "counter_hashtags = Counter(hashtag_list)\n",
    "counter_hashtags.most_common(20)"
   ]
  },
  {
   "cell_type": "code",
   "execution_count": 69,
   "metadata": {},
   "outputs": [
    {
     "name": "stderr",
     "output_type": "stream",
     "text": [
      "/opt/anaconda3/lib/python3.7/site-packages/ipykernel_launcher.py:4: DeprecationWarning: Using Nominatim with the default \"geopy/1.20.0\" `user_agent` is strongly discouraged, as it violates Nominatim's ToS https://operations.osmfoundation.org/policies/nominatim/ and may possibly cause 403 and 429 HTTP errors. Please specify a custom `user_agent` with `Nominatim(user_agent=\"my-application\")` or by overriding the default `user_agent`: `geopy.geocoders.options.default_user_agent = \"my-application\"`. In geopy 2.0 this will become an exception.\n",
      "  after removing the cwd from sys.path.\n"
     ]
    },
    {
     "ename": "AttributeError",
     "evalue": "'DataFrame' object has no attribute 'location'",
     "output_type": "error",
     "traceback": [
      "\u001b[0;31m---------------------------------------------------------------------------\u001b[0m",
      "\u001b[0;31mAttributeError\u001b[0m                            Traceback (most recent call last)",
      "\u001b[0;32m<ipython-input-69-ff14fee92a81>\u001b[0m in \u001b[0;36m<module>\u001b[0;34m\u001b[0m\n\u001b[1;32m      6\u001b[0m \u001b[0;31m# Go through all tweets and add locations to 'coordinates' dictionary\u001b[0m\u001b[0;34m\u001b[0m\u001b[0;34m\u001b[0m\u001b[0;34m\u001b[0m\u001b[0m\n\u001b[1;32m      7\u001b[0m \u001b[0mcoordinates\u001b[0m \u001b[0;34m=\u001b[0m \u001b[0;34m{\u001b[0m\u001b[0;34m'latitude'\u001b[0m\u001b[0;34m:\u001b[0m \u001b[0;34m[\u001b[0m\u001b[0;34m]\u001b[0m\u001b[0;34m,\u001b[0m \u001b[0;34m'longitude'\u001b[0m\u001b[0;34m:\u001b[0m \u001b[0;34m[\u001b[0m\u001b[0;34m]\u001b[0m\u001b[0;34m}\u001b[0m\u001b[0;34m\u001b[0m\u001b[0;34m\u001b[0m\u001b[0m\n\u001b[0;32m----> 8\u001b[0;31m \u001b[0;32mfor\u001b[0m \u001b[0mcount\u001b[0m\u001b[0;34m,\u001b[0m \u001b[0muser_loc\u001b[0m \u001b[0;32min\u001b[0m \u001b[0menumerate\u001b[0m\u001b[0;34m(\u001b[0m\u001b[0mtweets\u001b[0m\u001b[0;34m.\u001b[0m\u001b[0mlocation\u001b[0m\u001b[0;34m)\u001b[0m\u001b[0;34m:\u001b[0m\u001b[0;34m\u001b[0m\u001b[0;34m\u001b[0m\u001b[0m\n\u001b[0m\u001b[1;32m      9\u001b[0m     \u001b[0;32mtry\u001b[0m\u001b[0;34m:\u001b[0m\u001b[0;34m\u001b[0m\u001b[0;34m\u001b[0m\u001b[0m\n\u001b[1;32m     10\u001b[0m         \u001b[0mlocation\u001b[0m \u001b[0;34m=\u001b[0m \u001b[0mgeolocator\u001b[0m\u001b[0;34m.\u001b[0m\u001b[0mgeocode\u001b[0m\u001b[0;34m(\u001b[0m\u001b[0muser_loc\u001b[0m\u001b[0;34m)\u001b[0m\u001b[0;34m\u001b[0m\u001b[0;34m\u001b[0m\u001b[0m\n",
      "\u001b[0;32m/opt/anaconda3/lib/python3.7/site-packages/pandas/core/generic.py\u001b[0m in \u001b[0;36m__getattr__\u001b[0;34m(self, name)\u001b[0m\n\u001b[1;32m   5177\u001b[0m             \u001b[0;32mif\u001b[0m \u001b[0mself\u001b[0m\u001b[0;34m.\u001b[0m\u001b[0m_info_axis\u001b[0m\u001b[0;34m.\u001b[0m\u001b[0m_can_hold_identifiers_and_holds_name\u001b[0m\u001b[0;34m(\u001b[0m\u001b[0mname\u001b[0m\u001b[0;34m)\u001b[0m\u001b[0;34m:\u001b[0m\u001b[0;34m\u001b[0m\u001b[0;34m\u001b[0m\u001b[0m\n\u001b[1;32m   5178\u001b[0m                 \u001b[0;32mreturn\u001b[0m \u001b[0mself\u001b[0m\u001b[0;34m[\u001b[0m\u001b[0mname\u001b[0m\u001b[0;34m]\u001b[0m\u001b[0;34m\u001b[0m\u001b[0;34m\u001b[0m\u001b[0m\n\u001b[0;32m-> 5179\u001b[0;31m             \u001b[0;32mreturn\u001b[0m \u001b[0mobject\u001b[0m\u001b[0;34m.\u001b[0m\u001b[0m__getattribute__\u001b[0m\u001b[0;34m(\u001b[0m\u001b[0mself\u001b[0m\u001b[0;34m,\u001b[0m \u001b[0mname\u001b[0m\u001b[0;34m)\u001b[0m\u001b[0;34m\u001b[0m\u001b[0;34m\u001b[0m\u001b[0m\n\u001b[0m\u001b[1;32m   5180\u001b[0m \u001b[0;34m\u001b[0m\u001b[0m\n\u001b[1;32m   5181\u001b[0m     \u001b[0;32mdef\u001b[0m \u001b[0m__setattr__\u001b[0m\u001b[0;34m(\u001b[0m\u001b[0mself\u001b[0m\u001b[0;34m,\u001b[0m \u001b[0mname\u001b[0m\u001b[0;34m,\u001b[0m \u001b[0mvalue\u001b[0m\u001b[0;34m)\u001b[0m\u001b[0;34m:\u001b[0m\u001b[0;34m\u001b[0m\u001b[0;34m\u001b[0m\u001b[0m\n",
      "\u001b[0;31mAttributeError\u001b[0m: 'DataFrame' object has no attribute 'location'"
     ]
    }
   ],
   "source": [
    "from geopy.geocoders import Nominatim\n",
    "import gmplot\n",
    "\n",
    "geolocator = Nominatim()\n",
    "\n",
    "# Go through all tweets and add locations to 'coordinates' dictionary\n",
    "coordinates = {'latitude': [], 'longitude': []}\n",
    "for count, user_loc in enumerate(tweets.location):\n",
    "    try:\n",
    "        location = geolocator.geocode(user_loc)\n",
    "        \n",
    "        # If coordinates are found for location\n",
    "        if location:\n",
    "            coordinates['latitude'].append(location.latitude)\n",
    "            coordinates['longitude'].append(location.longitude)\n",
    "            \n",
    "    # If too many connection requests\n",
    "    except:\n",
    "        pass\n",
    "    \n",
    "# Instantiate and center a GoogleMapPlotter object to show our map\n",
    "gmap = gmplot.GoogleMapPlotter(30, 0, 3)\n",
    "\n",
    "# Insert points on the map passing a list of latitudes and longitudes\n",
    "gmap.heatmap(coordinates['latitude'], coordinates['longitude'], radius=20)\n",
    "\n",
    "# Save the map to html file\n",
    "gmap.draw(\"python_heatmap.html\")"
   ]
  },
  {
   "cell_type": "code",
   "execution_count": null,
   "metadata": {},
   "outputs": [],
   "source": []
  }
 ],
 "metadata": {
  "kernelspec": {
   "display_name": "Python 3",
   "language": "python",
   "name": "python3"
  },
  "language_info": {
   "codemirror_mode": {
    "name": "ipython",
    "version": 3
   },
   "file_extension": ".py",
   "mimetype": "text/x-python",
   "name": "python",
   "nbconvert_exporter": "python",
   "pygments_lexer": "ipython3",
   "version": "3.7.4"
  }
 },
 "nbformat": 4,
 "nbformat_minor": 2
}
